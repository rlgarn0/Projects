{
 "cells": [
  {
   "cell_type": "code",
   "execution_count": 1,
   "metadata": {},
   "outputs": [
    {
     "name": "stderr",
     "output_type": "stream",
     "text": [
      "INFO: {'User-Agent': 'Mozilla/5.0 (Macintosh; Intel Mac OS X 10_9_3) AppleWebKit/537.36 (KHTML, like Gecko) Chrome/35.0.1916.47 Safari/537.36'}\n"
     ]
    }
   ],
   "source": [
    "# Imports!\n",
    "\n",
    "from twitterscraper import query_tweets\n",
    "import tweepy\n",
    "import datetime\n",
    "import json, codecs\n",
    "import jsonpickle\n",
    "import GetOldTweets3 as got\n",
    "import math\n",
    "\n",
    "import pandas as pd\n",
    "pd.set_option('display.max_columns', None)\n",
    "pd.set_option('display.max_rows', None)"
   ]
  },
  {
   "cell_type": "code",
   "execution_count": 2,
   "metadata": {},
   "outputs": [],
   "source": [
    "# Load Twitter API credentials\n",
    "# Credit to Temple Moore for authentication help and setting up tweepy\n",
    "\n",
    "with open('../credentials.json') as creds:\n",
    "    info = json.load(creds)\n",
    "    consumer_key = info['CONSUMER_KEY']\n",
    "    consumer_secret = info['CONSUMER_SECRET']\n",
    "    access_token = info['ACCESS_TOKEN']\n",
    "    access_secret = info['ACCESS_SECRET']"
   ]
  },
  {
   "cell_type": "code",
   "execution_count": 3,
   "metadata": {},
   "outputs": [
    {
     "name": "stdout",
     "output_type": "stream",
     "text": [
      "Autentication Successful\n"
     ]
    }
   ],
   "source": [
    "# Authenticate to Twitter\n",
    "\n",
    "auth = tweepy.OAuthHandler(consumer_key, consumer_secret)\n",
    "auth.set_access_token(access_token, access_secret)\n",
    "\n",
    "api = tweepy.API(auth)\n",
    "\n",
    "try:\n",
    "    api.verify_credentials()\n",
    "    print(\"Autentication Successful\")\n",
    "except:\n",
    "    print(\"Error during authentication\")"
   ]
  },
  {
   "cell_type": "code",
   "execution_count": 4,
   "metadata": {},
   "outputs": [
    {
     "name": "stdout",
     "output_type": "stream",
     "text": [
      "DC DSI Client Project - Problem 1\n",
      "{'/search/tweets': {'limit': 180, 'remaining': 180, 'reset': 1564623542}}\n"
     ]
    }
   ],
   "source": [
    "user = api.me()\n",
    "print(user.name)\n",
    "print(api.rate_limit_status()['resources']['search'])"
   ]
  },
  {
   "cell_type": "code",
   "execution_count": 5,
   "metadata": {},
   "outputs": [],
   "source": [
    "# Function written by using code modified from Jasmine Vasandani via Temple Moore\n",
    "# With the help of got.manager, get all the tweets from specified timeframe, with specified query and search area\n",
    "# default distance of 20km, default maxtweets of 1500\n",
    "# Store all the collected tweets in DF\n",
    "\n",
    "def twit_scrape(since, until, query, near, dist='20km', maxtweets = 3000):\n",
    "    tweets=[]\n",
    "    final_df=pd.DataFrame()\n",
    "    tweetCriteria = got.manager.TweetCriteria().setSince(since).setUntil(until).setQuerySearch(query).setNear(near).setWithin(dist).setMaxTweets(maxtweets).setLang('en')\n",
    "    print(tweetCriteria)\n",
    "    tweet = got.manager.TweetManager.getTweets(tweetCriteria)\n",
    "    for i in range(len(tweet)):\n",
    "        tweet_dict = {}\n",
    "        tweet_dict['id'] = tweet[i].id\n",
    "        tweet_dict['username'] = tweet[i].username\n",
    "        tweet_dict['date'] = tweet[i].date\n",
    "        tweet_dict['text'] = tweet[i].text\n",
    "        tweet_dict['hashtags'] = tweet[i].hashtags\n",
    "        tweet_dict['geo'] = tweet[i].geo\n",
    "#         tweet_dict['lat'] = near[0]      # This doesn't work as intended - better not to use\n",
    "#         tweet_dict['long'] = near[1]     # This doesn't work as intended - better not to use\n",
    "        tweets.append(tweet_dict)\n",
    "\n",
    "    df1=pd.DataFrame(tweets)\n",
    "    final_df = pd.concat([df1.reset_index(), final_df.reset_index()], sort = True)\n",
    "    print(\"Shape of DataFrame:\", final_df.drop('index', axis = 1).shape)\n",
    "    return final_df.drop('index', axis = 1)"
   ]
  },
  {
   "cell_type": "code",
   "execution_count": 6,
   "metadata": {},
   "outputs": [
    {
     "name": "stdout",
     "output_type": "stream",
     "text": [
      "<GetOldTweets3.manager.TweetCriteria.TweetCriteria object at 0x119b324e0>\n",
      "Shape of DataFrame: (406, 8)\n"
     ]
    }
   ],
   "source": [
    "# Testing the above function to scrape tweets with passed parameters\n",
    "houston = twit_scrape(since='2017-08-24', until='2017-08-27', query='hurricane, OR harvey, OR flood, OR flooding',\n",
    "            near='29.7604, -95.3698')"
   ]
  },
  {
   "cell_type": "code",
   "execution_count": 7,
   "metadata": {},
   "outputs": [
    {
     "data": {
      "text/plain": [
       "(406, 8)"
      ]
     },
     "execution_count": 7,
     "metadata": {},
     "output_type": "execute_result"
    }
   ],
   "source": [
    "houston.shape"
   ]
  },
  {
   "cell_type": "code",
   "execution_count": 8,
   "metadata": {
    "scrolled": true
   },
   "outputs": [
    {
     "data": {
      "text/html": [
       "<div>\n",
       "<style scoped>\n",
       "    .dataframe tbody tr th:only-of-type {\n",
       "        vertical-align: middle;\n",
       "    }\n",
       "\n",
       "    .dataframe tbody tr th {\n",
       "        vertical-align: top;\n",
       "    }\n",
       "\n",
       "    .dataframe thead th {\n",
       "        text-align: right;\n",
       "    }\n",
       "</style>\n",
       "<table border=\"1\" class=\"dataframe\">\n",
       "  <thead>\n",
       "    <tr style=\"text-align: right;\">\n",
       "      <th></th>\n",
       "      <th>date</th>\n",
       "      <th>geo</th>\n",
       "      <th>hashtags</th>\n",
       "      <th>id</th>\n",
       "      <th>lat</th>\n",
       "      <th>long</th>\n",
       "      <th>text</th>\n",
       "      <th>username</th>\n",
       "    </tr>\n",
       "  </thead>\n",
       "  <tbody>\n",
       "    <tr>\n",
       "      <th>0</th>\n",
       "      <td>2017-08-26 23:42:09+00:00</td>\n",
       "      <td></td>\n",
       "      <td></td>\n",
       "      <td>901590620623523840</td>\n",
       "      <td>2</td>\n",
       "      <td>9</td>\n",
       "      <td>Power outages, flight cancellations after Harv...</td>\n",
       "      <td>BLifeAldine</td>\n",
       "    </tr>\n",
       "    <tr>\n",
       "      <th>1</th>\n",
       "      <td>2017-08-26 23:42:08+00:00</td>\n",
       "      <td></td>\n",
       "      <td></td>\n",
       "      <td>901590618845143042</td>\n",
       "      <td>2</td>\n",
       "      <td>9</td>\n",
       "      <td>Greenspoint, still in flood recovery, waits un...</td>\n",
       "      <td>BLifeAldine</td>\n",
       "    </tr>\n",
       "    <tr>\n",
       "      <th>2</th>\n",
       "      <td>2017-08-26 23:41:48+00:00</td>\n",
       "      <td></td>\n",
       "      <td></td>\n",
       "      <td>901590533440761856</td>\n",
       "      <td>2</td>\n",
       "      <td>9</td>\n",
       "      <td>Video: Lucky driver escapes flooded car after ...</td>\n",
       "      <td>BLifeAcresHomes</td>\n",
       "    </tr>\n",
       "    <tr>\n",
       "      <th>3</th>\n",
       "      <td>2017-08-26 23:41:02+00:00</td>\n",
       "      <td></td>\n",
       "      <td></td>\n",
       "      <td>901590339353444354</td>\n",
       "      <td>2</td>\n",
       "      <td>9</td>\n",
       "      <td>The bayou has risen since Hurricane Harvey has...</td>\n",
       "      <td>krivochenco</td>\n",
       "    </tr>\n",
       "    <tr>\n",
       "      <th>4</th>\n",
       "      <td>2017-08-26 23:36:38+00:00</td>\n",
       "      <td></td>\n",
       "      <td>#cicadas #harvey #westbury</td>\n",
       "      <td>901589234938675200</td>\n",
       "      <td>2</td>\n",
       "      <td>9</td>\n",
       "      <td>Almost dusk. Listen audio #cicadas #harvey #we...</td>\n",
       "      <td>DoBianchi</td>\n",
       "    </tr>\n",
       "  </tbody>\n",
       "</table>\n",
       "</div>"
      ],
      "text/plain": [
       "                       date geo                    hashtags  \\\n",
       "0 2017-08-26 23:42:09+00:00                                   \n",
       "1 2017-08-26 23:42:08+00:00                                   \n",
       "2 2017-08-26 23:41:48+00:00                                   \n",
       "3 2017-08-26 23:41:02+00:00                                   \n",
       "4 2017-08-26 23:36:38+00:00      #cicadas #harvey #westbury   \n",
       "\n",
       "                   id lat long  \\\n",
       "0  901590620623523840   2    9   \n",
       "1  901590618845143042   2    9   \n",
       "2  901590533440761856   2    9   \n",
       "3  901590339353444354   2    9   \n",
       "4  901589234938675200   2    9   \n",
       "\n",
       "                                                text         username  \n",
       "0  Power outages, flight cancellations after Harv...      BLifeAldine  \n",
       "1  Greenspoint, still in flood recovery, waits un...      BLifeAldine  \n",
       "2  Video: Lucky driver escapes flooded car after ...  BLifeAcresHomes  \n",
       "3  The bayou has risen since Hurricane Harvey has...      krivochenco  \n",
       "4  Almost dusk. Listen audio #cicadas #harvey #we...        DoBianchi  "
      ]
     },
     "execution_count": 8,
     "metadata": {},
     "output_type": "execute_result"
    }
   ],
   "source": [
    "houston.head()"
   ]
  },
  {
   "cell_type": "code",
   "execution_count": 9,
   "metadata": {},
   "outputs": [],
   "source": [
    "# def twit_scrape_grid(coords):\n",
    "#     for i in range(len(coords)):\n",
    "#         print(i)\n",
    "#         twit_scrape()"
   ]
  },
  {
   "cell_type": "code",
   "execution_count": 10,
   "metadata": {},
   "outputs": [],
   "source": [
    "# This saves the dataframe to a csv - change the name for each individual scrape\n",
    "# houston.to_csv('./data/harveyhouston_20km.csv', index = False)"
   ]
  }
 ],
 "metadata": {
  "kernelspec": {
   "display_name": "Python 3",
   "language": "python",
   "name": "python3"
  },
  "language_info": {
   "codemirror_mode": {
    "name": "ipython",
    "version": 3
   },
   "file_extension": ".py",
   "mimetype": "text/x-python",
   "name": "python",
   "nbconvert_exporter": "python",
   "pygments_lexer": "ipython3",
   "version": "3.7.3"
  }
 },
 "nbformat": 4,
 "nbformat_minor": 2
}
