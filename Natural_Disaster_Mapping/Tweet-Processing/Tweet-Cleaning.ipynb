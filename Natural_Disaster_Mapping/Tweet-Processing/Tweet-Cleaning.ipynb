{
 "cells": [
  {
   "cell_type": "code",
   "execution_count": 1,
   "metadata": {},
   "outputs": [],
   "source": [
    "import pandas as pd\n",
    "import regex as re\n",
    "\n",
    "pd.set_option('display.max_rows', 1000)\n",
    "pd.set_option('display.max_columns', 30)"
   ]
  },
  {
   "cell_type": "code",
   "execution_count": 2,
   "metadata": {},
   "outputs": [],
   "source": [
    "sandy = pd.read_csv('./CrisisLexT6/2012_Sandy_Hurricane/2012_Sandy_Hurricane-ontopic_offtopic.csv')\n",
    "oklahoma = pd.read_csv('./CrisisLexT6/2013_Oklahoma_Tornado/2013_Oklahoma_Tornado-ontopic_offtopic.csv')\n",
    "abflood = pd.read_csv('./CrisisLexT6/2013_Alberta_Floods/2013_Alberta_Floods-ontopic_offtopic.csv')\n",
    "qlflood = pd.read_csv('./CrisisLexT6/2013_Queensland_Floods/2013_Queensland_Floods-ontopic_offtopic.csv')\n",
    "\n",
    "sandy.columns = sandy.columns.str.strip()\n",
    "oklahoma.columns = oklahoma.columns.str.strip()\n",
    "abflood.columns = abflood.columns.str.strip()\n",
    "qlflood.columns = qlflood.columns.str.strip()"
   ]
  },
  {
   "cell_type": "code",
   "execution_count": 3,
   "metadata": {},
   "outputs": [],
   "source": [
    "sandy['label'] = sandy['label'].map({'off-topic': 0, 'on-topic': 1})\n",
    "oklahoma['label'] = oklahoma['label'].map({'off-topic': 0, 'on-topic': 1})\n",
    "abflood['label'] = abflood['label'].map({'off-topic': 0, 'on-topic': 1})\n",
    "qlflood['label'] = qlflood['label'].map({'off-topic': 0, 'on-topic': 1})"
   ]
  },
  {
   "cell_type": "code",
   "execution_count": 4,
   "metadata": {},
   "outputs": [
    {
     "data": {
      "text/html": [
       "<div>\n",
       "<style scoped>\n",
       "    .dataframe tbody tr th:only-of-type {\n",
       "        vertical-align: middle;\n",
       "    }\n",
       "\n",
       "    .dataframe tbody tr th {\n",
       "        vertical-align: top;\n",
       "    }\n",
       "\n",
       "    .dataframe thead th {\n",
       "        text-align: right;\n",
       "    }\n",
       "</style>\n",
       "<table border=\"1\" class=\"dataframe\">\n",
       "  <thead>\n",
       "    <tr style=\"text-align: right;\">\n",
       "      <th></th>\n",
       "      <th>tweet id</th>\n",
       "      <th>tweet</th>\n",
       "      <th>label</th>\n",
       "    </tr>\n",
       "  </thead>\n",
       "  <tbody>\n",
       "    <tr>\n",
       "      <th>0</th>\n",
       "      <td>'262596552399396864'</td>\n",
       "      <td>I've got enough candles to supply a Mexican fa...</td>\n",
       "      <td>0</td>\n",
       "    </tr>\n",
       "    <tr>\n",
       "      <th>1</th>\n",
       "      <td>'263044104500420609'</td>\n",
       "      <td>Sandy be soooo mad that she be shattering our ...</td>\n",
       "      <td>1</td>\n",
       "    </tr>\n",
       "    <tr>\n",
       "      <th>2</th>\n",
       "      <td>'263309629973491712'</td>\n",
       "      <td>@ibexgirl thankfully Hurricane Waugh played it...</td>\n",
       "      <td>0</td>\n",
       "    </tr>\n",
       "    <tr>\n",
       "      <th>3</th>\n",
       "      <td>'263422851133079552'</td>\n",
       "      <td>@taos you never got that magnificent case of B...</td>\n",
       "      <td>0</td>\n",
       "    </tr>\n",
       "    <tr>\n",
       "      <th>4</th>\n",
       "      <td>'262404311223504896'</td>\n",
       "      <td>I'm at Mad River Bar &amp;amp; Grille (New York, N...</td>\n",
       "      <td>0</td>\n",
       "    </tr>\n",
       "  </tbody>\n",
       "</table>\n",
       "</div>"
      ],
      "text/plain": [
       "               tweet id                                              tweet  \\\n",
       "0  '262596552399396864'  I've got enough candles to supply a Mexican fa...   \n",
       "1  '263044104500420609'  Sandy be soooo mad that she be shattering our ...   \n",
       "2  '263309629973491712'  @ibexgirl thankfully Hurricane Waugh played it...   \n",
       "3  '263422851133079552'  @taos you never got that magnificent case of B...   \n",
       "4  '262404311223504896'  I'm at Mad River Bar &amp; Grille (New York, N...   \n",
       "\n",
       "   label  \n",
       "0      0  \n",
       "1      1  \n",
       "2      0  \n",
       "3      0  \n",
       "4      0  "
      ]
     },
     "execution_count": 4,
     "metadata": {},
     "output_type": "execute_result"
    }
   ],
   "source": [
    "sandy.head()"
   ]
  },
  {
   "cell_type": "code",
   "execution_count": 5,
   "metadata": {},
   "outputs": [
    {
     "data": {
      "text/html": [
       "<div>\n",
       "<style scoped>\n",
       "    .dataframe tbody tr th:only-of-type {\n",
       "        vertical-align: middle;\n",
       "    }\n",
       "\n",
       "    .dataframe tbody tr th {\n",
       "        vertical-align: top;\n",
       "    }\n",
       "\n",
       "    .dataframe thead th {\n",
       "        text-align: right;\n",
       "    }\n",
       "</style>\n",
       "<table border=\"1\" class=\"dataframe\">\n",
       "  <thead>\n",
       "    <tr style=\"text-align: right;\">\n",
       "      <th></th>\n",
       "      <th>tweet id</th>\n",
       "      <th>tweet</th>\n",
       "      <th>label</th>\n",
       "    </tr>\n",
       "  </thead>\n",
       "  <tbody>\n",
       "    <tr>\n",
       "      <th>0</th>\n",
       "      <td>'336908711324962817'</td>\n",
       "      <td>@HeatleyJheat44 its barley even raining where ...</td>\n",
       "      <td>1</td>\n",
       "    </tr>\n",
       "    <tr>\n",
       "      <th>1</th>\n",
       "      <td>'337052158035890176'</td>\n",
       "      <td>Sorry I can't do anything right.</td>\n",
       "      <td>0</td>\n",
       "    </tr>\n",
       "    <tr>\n",
       "      <th>2</th>\n",
       "      <td>'339338021751103488'</td>\n",
       "      <td>@mrwendell29: @BradSowderWX  says we have the ...</td>\n",
       "      <td>1</td>\n",
       "    </tr>\n",
       "    <tr>\n",
       "      <th>3</th>\n",
       "      <td>'336339509077762051'</td>\n",
       "      <td>#honestyhour I like to wear half split running...</td>\n",
       "      <td>0</td>\n",
       "    </tr>\n",
       "    <tr>\n",
       "      <th>4</th>\n",
       "      <td>'337734129972035584'</td>\n",
       "      <td>I'm too stressed to have a good summer</td>\n",
       "      <td>0</td>\n",
       "    </tr>\n",
       "  </tbody>\n",
       "</table>\n",
       "</div>"
      ],
      "text/plain": [
       "               tweet id                                              tweet  \\\n",
       "0  '336908711324962817'  @HeatleyJheat44 its barley even raining where ...   \n",
       "1  '337052158035890176'                   Sorry I can't do anything right.   \n",
       "2  '339338021751103488'  @mrwendell29: @BradSowderWX  says we have the ...   \n",
       "3  '336339509077762051'  #honestyhour I like to wear half split running...   \n",
       "4  '337734129972035584'             I'm too stressed to have a good summer   \n",
       "\n",
       "   label  \n",
       "0      1  \n",
       "1      0  \n",
       "2      1  \n",
       "3      0  \n",
       "4      0  "
      ]
     },
     "execution_count": 5,
     "metadata": {},
     "output_type": "execute_result"
    }
   ],
   "source": [
    "oklahoma.head()"
   ]
  },
  {
   "cell_type": "code",
   "execution_count": 6,
   "metadata": {},
   "outputs": [
    {
     "data": {
      "text/html": [
       "<div>\n",
       "<style scoped>\n",
       "    .dataframe tbody tr th:only-of-type {\n",
       "        vertical-align: middle;\n",
       "    }\n",
       "\n",
       "    .dataframe tbody tr th {\n",
       "        vertical-align: top;\n",
       "    }\n",
       "\n",
       "    .dataframe thead th {\n",
       "        text-align: right;\n",
       "    }\n",
       "</style>\n",
       "<table border=\"1\" class=\"dataframe\">\n",
       "  <thead>\n",
       "    <tr style=\"text-align: right;\">\n",
       "      <th></th>\n",
       "      <th>tweet id</th>\n",
       "      <th>tweet</th>\n",
       "      <th>label</th>\n",
       "    </tr>\n",
       "  </thead>\n",
       "  <tbody>\n",
       "    <tr>\n",
       "      <th>0</th>\n",
       "      <td>'348351442404376578'</td>\n",
       "      <td>@Jay1972Jay Nope. Mid 80's. It's off Metallica...</td>\n",
       "      <td>0</td>\n",
       "    </tr>\n",
       "    <tr>\n",
       "      <th>1</th>\n",
       "      <td>'348167215536803841'</td>\n",
       "      <td>Nothing like a :16 second downpour to give us ...</td>\n",
       "      <td>0</td>\n",
       "    </tr>\n",
       "    <tr>\n",
       "      <th>2</th>\n",
       "      <td>'348644655786778624'</td>\n",
       "      <td>@NelsonTagoona so glad that you missed the flo...</td>\n",
       "      <td>1</td>\n",
       "    </tr>\n",
       "    <tr>\n",
       "      <th>3</th>\n",
       "      <td>'350519668815036416'</td>\n",
       "      <td>Party hard , suns down , still warm , lovin li...</td>\n",
       "      <td>0</td>\n",
       "    </tr>\n",
       "    <tr>\n",
       "      <th>4</th>\n",
       "      <td>'351446519733432320'</td>\n",
       "      <td>@Exclusionzone if you compare yourself to wate...</td>\n",
       "      <td>0</td>\n",
       "    </tr>\n",
       "  </tbody>\n",
       "</table>\n",
       "</div>"
      ],
      "text/plain": [
       "               tweet id                                              tweet  \\\n",
       "0  '348351442404376578'  @Jay1972Jay Nope. Mid 80's. It's off Metallica...   \n",
       "1  '348167215536803841'  Nothing like a :16 second downpour to give us ...   \n",
       "2  '348644655786778624'  @NelsonTagoona so glad that you missed the flo...   \n",
       "3  '350519668815036416'  Party hard , suns down , still warm , lovin li...   \n",
       "4  '351446519733432320'  @Exclusionzone if you compare yourself to wate...   \n",
       "\n",
       "   label  \n",
       "0      0  \n",
       "1      0  \n",
       "2      1  \n",
       "3      0  \n",
       "4      0  "
      ]
     },
     "execution_count": 6,
     "metadata": {},
     "output_type": "execute_result"
    }
   ],
   "source": [
    "abflood.head()"
   ]
  },
  {
   "cell_type": "code",
   "execution_count": 7,
   "metadata": {},
   "outputs": [
    {
     "data": {
      "text/plain": [
       "\"I've got enough candles to supply a Mexican family\""
      ]
     },
     "execution_count": 7,
     "metadata": {},
     "output_type": "execute_result"
    }
   ],
   "source": [
    "sandy['tweet'][0]"
   ]
  },
  {
   "cell_type": "code",
   "execution_count": 8,
   "metadata": {},
   "outputs": [],
   "source": [
    "# remove '&amp;'\n",
    "sandy['tweet'] = sandy.tweet.str.replace('&amp;', '').str.strip()\n",
    "oklahoma['tweet'] = oklahoma.tweet.str.replace('&amp;', '').str.strip()\n",
    "abflood['tweet'] = abflood.tweet.str.replace('&amp;', '').str.strip()\n",
    "qlflood['tweet'] = qlflood.tweet.str.replace('&amp;', '').str.strip()\n",
    "\n",
    "# remove links\n",
    "sandy['tweet'] = sandy.tweet.map(lambda x: re.sub('http[s]?:\\/\\/[^\\s]*', ' ', x))\n",
    "oklahoma['tweet'] = oklahoma.tweet.map(lambda x: re.sub('http[s]?:\\/\\/[^\\s]*', ' ', x))\n",
    "abflood['tweet'] = abflood.tweet.map(lambda x: re.sub('http[s]?:\\/\\/[^\\s]*', ' ', x))\n",
    "qlflood['tweet'] = qlflood.tweet.map(lambda x: re.sub('http[s]?:\\/\\/[^\\s]*', ' ', x))\n",
    "\n",
    "# remove keep letters on only\n",
    "sandy['tweet'] = sandy.tweet.map(lambda x: re.sub('[^a-zA-Z0-9]', ' ', x))\n",
    "oklahoma['tweet'] = oklahoma.tweet.map(lambda x: re.sub('[^a-zA-Z0-9]', ' ', x))\n",
    "abflood['tweet'] = abflood.tweet.map(lambda x: re.sub('[^a-zA-Z0-9]', ' ', x))\n",
    "qlflood['tweet'] = qlflood.tweet.map(lambda x: re.sub('[^a-zA-Z0-9]', ' ', x))\n",
    "\n",
    "# make all text lowercase\n",
    "sandy['tweet'] = sandy.tweet.map(lambda x: x.lower())\n",
    "oklahoma['tweet'] = oklahoma.tweet.map(lambda x: x.lower())\n",
    "abflood['tweet'] = abflood.tweet.map(lambda x: x.lower())\n",
    "qlflood['tweet'] = qlflood.tweet.map(lambda x: x.lower())\n",
    "\n",
    "# remove all 'rt'\n",
    "# sandy['tweet'] = sandy.tweet.str.replace('rt', '').str.strip()\n",
    "# oklahoma['tweet'] = oklahoma.tweet.str.replace('rt', '').str.strip()\n",
    "# abflood['tweet'] = abflood.tweet.str.replace('rt', '').str.strip()\n",
    "# qlflood['tweet'] = qlflood.tweet.str.replace('rt', '').str.strip()"
   ]
  },
  {
   "cell_type": "code",
   "execution_count": 9,
   "metadata": {},
   "outputs": [
    {
     "data": {
      "text/html": [
       "<div>\n",
       "<style scoped>\n",
       "    .dataframe tbody tr th:only-of-type {\n",
       "        vertical-align: middle;\n",
       "    }\n",
       "\n",
       "    .dataframe tbody tr th {\n",
       "        vertical-align: top;\n",
       "    }\n",
       "\n",
       "    .dataframe thead th {\n",
       "        text-align: right;\n",
       "    }\n",
       "</style>\n",
       "<table border=\"1\" class=\"dataframe\">\n",
       "  <thead>\n",
       "    <tr style=\"text-align: right;\">\n",
       "      <th></th>\n",
       "      <th>tweet id</th>\n",
       "      <th>tweet</th>\n",
       "      <th>label</th>\n",
       "    </tr>\n",
       "  </thead>\n",
       "  <tbody>\n",
       "    <tr>\n",
       "      <th>0</th>\n",
       "      <td>'262596552399396864'</td>\n",
       "      <td>i ve got enough candles to supply a mexican fa...</td>\n",
       "      <td>0</td>\n",
       "    </tr>\n",
       "    <tr>\n",
       "      <th>1</th>\n",
       "      <td>'263044104500420609'</td>\n",
       "      <td>sandy be soooo mad that she be shattering our ...</td>\n",
       "      <td>1</td>\n",
       "    </tr>\n",
       "    <tr>\n",
       "      <th>2</th>\n",
       "      <td>'263309629973491712'</td>\n",
       "      <td>ibexgirl thankfully hurricane waugh played it...</td>\n",
       "      <td>0</td>\n",
       "    </tr>\n",
       "    <tr>\n",
       "      <th>3</th>\n",
       "      <td>'263422851133079552'</td>\n",
       "      <td>taos you never got that magnificent case of b...</td>\n",
       "      <td>0</td>\n",
       "    </tr>\n",
       "    <tr>\n",
       "      <th>4</th>\n",
       "      <td>'262404311223504896'</td>\n",
       "      <td>i m at mad river bar  grille  new york  ny</td>\n",
       "      <td>0</td>\n",
       "    </tr>\n",
       "  </tbody>\n",
       "</table>\n",
       "</div>"
      ],
      "text/plain": [
       "               tweet id                                              tweet  \\\n",
       "0  '262596552399396864'  i ve got enough candles to supply a mexican fa...   \n",
       "1  '263044104500420609'  sandy be soooo mad that she be shattering our ...   \n",
       "2  '263309629973491712'   ibexgirl thankfully hurricane waugh played it...   \n",
       "3  '263422851133079552'   taos you never got that magnificent case of b...   \n",
       "4  '262404311223504896'      i m at mad river bar  grille  new york  ny      \n",
       "\n",
       "   label  \n",
       "0      0  \n",
       "1      1  \n",
       "2      0  \n",
       "3      0  \n",
       "4      0  "
      ]
     },
     "execution_count": 9,
     "metadata": {},
     "output_type": "execute_result"
    }
   ],
   "source": [
    "sandy.head()"
   ]
  },
  {
   "cell_type": "code",
   "execution_count": 10,
   "metadata": {},
   "outputs": [],
   "source": [
    "sandy['disaster'] = 'hurricane'\n",
    "oklahoma['disaster'] = 'tornado'\n",
    "abflood['disaster'] = 'flood'\n",
    "qlflood['disaster'] = 'flood'"
   ]
  },
  {
   "cell_type": "code",
   "execution_count": 11,
   "metadata": {},
   "outputs": [
    {
     "data": {
      "text/html": [
       "<div>\n",
       "<style scoped>\n",
       "    .dataframe tbody tr th:only-of-type {\n",
       "        vertical-align: middle;\n",
       "    }\n",
       "\n",
       "    .dataframe tbody tr th {\n",
       "        vertical-align: top;\n",
       "    }\n",
       "\n",
       "    .dataframe thead th {\n",
       "        text-align: right;\n",
       "    }\n",
       "</style>\n",
       "<table border=\"1\" class=\"dataframe\">\n",
       "  <thead>\n",
       "    <tr style=\"text-align: right;\">\n",
       "      <th></th>\n",
       "      <th>tweet id</th>\n",
       "      <th>tweet</th>\n",
       "      <th>label</th>\n",
       "      <th>disaster</th>\n",
       "    </tr>\n",
       "  </thead>\n",
       "  <tbody>\n",
       "    <tr>\n",
       "      <th>0</th>\n",
       "      <td>'262596552399396864'</td>\n",
       "      <td>i ve got enough candles to supply a mexican fa...</td>\n",
       "      <td>0</td>\n",
       "      <td>hurricane</td>\n",
       "    </tr>\n",
       "    <tr>\n",
       "      <th>1</th>\n",
       "      <td>'263044104500420609'</td>\n",
       "      <td>sandy be soooo mad that she be shattering our ...</td>\n",
       "      <td>1</td>\n",
       "      <td>hurricane</td>\n",
       "    </tr>\n",
       "    <tr>\n",
       "      <th>2</th>\n",
       "      <td>'263309629973491712'</td>\n",
       "      <td>ibexgirl thankfully hurricane waugh played it...</td>\n",
       "      <td>0</td>\n",
       "      <td>hurricane</td>\n",
       "    </tr>\n",
       "    <tr>\n",
       "      <th>3</th>\n",
       "      <td>'263422851133079552'</td>\n",
       "      <td>taos you never got that magnificent case of b...</td>\n",
       "      <td>0</td>\n",
       "      <td>hurricane</td>\n",
       "    </tr>\n",
       "    <tr>\n",
       "      <th>4</th>\n",
       "      <td>'262404311223504896'</td>\n",
       "      <td>i m at mad river bar  grille  new york  ny</td>\n",
       "      <td>0</td>\n",
       "      <td>hurricane</td>\n",
       "    </tr>\n",
       "  </tbody>\n",
       "</table>\n",
       "</div>"
      ],
      "text/plain": [
       "               tweet id                                              tweet  \\\n",
       "0  '262596552399396864'  i ve got enough candles to supply a mexican fa...   \n",
       "1  '263044104500420609'  sandy be soooo mad that she be shattering our ...   \n",
       "2  '263309629973491712'   ibexgirl thankfully hurricane waugh played it...   \n",
       "3  '263422851133079552'   taos you never got that magnificent case of b...   \n",
       "4  '262404311223504896'      i m at mad river bar  grille  new york  ny      \n",
       "\n",
       "   label   disaster  \n",
       "0      0  hurricane  \n",
       "1      1  hurricane  \n",
       "2      0  hurricane  \n",
       "3      0  hurricane  \n",
       "4      0  hurricane  "
      ]
     },
     "execution_count": 11,
     "metadata": {},
     "output_type": "execute_result"
    }
   ],
   "source": [
    "sandy.head()"
   ]
  },
  {
   "cell_type": "code",
   "execution_count": 12,
   "metadata": {},
   "outputs": [
    {
     "data": {
      "text/html": [
       "<div>\n",
       "<style scoped>\n",
       "    .dataframe tbody tr th:only-of-type {\n",
       "        vertical-align: middle;\n",
       "    }\n",
       "\n",
       "    .dataframe tbody tr th {\n",
       "        vertical-align: top;\n",
       "    }\n",
       "\n",
       "    .dataframe thead th {\n",
       "        text-align: right;\n",
       "    }\n",
       "</style>\n",
       "<table border=\"1\" class=\"dataframe\">\n",
       "  <thead>\n",
       "    <tr style=\"text-align: right;\">\n",
       "      <th></th>\n",
       "      <th>tweet id</th>\n",
       "      <th>tweet</th>\n",
       "      <th>label</th>\n",
       "      <th>disaster</th>\n",
       "    </tr>\n",
       "  </thead>\n",
       "  <tbody>\n",
       "    <tr>\n",
       "      <th>0</th>\n",
       "      <td>'336908711324962817'</td>\n",
       "      <td>heatleyjheat44 its barley even raining where ...</td>\n",
       "      <td>1</td>\n",
       "      <td>tornado</td>\n",
       "    </tr>\n",
       "    <tr>\n",
       "      <th>1</th>\n",
       "      <td>'337052158035890176'</td>\n",
       "      <td>sorry i can t do anything right</td>\n",
       "      <td>0</td>\n",
       "      <td>tornado</td>\n",
       "    </tr>\n",
       "    <tr>\n",
       "      <th>2</th>\n",
       "      <td>'339338021751103488'</td>\n",
       "      <td>mrwendell29   bradsowderwx  says we have the ...</td>\n",
       "      <td>1</td>\n",
       "      <td>tornado</td>\n",
       "    </tr>\n",
       "    <tr>\n",
       "      <th>3</th>\n",
       "      <td>'336339509077762051'</td>\n",
       "      <td>honestyhour i like to wear half split running...</td>\n",
       "      <td>0</td>\n",
       "      <td>tornado</td>\n",
       "    </tr>\n",
       "    <tr>\n",
       "      <th>4</th>\n",
       "      <td>'337734129972035584'</td>\n",
       "      <td>i m too stressed to have a good summer</td>\n",
       "      <td>0</td>\n",
       "      <td>tornado</td>\n",
       "    </tr>\n",
       "  </tbody>\n",
       "</table>\n",
       "</div>"
      ],
      "text/plain": [
       "               tweet id                                              tweet  \\\n",
       "0  '336908711324962817'   heatleyjheat44 its barley even raining where ...   \n",
       "1  '337052158035890176'                   sorry i can t do anything right    \n",
       "2  '339338021751103488'   mrwendell29   bradsowderwx  says we have the ...   \n",
       "3  '336339509077762051'   honestyhour i like to wear half split running...   \n",
       "4  '337734129972035584'             i m too stressed to have a good summer   \n",
       "\n",
       "   label disaster  \n",
       "0      1  tornado  \n",
       "1      0  tornado  \n",
       "2      1  tornado  \n",
       "3      0  tornado  \n",
       "4      0  tornado  "
      ]
     },
     "execution_count": 12,
     "metadata": {},
     "output_type": "execute_result"
    }
   ],
   "source": [
    "oklahoma.head()"
   ]
  },
  {
   "cell_type": "code",
   "execution_count": 13,
   "metadata": {},
   "outputs": [
    {
     "data": {
      "text/html": [
       "<div>\n",
       "<style scoped>\n",
       "    .dataframe tbody tr th:only-of-type {\n",
       "        vertical-align: middle;\n",
       "    }\n",
       "\n",
       "    .dataframe tbody tr th {\n",
       "        vertical-align: top;\n",
       "    }\n",
       "\n",
       "    .dataframe thead th {\n",
       "        text-align: right;\n",
       "    }\n",
       "</style>\n",
       "<table border=\"1\" class=\"dataframe\">\n",
       "  <thead>\n",
       "    <tr style=\"text-align: right;\">\n",
       "      <th></th>\n",
       "      <th>tweet id</th>\n",
       "      <th>tweet</th>\n",
       "      <th>label</th>\n",
       "      <th>disaster</th>\n",
       "    </tr>\n",
       "  </thead>\n",
       "  <tbody>\n",
       "    <tr>\n",
       "      <th>0</th>\n",
       "      <td>'348351442404376578'</td>\n",
       "      <td>jay1972jay nope  mid 80 s  it s off metallica...</td>\n",
       "      <td>0</td>\n",
       "      <td>flood</td>\n",
       "    </tr>\n",
       "    <tr>\n",
       "      <th>1</th>\n",
       "      <td>'348167215536803841'</td>\n",
       "      <td>nothing like a  16 second downpour to give us ...</td>\n",
       "      <td>0</td>\n",
       "      <td>flood</td>\n",
       "    </tr>\n",
       "    <tr>\n",
       "      <th>2</th>\n",
       "      <td>'348644655786778624'</td>\n",
       "      <td>nelsontagoona so glad that you missed the flo...</td>\n",
       "      <td>1</td>\n",
       "      <td>flood</td>\n",
       "    </tr>\n",
       "    <tr>\n",
       "      <th>3</th>\n",
       "      <td>'350519668815036416'</td>\n",
       "      <td>party hard   suns down   still warm   lovin li...</td>\n",
       "      <td>0</td>\n",
       "      <td>flood</td>\n",
       "    </tr>\n",
       "    <tr>\n",
       "      <th>4</th>\n",
       "      <td>'351446519733432320'</td>\n",
       "      <td>exclusionzone if you compare yourself to wate...</td>\n",
       "      <td>0</td>\n",
       "      <td>flood</td>\n",
       "    </tr>\n",
       "  </tbody>\n",
       "</table>\n",
       "</div>"
      ],
      "text/plain": [
       "               tweet id                                              tweet  \\\n",
       "0  '348351442404376578'   jay1972jay nope  mid 80 s  it s off metallica...   \n",
       "1  '348167215536803841'  nothing like a  16 second downpour to give us ...   \n",
       "2  '348644655786778624'   nelsontagoona so glad that you missed the flo...   \n",
       "3  '350519668815036416'  party hard   suns down   still warm   lovin li...   \n",
       "4  '351446519733432320'   exclusionzone if you compare yourself to wate...   \n",
       "\n",
       "   label disaster  \n",
       "0      0    flood  \n",
       "1      0    flood  \n",
       "2      1    flood  \n",
       "3      0    flood  \n",
       "4      0    flood  "
      ]
     },
     "execution_count": 13,
     "metadata": {},
     "output_type": "execute_result"
    }
   ],
   "source": [
    "abflood.head()"
   ]
  },
  {
   "cell_type": "code",
   "execution_count": 14,
   "metadata": {},
   "outputs": [
    {
     "data": {
      "text/html": [
       "<div>\n",
       "<style scoped>\n",
       "    .dataframe tbody tr th:only-of-type {\n",
       "        vertical-align: middle;\n",
       "    }\n",
       "\n",
       "    .dataframe tbody tr th {\n",
       "        vertical-align: top;\n",
       "    }\n",
       "\n",
       "    .dataframe thead th {\n",
       "        text-align: right;\n",
       "    }\n",
       "</style>\n",
       "<table border=\"1\" class=\"dataframe\">\n",
       "  <thead>\n",
       "    <tr style=\"text-align: right;\">\n",
       "      <th></th>\n",
       "      <th>tweet id</th>\n",
       "      <th>tweet</th>\n",
       "      <th>label</th>\n",
       "      <th>disaster</th>\n",
       "    </tr>\n",
       "  </thead>\n",
       "  <tbody>\n",
       "    <tr>\n",
       "      <th>0</th>\n",
       "      <td>'296728042179534848'</td>\n",
       "      <td>marksdobson i always thought that  big lad ai...</td>\n",
       "      <td>0</td>\n",
       "      <td>flood</td>\n",
       "    </tr>\n",
       "    <tr>\n",
       "      <th>1</th>\n",
       "      <td>'296085045645570048'</td>\n",
       "      <td>thamonstar a lot of water moving around and a...</td>\n",
       "      <td>1</td>\n",
       "      <td>flood</td>\n",
       "    </tr>\n",
       "    <tr>\n",
       "      <th>2</th>\n",
       "      <td>'296811076400603136'</td>\n",
       "      <td>craig thompson to be extradited to victoria on...</td>\n",
       "      <td>0</td>\n",
       "      <td>flood</td>\n",
       "    </tr>\n",
       "    <tr>\n",
       "      <th>3</th>\n",
       "      <td>'295357934387486720'</td>\n",
       "      <td>sunshine state  sort your shit out</td>\n",
       "      <td>0</td>\n",
       "      <td>flood</td>\n",
       "    </tr>\n",
       "    <tr>\n",
       "      <th>4</th>\n",
       "      <td>'296390762210398210'</td>\n",
       "      <td>markphilippi yeah i saw it  he s a wanker  pa...</td>\n",
       "      <td>0</td>\n",
       "      <td>flood</td>\n",
       "    </tr>\n",
       "  </tbody>\n",
       "</table>\n",
       "</div>"
      ],
      "text/plain": [
       "               tweet id                                              tweet  \\\n",
       "0  '296728042179534848'   marksdobson i always thought that  big lad ai...   \n",
       "1  '296085045645570048'   thamonstar a lot of water moving around and a...   \n",
       "2  '296811076400603136'  craig thompson to be extradited to victoria on...   \n",
       "3  '295357934387486720'                sunshine state  sort your shit out    \n",
       "4  '296390762210398210'   markphilippi yeah i saw it  he s a wanker  pa...   \n",
       "\n",
       "   label disaster  \n",
       "0      0    flood  \n",
       "1      1    flood  \n",
       "2      0    flood  \n",
       "3      0    flood  \n",
       "4      0    flood  "
      ]
     },
     "execution_count": 14,
     "metadata": {},
     "output_type": "execute_result"
    }
   ],
   "source": [
    "qlflood.head()"
   ]
  },
  {
   "cell_type": "code",
   "execution_count": 15,
   "metadata": {},
   "outputs": [
    {
     "data": {
      "text/plain": [
       "(10008, 4)"
      ]
     },
     "execution_count": 15,
     "metadata": {},
     "output_type": "execute_result"
    }
   ],
   "source": [
    "sandy.shape"
   ]
  },
  {
   "cell_type": "code",
   "execution_count": 16,
   "metadata": {},
   "outputs": [
    {
     "data": {
      "text/plain": [
       "(10033, 4)"
      ]
     },
     "execution_count": 16,
     "metadata": {},
     "output_type": "execute_result"
    }
   ],
   "source": [
    "qlflood.shape"
   ]
  },
  {
   "cell_type": "code",
   "execution_count": 17,
   "metadata": {},
   "outputs": [
    {
     "data": {
      "text/plain": [
       "(10031, 4)"
      ]
     },
     "execution_count": 17,
     "metadata": {},
     "output_type": "execute_result"
    }
   ],
   "source": [
    "abflood.shape"
   ]
  },
  {
   "cell_type": "code",
   "execution_count": 18,
   "metadata": {},
   "outputs": [
    {
     "data": {
      "text/plain": [
       "(9992, 4)"
      ]
     },
     "execution_count": 18,
     "metadata": {},
     "output_type": "execute_result"
    }
   ],
   "source": [
    "oklahoma.shape"
   ]
  },
  {
   "cell_type": "code",
   "execution_count": 19,
   "metadata": {},
   "outputs": [],
   "source": [
    "sandy.rename(columns = ({'tweet id': 'id'}), inplace = True)\n",
    "oklahoma.rename(columns = ({'tweet id': 'id'}), inplace = True)\n",
    "abflood.rename(columns = ({'tweet id': 'id'}), inplace = True)\n",
    "qlflood.rename(columns = ({'tweet id': 'id'}), inplace = True)"
   ]
  },
  {
   "cell_type": "code",
   "execution_count": 20,
   "metadata": {},
   "outputs": [],
   "source": [
    "sandy.to_csv('./data/sandy_clean_binary.csv', index = False)\n",
    "oklahoma.to_csv('./data/oklahoma_clean_binary.csv', index = False)\n",
    "abflood.to_csv('./data/abflood_clean_binary.csv', index = False)\n",
    "qlflood.to_csv('./data/qlflood_clean_binary.csv', index = False)"
   ]
  },
  {
   "cell_type": "code",
   "execution_count": 21,
   "metadata": {},
   "outputs": [],
   "source": [
    "df = pd.concat([sandy, oklahoma, abflood, qlflood], ignore_index = True)"
   ]
  },
  {
   "cell_type": "code",
   "execution_count": 22,
   "metadata": {},
   "outputs": [
    {
     "data": {
      "text/html": [
       "<div>\n",
       "<style scoped>\n",
       "    .dataframe tbody tr th:only-of-type {\n",
       "        vertical-align: middle;\n",
       "    }\n",
       "\n",
       "    .dataframe tbody tr th {\n",
       "        vertical-align: top;\n",
       "    }\n",
       "\n",
       "    .dataframe thead th {\n",
       "        text-align: right;\n",
       "    }\n",
       "</style>\n",
       "<table border=\"1\" class=\"dataframe\">\n",
       "  <thead>\n",
       "    <tr style=\"text-align: right;\">\n",
       "      <th></th>\n",
       "      <th>id</th>\n",
       "      <th>tweet</th>\n",
       "      <th>label</th>\n",
       "      <th>disaster</th>\n",
       "    </tr>\n",
       "  </thead>\n",
       "  <tbody>\n",
       "    <tr>\n",
       "      <th>0</th>\n",
       "      <td>'262596552399396864'</td>\n",
       "      <td>i ve got enough candles to supply a mexican fa...</td>\n",
       "      <td>0</td>\n",
       "      <td>hurricane</td>\n",
       "    </tr>\n",
       "    <tr>\n",
       "      <th>1</th>\n",
       "      <td>'263044104500420609'</td>\n",
       "      <td>sandy be soooo mad that she be shattering our ...</td>\n",
       "      <td>1</td>\n",
       "      <td>hurricane</td>\n",
       "    </tr>\n",
       "    <tr>\n",
       "      <th>2</th>\n",
       "      <td>'263309629973491712'</td>\n",
       "      <td>ibexgirl thankfully hurricane waugh played it...</td>\n",
       "      <td>0</td>\n",
       "      <td>hurricane</td>\n",
       "    </tr>\n",
       "    <tr>\n",
       "      <th>3</th>\n",
       "      <td>'263422851133079552'</td>\n",
       "      <td>taos you never got that magnificent case of b...</td>\n",
       "      <td>0</td>\n",
       "      <td>hurricane</td>\n",
       "    </tr>\n",
       "    <tr>\n",
       "      <th>4</th>\n",
       "      <td>'262404311223504896'</td>\n",
       "      <td>i m at mad river bar  grille  new york  ny</td>\n",
       "      <td>0</td>\n",
       "      <td>hurricane</td>\n",
       "    </tr>\n",
       "  </tbody>\n",
       "</table>\n",
       "</div>"
      ],
      "text/plain": [
       "                     id                                              tweet  \\\n",
       "0  '262596552399396864'  i ve got enough candles to supply a mexican fa...   \n",
       "1  '263044104500420609'  sandy be soooo mad that she be shattering our ...   \n",
       "2  '263309629973491712'   ibexgirl thankfully hurricane waugh played it...   \n",
       "3  '263422851133079552'   taos you never got that magnificent case of b...   \n",
       "4  '262404311223504896'      i m at mad river bar  grille  new york  ny      \n",
       "\n",
       "   label   disaster  \n",
       "0      0  hurricane  \n",
       "1      1  hurricane  \n",
       "2      0  hurricane  \n",
       "3      0  hurricane  \n",
       "4      0  hurricane  "
      ]
     },
     "execution_count": 22,
     "metadata": {},
     "output_type": "execute_result"
    }
   ],
   "source": [
    "df.head()"
   ]
  },
  {
   "cell_type": "code",
   "execution_count": 23,
   "metadata": {},
   "outputs": [
    {
     "data": {
      "text/plain": [
       "(40064, 4)"
      ]
     },
     "execution_count": 23,
     "metadata": {},
     "output_type": "execute_result"
    }
   ],
   "source": [
    "df.shape"
   ]
  },
  {
   "cell_type": "code",
   "execution_count": 24,
   "metadata": {},
   "outputs": [],
   "source": [
    "df.rename(columns = ({'tweet id': 'id'}), inplace = True)"
   ]
  },
  {
   "cell_type": "code",
   "execution_count": 25,
   "metadata": {},
   "outputs": [],
   "source": [
    "df.to_csv('./data/combined.csv', index = False)"
   ]
  },
  {
   "cell_type": "code",
   "execution_count": null,
   "metadata": {},
   "outputs": [],
   "source": []
  }
 ],
 "metadata": {
  "kernelspec": {
   "display_name": "Python 3",
   "language": "python",
   "name": "python3"
  },
  "language_info": {
   "codemirror_mode": {
    "name": "ipython",
    "version": 3
   },
   "file_extension": ".py",
   "mimetype": "text/x-python",
   "name": "python",
   "nbconvert_exporter": "python",
   "pygments_lexer": "ipython3",
   "version": "3.7.3"
  }
 },
 "nbformat": 4,
 "nbformat_minor": 2
}
