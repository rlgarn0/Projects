{
 "cells": [
  {
   "cell_type": "code",
   "execution_count": 1,
   "metadata": {},
   "outputs": [],
   "source": [
    "# Imports!\n",
    "# We likely will not end up using all of these, but better to have and not need.\n",
    "\n",
    "import pandas as pd\n",
    "import numpy as np\n",
    "import gensim\n",
    "import pickle\n",
    "import regex as re\n",
    "\n",
    "from nltk.stem import WordNetLemmatizer\n",
    "from nltk.tokenize import RegexpTokenizer\n",
    "from nltk.stem.porter import PorterStemmer\n",
    "from nltk.stem.snowball import SnowballStemmer\n",
    "from nltk.corpus import stopwords\n",
    "\n",
    "from sklearn.feature_extraction.text import CountVectorizer, TfidfVectorizer\n",
    "from sklearn.pipeline import Pipeline\n",
    "from sklearn.model_selection import train_test_split, GridSearchCV\n",
    "from sklearn.linear_model import LogisticRegression\n",
    "from sklearn.feature_extraction import stop_words\n",
    "from sklearn.naive_bayes import MultinomialNB\n",
    "from sklearn.ensemble import RandomForestClassifier\n",
    "\n",
    "from sklearn.feature_extraction.text import CountVectorizer\n",
    "from sklearn.cluster import DBSCAN\n",
    "from sklearn.metrics import silhouette_score\n",
    "\n",
    "import matplotlib.pyplot as plt\n",
    "import seaborn as sns\n",
    "sns.set_style('darkgrid')\n",
    "\n",
    "import warnings\n",
    "warnings.filterwarnings('ignore')"
   ]
  },
  {
   "cell_type": "code",
   "execution_count": 2,
   "metadata": {},
   "outputs": [],
   "source": [
    "# Load in the clean dataframes\n",
    "\n",
    "df = pd.read_csv('./data/combined.csv')\n",
    "sandy = pd.read_csv('./data/sandy_clean_binary.csv')\n",
    "oklahoma = pd.read_csv('./data/oklahoma_clean_binary.csv')\n",
    "abflood = pd.read_csv('./data/abflood_clean_binary.csv')\n",
    "qlflood = pd.read_csv('./data/qlflood_clean_binary.csv')"
   ]
  },
  {
   "cell_type": "code",
   "execution_count": 3,
   "metadata": {},
   "outputs": [
    {
     "data": {
      "text/html": [
       "<div>\n",
       "<style scoped>\n",
       "    .dataframe tbody tr th:only-of-type {\n",
       "        vertical-align: middle;\n",
       "    }\n",
       "\n",
       "    .dataframe tbody tr th {\n",
       "        vertical-align: top;\n",
       "    }\n",
       "\n",
       "    .dataframe thead th {\n",
       "        text-align: right;\n",
       "    }\n",
       "</style>\n",
       "<table border=\"1\" class=\"dataframe\">\n",
       "  <thead>\n",
       "    <tr style=\"text-align: right;\">\n",
       "      <th></th>\n",
       "      <th>id</th>\n",
       "      <th>tweet</th>\n",
       "      <th>label</th>\n",
       "      <th>disaster</th>\n",
       "    </tr>\n",
       "  </thead>\n",
       "  <tbody>\n",
       "    <tr>\n",
       "      <th>0</th>\n",
       "      <td>'262596552399396864'</td>\n",
       "      <td>i ve got enough candles to supply a mexican fa...</td>\n",
       "      <td>0</td>\n",
       "      <td>hurricane</td>\n",
       "    </tr>\n",
       "    <tr>\n",
       "      <th>1</th>\n",
       "      <td>'263044104500420609'</td>\n",
       "      <td>sandy be soooo mad that she be shattering our ...</td>\n",
       "      <td>1</td>\n",
       "      <td>hurricane</td>\n",
       "    </tr>\n",
       "    <tr>\n",
       "      <th>2</th>\n",
       "      <td>'263309629973491712'</td>\n",
       "      <td>ibexgirl thankfully hurricane waugh played it...</td>\n",
       "      <td>0</td>\n",
       "      <td>hurricane</td>\n",
       "    </tr>\n",
       "    <tr>\n",
       "      <th>3</th>\n",
       "      <td>'263422851133079552'</td>\n",
       "      <td>taos you never got that magnificent case of b...</td>\n",
       "      <td>0</td>\n",
       "      <td>hurricane</td>\n",
       "    </tr>\n",
       "    <tr>\n",
       "      <th>4</th>\n",
       "      <td>'262404311223504896'</td>\n",
       "      <td>i m at mad river bar  grille  new york  ny</td>\n",
       "      <td>0</td>\n",
       "      <td>hurricane</td>\n",
       "    </tr>\n",
       "  </tbody>\n",
       "</table>\n",
       "</div>"
      ],
      "text/plain": [
       "                     id                                              tweet  \\\n",
       "0  '262596552399396864'  i ve got enough candles to supply a mexican fa...   \n",
       "1  '263044104500420609'  sandy be soooo mad that she be shattering our ...   \n",
       "2  '263309629973491712'   ibexgirl thankfully hurricane waugh played it...   \n",
       "3  '263422851133079552'   taos you never got that magnificent case of b...   \n",
       "4  '262404311223504896'      i m at mad river bar  grille  new york  ny      \n",
       "\n",
       "   label   disaster  \n",
       "0      0  hurricane  \n",
       "1      1  hurricane  \n",
       "2      0  hurricane  \n",
       "3      0  hurricane  \n",
       "4      0  hurricane  "
      ]
     },
     "execution_count": 3,
     "metadata": {},
     "output_type": "execute_result"
    }
   ],
   "source": [
    "df.head()"
   ]
  },
  {
   "cell_type": "code",
   "execution_count": 4,
   "metadata": {},
   "outputs": [],
   "source": [
    "# Remove the first instance of rt for \"retweet\"\n",
    "\n",
    "df['tweet'] = df['tweet'].map(lambda x: re.sub('rt', ' ', x, count=1).strip())\n",
    "sandy['tweet'] = sandy['tweet'].map(lambda x: re.sub('rt', ' ', x, count=1).strip())\n",
    "oklahoma['tweet'] = oklahoma['tweet'].map(lambda x: re.sub('rt', ' ', x, count=1).strip())\n",
    "abflood['tweet'] = abflood['tweet'].map(lambda x: re.sub('rt', ' ', x, count=1).strip())\n",
    "qlflood['tweet'] = qlflood['tweet'].map(lambda x: re.sub('rt', ' ', x, count=1).strip())"
   ]
  },
  {
   "cell_type": "code",
   "execution_count": 5,
   "metadata": {},
   "outputs": [
    {
     "data": {
      "text/html": [
       "<div>\n",
       "<style scoped>\n",
       "    .dataframe tbody tr th:only-of-type {\n",
       "        vertical-align: middle;\n",
       "    }\n",
       "\n",
       "    .dataframe tbody tr th {\n",
       "        vertical-align: top;\n",
       "    }\n",
       "\n",
       "    .dataframe thead th {\n",
       "        text-align: right;\n",
       "    }\n",
       "</style>\n",
       "<table border=\"1\" class=\"dataframe\">\n",
       "  <thead>\n",
       "    <tr style=\"text-align: right;\">\n",
       "      <th></th>\n",
       "      <th>id</th>\n",
       "      <th>tweet</th>\n",
       "      <th>label</th>\n",
       "      <th>disaster</th>\n",
       "    </tr>\n",
       "  </thead>\n",
       "  <tbody>\n",
       "    <tr>\n",
       "      <th>0</th>\n",
       "      <td>'262596552399396864'</td>\n",
       "      <td>i ve got enough candles to supply a mexican fa...</td>\n",
       "      <td>0</td>\n",
       "      <td>hurricane</td>\n",
       "    </tr>\n",
       "    <tr>\n",
       "      <th>1</th>\n",
       "      <td>'263044104500420609'</td>\n",
       "      <td>sandy be soooo mad that she be shattering our ...</td>\n",
       "      <td>1</td>\n",
       "      <td>hurricane</td>\n",
       "    </tr>\n",
       "    <tr>\n",
       "      <th>2</th>\n",
       "      <td>'263309629973491712'</td>\n",
       "      <td>ibexgirl thankfully hurricane waugh played it ...</td>\n",
       "      <td>0</td>\n",
       "      <td>hurricane</td>\n",
       "    </tr>\n",
       "    <tr>\n",
       "      <th>3</th>\n",
       "      <td>'263422851133079552'</td>\n",
       "      <td>taos you never got that magnificent case of bu...</td>\n",
       "      <td>0</td>\n",
       "      <td>hurricane</td>\n",
       "    </tr>\n",
       "    <tr>\n",
       "      <th>4</th>\n",
       "      <td>'262404311223504896'</td>\n",
       "      <td>i m at mad river bar  grille  new york  ny</td>\n",
       "      <td>0</td>\n",
       "      <td>hurricane</td>\n",
       "    </tr>\n",
       "  </tbody>\n",
       "</table>\n",
       "</div>"
      ],
      "text/plain": [
       "                     id                                              tweet  \\\n",
       "0  '262596552399396864'  i ve got enough candles to supply a mexican fa...   \n",
       "1  '263044104500420609'  sandy be soooo mad that she be shattering our ...   \n",
       "2  '263309629973491712'  ibexgirl thankfully hurricane waugh played it ...   \n",
       "3  '263422851133079552'  taos you never got that magnificent case of bu...   \n",
       "4  '262404311223504896'         i m at mad river bar  grille  new york  ny   \n",
       "\n",
       "   label   disaster  \n",
       "0      0  hurricane  \n",
       "1      1  hurricane  \n",
       "2      0  hurricane  \n",
       "3      0  hurricane  \n",
       "4      0  hurricane  "
      ]
     },
     "execution_count": 5,
     "metadata": {},
     "output_type": "execute_result"
    }
   ],
   "source": [
    "sandy.head()"
   ]
  },
  {
   "cell_type": "code",
   "execution_count": 6,
   "metadata": {},
   "outputs": [],
   "source": [
    "# Pre-Processing function from https://github.com/cameronbronstein/Project-4-New-Light-Technologies-Client-Project/blob/master/2%20-%20NLP_Urgency_Classification.ipynb\n",
    "# This is a text preprocessing function that get our data ready for modeling, creating new columns \n",
    "# for the message text in their tokenized, lemmatized, and stemmed forms. This allows for easy selection\n",
    "# of different forms of the text for use in vectorization and modeling.\n",
    "\n",
    "def preprocessed_columns(dataframe = df, \n",
    "                        column = 'tweet', \n",
    "                        new_lemma_column = 'lemmatized', \n",
    "                        new_stem_column = 'stemmed',\n",
    "                        new_token_column = 'tokenized',\n",
    "                        regular_expression = r'\\w+'): \n",
    "    \n",
    "    tokenizer = RegexpTokenizer(regular_expression)      #Instantiate tokenizer with specific regular expression\n",
    "    lemmatizer = WordNetLemmatizer()                     #Instantiate lemmatizer\n",
    "    stemmer = PorterStemmer()                            #Instantiate stemmer\n",
    "    \n",
    "    lemmatized = []                                      #list to append lemmatized data\n",
    "    stemmed = []                                         #list to append stemmed words\n",
    "    tokenized = []\n",
    "    \n",
    "    \n",
    "    for i in dataframe[column]:                          #Iterate through all the rows in specific column\n",
    "\n",
    "        tokens = tokenizer.tokenize(i.lower())           #Converting string titles to tokens \n",
    "        tokenized.append(tokens)\n",
    "\n",
    "        lemma = [lemmatizer.lemmatize(token) for token in tokens]     #lemmatizing all tokens\n",
    "        lemmatized.append(lemma)                                      #appending lemma to lemmatized list\n",
    "\n",
    "        stems = [stemmer.stem(token) for token in tokens]             #stemming all tokens\n",
    "        stemmed.append(stems)                                         #creating stem list\n",
    "     \n",
    "    dataframe[new_token_column] = [' '.join(i) for i in tokenized]    \n",
    "    dataframe[new_lemma_column] = [' '.join(i) for i in lemmatized]   #rejoing the lists for each title\n",
    "    dataframe[new_stem_column] = [' '.join(i) for i in stemmed]       #setting results to be new columns in df   \n",
    "    \n",
    "    return dataframe"
   ]
  },
  {
   "cell_type": "code",
   "execution_count": 7,
   "metadata": {},
   "outputs": [],
   "source": [
    "# Run our function to apply the above steps to our combined dataframe\n",
    "processed = preprocessed_columns()"
   ]
  },
  {
   "cell_type": "code",
   "execution_count": 8,
   "metadata": {},
   "outputs": [
    {
     "data": {
      "text/html": [
       "<div>\n",
       "<style scoped>\n",
       "    .dataframe tbody tr th:only-of-type {\n",
       "        vertical-align: middle;\n",
       "    }\n",
       "\n",
       "    .dataframe tbody tr th {\n",
       "        vertical-align: top;\n",
       "    }\n",
       "\n",
       "    .dataframe thead th {\n",
       "        text-align: right;\n",
       "    }\n",
       "</style>\n",
       "<table border=\"1\" class=\"dataframe\">\n",
       "  <thead>\n",
       "    <tr style=\"text-align: right;\">\n",
       "      <th></th>\n",
       "      <th>id</th>\n",
       "      <th>tweet</th>\n",
       "      <th>label</th>\n",
       "      <th>disaster</th>\n",
       "      <th>tokenized</th>\n",
       "      <th>lemmatized</th>\n",
       "      <th>stemmed</th>\n",
       "    </tr>\n",
       "  </thead>\n",
       "  <tbody>\n",
       "    <tr>\n",
       "      <th>0</th>\n",
       "      <td>'262596552399396864'</td>\n",
       "      <td>i ve got enough candles to supply a mexican fa...</td>\n",
       "      <td>0</td>\n",
       "      <td>hurricane</td>\n",
       "      <td>i ve got enough candles to supply a mexican fa...</td>\n",
       "      <td>i ve got enough candle to supply a mexican family</td>\n",
       "      <td>i ve got enough candl to suppli a mexican famili</td>\n",
       "    </tr>\n",
       "    <tr>\n",
       "      <th>1</th>\n",
       "      <td>'263044104500420609'</td>\n",
       "      <td>sandy be soooo mad that she be shattering our ...</td>\n",
       "      <td>1</td>\n",
       "      <td>hurricane</td>\n",
       "      <td>sandy be soooo mad that she be shattering our ...</td>\n",
       "      <td>sandy be soooo mad that she be shattering our ...</td>\n",
       "      <td>sandi be soooo mad that she be shatter our doo...</td>\n",
       "    </tr>\n",
       "    <tr>\n",
       "      <th>2</th>\n",
       "      <td>'263309629973491712'</td>\n",
       "      <td>ibexgirl thankfully hurricane waugh played it ...</td>\n",
       "      <td>0</td>\n",
       "      <td>hurricane</td>\n",
       "      <td>ibexgirl thankfully hurricane waugh played it ...</td>\n",
       "      <td>ibexgirl thankfully hurricane waugh played it ...</td>\n",
       "      <td>ibexgirl thank hurrican waugh play it cool and...</td>\n",
       "    </tr>\n",
       "    <tr>\n",
       "      <th>3</th>\n",
       "      <td>'263422851133079552'</td>\n",
       "      <td>taos you never got that magnificent case of bu...</td>\n",
       "      <td>0</td>\n",
       "      <td>hurricane</td>\n",
       "      <td>taos you never got that magnificent case of bu...</td>\n",
       "      <td>tao you never got that magnificent case of bur...</td>\n",
       "      <td>tao you never got that magnific case of burgun...</td>\n",
       "    </tr>\n",
       "    <tr>\n",
       "      <th>4</th>\n",
       "      <td>'262404311223504896'</td>\n",
       "      <td>i m at mad river bar  grille  new york  ny</td>\n",
       "      <td>0</td>\n",
       "      <td>hurricane</td>\n",
       "      <td>i m at mad river bar grille new york ny</td>\n",
       "      <td>i m at mad river bar grille new york ny</td>\n",
       "      <td>i m at mad river bar grill new york ny</td>\n",
       "    </tr>\n",
       "  </tbody>\n",
       "</table>\n",
       "</div>"
      ],
      "text/plain": [
       "                     id                                              tweet  \\\n",
       "0  '262596552399396864'  i ve got enough candles to supply a mexican fa...   \n",
       "1  '263044104500420609'  sandy be soooo mad that she be shattering our ...   \n",
       "2  '263309629973491712'  ibexgirl thankfully hurricane waugh played it ...   \n",
       "3  '263422851133079552'  taos you never got that magnificent case of bu...   \n",
       "4  '262404311223504896'         i m at mad river bar  grille  new york  ny   \n",
       "\n",
       "   label   disaster                                          tokenized  \\\n",
       "0      0  hurricane  i ve got enough candles to supply a mexican fa...   \n",
       "1      1  hurricane  sandy be soooo mad that she be shattering our ...   \n",
       "2      0  hurricane  ibexgirl thankfully hurricane waugh played it ...   \n",
       "3      0  hurricane  taos you never got that magnificent case of bu...   \n",
       "4      0  hurricane            i m at mad river bar grille new york ny   \n",
       "\n",
       "                                          lemmatized  \\\n",
       "0  i ve got enough candle to supply a mexican family   \n",
       "1  sandy be soooo mad that she be shattering our ...   \n",
       "2  ibexgirl thankfully hurricane waugh played it ...   \n",
       "3  tao you never got that magnificent case of bur...   \n",
       "4            i m at mad river bar grille new york ny   \n",
       "\n",
       "                                             stemmed  \n",
       "0   i ve got enough candl to suppli a mexican famili  \n",
       "1  sandi be soooo mad that she be shatter our doo...  \n",
       "2  ibexgirl thank hurrican waugh play it cool and...  \n",
       "3  tao you never got that magnific case of burgun...  \n",
       "4             i m at mad river bar grill new york ny  "
      ]
     },
     "execution_count": 8,
     "metadata": {},
     "output_type": "execute_result"
    }
   ],
   "source": [
    "processed.head()"
   ]
  },
  {
   "cell_type": "code",
   "execution_count": 9,
   "metadata": {},
   "outputs": [],
   "source": [
    "# Run our processing function for each of the individual dataframes\n",
    "\n",
    "sandy_p = preprocessed_columns(dataframe = sandy)\n",
    "oklahoma_p = preprocessed_columns(dataframe = oklahoma)\n",
    "abflood_p = preprocessed_columns(dataframe = abflood)\n",
    "qlflood_p = preprocessed_columns(dataframe = oklahoma)"
   ]
  },
  {
   "cell_type": "code",
   "execution_count": 10,
   "metadata": {},
   "outputs": [
    {
     "data": {
      "text/html": [
       "<div>\n",
       "<style scoped>\n",
       "    .dataframe tbody tr th:only-of-type {\n",
       "        vertical-align: middle;\n",
       "    }\n",
       "\n",
       "    .dataframe tbody tr th {\n",
       "        vertical-align: top;\n",
       "    }\n",
       "\n",
       "    .dataframe thead th {\n",
       "        text-align: right;\n",
       "    }\n",
       "</style>\n",
       "<table border=\"1\" class=\"dataframe\">\n",
       "  <thead>\n",
       "    <tr style=\"text-align: right;\">\n",
       "      <th></th>\n",
       "      <th>id</th>\n",
       "      <th>tweet</th>\n",
       "      <th>label</th>\n",
       "      <th>disaster</th>\n",
       "      <th>tokenized</th>\n",
       "      <th>lemmatized</th>\n",
       "      <th>stemmed</th>\n",
       "    </tr>\n",
       "  </thead>\n",
       "  <tbody>\n",
       "    <tr>\n",
       "      <th>0</th>\n",
       "      <td>'262596552399396864'</td>\n",
       "      <td>i ve got enough candles to supply a mexican fa...</td>\n",
       "      <td>0</td>\n",
       "      <td>hurricane</td>\n",
       "      <td>i ve got enough candles to supply a mexican fa...</td>\n",
       "      <td>i ve got enough candle to supply a mexican family</td>\n",
       "      <td>i ve got enough candl to suppli a mexican famili</td>\n",
       "    </tr>\n",
       "    <tr>\n",
       "      <th>1</th>\n",
       "      <td>'263044104500420609'</td>\n",
       "      <td>sandy be soooo mad that she be shattering our ...</td>\n",
       "      <td>1</td>\n",
       "      <td>hurricane</td>\n",
       "      <td>sandy be soooo mad that she be shattering our ...</td>\n",
       "      <td>sandy be soooo mad that she be shattering our ...</td>\n",
       "      <td>sandi be soooo mad that she be shatter our doo...</td>\n",
       "    </tr>\n",
       "    <tr>\n",
       "      <th>2</th>\n",
       "      <td>'263309629973491712'</td>\n",
       "      <td>ibexgirl thankfully hurricane waugh played it ...</td>\n",
       "      <td>0</td>\n",
       "      <td>hurricane</td>\n",
       "      <td>ibexgirl thankfully hurricane waugh played it ...</td>\n",
       "      <td>ibexgirl thankfully hurricane waugh played it ...</td>\n",
       "      <td>ibexgirl thank hurrican waugh play it cool and...</td>\n",
       "    </tr>\n",
       "    <tr>\n",
       "      <th>3</th>\n",
       "      <td>'263422851133079552'</td>\n",
       "      <td>taos you never got that magnificent case of bu...</td>\n",
       "      <td>0</td>\n",
       "      <td>hurricane</td>\n",
       "      <td>taos you never got that magnificent case of bu...</td>\n",
       "      <td>tao you never got that magnificent case of bur...</td>\n",
       "      <td>tao you never got that magnific case of burgun...</td>\n",
       "    </tr>\n",
       "    <tr>\n",
       "      <th>4</th>\n",
       "      <td>'262404311223504896'</td>\n",
       "      <td>i m at mad river bar  grille  new york  ny</td>\n",
       "      <td>0</td>\n",
       "      <td>hurricane</td>\n",
       "      <td>i m at mad river bar grille new york ny</td>\n",
       "      <td>i m at mad river bar grille new york ny</td>\n",
       "      <td>i m at mad river bar grill new york ny</td>\n",
       "    </tr>\n",
       "  </tbody>\n",
       "</table>\n",
       "</div>"
      ],
      "text/plain": [
       "                     id                                              tweet  \\\n",
       "0  '262596552399396864'  i ve got enough candles to supply a mexican fa...   \n",
       "1  '263044104500420609'  sandy be soooo mad that she be shattering our ...   \n",
       "2  '263309629973491712'  ibexgirl thankfully hurricane waugh played it ...   \n",
       "3  '263422851133079552'  taos you never got that magnificent case of bu...   \n",
       "4  '262404311223504896'         i m at mad river bar  grille  new york  ny   \n",
       "\n",
       "   label   disaster                                          tokenized  \\\n",
       "0      0  hurricane  i ve got enough candles to supply a mexican fa...   \n",
       "1      1  hurricane  sandy be soooo mad that she be shattering our ...   \n",
       "2      0  hurricane  ibexgirl thankfully hurricane waugh played it ...   \n",
       "3      0  hurricane  taos you never got that magnificent case of bu...   \n",
       "4      0  hurricane            i m at mad river bar grille new york ny   \n",
       "\n",
       "                                          lemmatized  \\\n",
       "0  i ve got enough candle to supply a mexican family   \n",
       "1  sandy be soooo mad that she be shattering our ...   \n",
       "2  ibexgirl thankfully hurricane waugh played it ...   \n",
       "3  tao you never got that magnificent case of bur...   \n",
       "4            i m at mad river bar grille new york ny   \n",
       "\n",
       "                                             stemmed  \n",
       "0   i ve got enough candl to suppli a mexican famili  \n",
       "1  sandi be soooo mad that she be shatter our doo...  \n",
       "2  ibexgirl thank hurrican waugh play it cool and...  \n",
       "3  tao you never got that magnific case of burgun...  \n",
       "4             i m at mad river bar grill new york ny  "
      ]
     },
     "execution_count": 10,
     "metadata": {},
     "output_type": "execute_result"
    }
   ],
   "source": [
    "sandy_p.head()"
   ]
  },
  {
   "cell_type": "code",
   "execution_count": 11,
   "metadata": {},
   "outputs": [
    {
     "data": {
      "text/plain": [
       "1    21568\n",
       "0    18496\n",
       "Name: label, dtype: int64"
      ]
     },
     "execution_count": 11,
     "metadata": {},
     "output_type": "execute_result"
    }
   ],
   "source": [
    "# Baseline of how many tweets are on-topic(1) and off-topic(0)\n",
    "df['label'].value_counts()"
   ]
  },
  {
   "cell_type": "markdown",
   "metadata": {},
   "source": [
    "# Word Count Visualization"
   ]
  },
  {
   "cell_type": "markdown",
   "metadata": {},
   "source": [
    "## Combined Tweets"
   ]
  },
  {
   "cell_type": "markdown",
   "metadata": {},
   "source": [
    "### Tokenized"
   ]
  },
  {
   "cell_type": "code",
   "execution_count": 12,
   "metadata": {},
   "outputs": [],
   "source": [
    "# Instantiate a CountVectorizer removing english stopwords, ngram range of unigrams and bigrams\n",
    "# Require words appear in a minimum of 25 tweets and do not appear in more than 95% of tweets\n",
    "\n",
    "cv = CountVectorizer(stop_words = 'english',\n",
    "                     ngram_range = (1,2),\n",
    "                     min_df = 25,\n",
    "                     max_df = .95)"
   ]
  },
  {
   "cell_type": "code",
   "execution_count": 13,
   "metadata": {},
   "outputs": [],
   "source": [
    "# Create a dataframe of our CV transformed tokenized words\n",
    "\n",
    "cv_df_token = pd.SparseDataFrame(cv.fit_transform(processed['tokenized']), \n",
    "                           columns = cv.get_feature_names())\n",
    "cv_df_token.fillna(0, inplace=True)"
   ]
  },
  {
   "cell_type": "code",
   "execution_count": 14,
   "metadata": {},
   "outputs": [
    {
     "data": {
      "text/html": [
       "<div>\n",
       "<style scoped>\n",
       "    .dataframe tbody tr th:only-of-type {\n",
       "        vertical-align: middle;\n",
       "    }\n",
       "\n",
       "    .dataframe tbody tr th {\n",
       "        vertical-align: top;\n",
       "    }\n",
       "\n",
       "    .dataframe thead th {\n",
       "        text-align: right;\n",
       "    }\n",
       "</style>\n",
       "<table border=\"1\" class=\"dataframe\">\n",
       "  <thead>\n",
       "    <tr style=\"text-align: right;\">\n",
       "      <th></th>\n",
       "      <th>00</th>\n",
       "      <th>00 humidity</th>\n",
       "      <th>000</th>\n",
       "      <th>000 help</th>\n",
       "      <th>000 homes</th>\n",
       "      <th>000 people</th>\n",
       "      <th>10</th>\n",
       "      <th>10 donation</th>\n",
       "      <th>10 online</th>\n",
       "      <th>100</th>\n",
       "      <th>...</th>\n",
       "      <th>yycflood</th>\n",
       "      <th>yycflood abflood</th>\n",
       "      <th>yycflood relief</th>\n",
       "      <th>yycflood yyc</th>\n",
       "      <th>yycflood yychelps</th>\n",
       "      <th>yycfloods</th>\n",
       "      <th>yychelps</th>\n",
       "      <th>yychelps yycflood</th>\n",
       "      <th>zone</th>\n",
       "      <th>zoo</th>\n",
       "    </tr>\n",
       "  </thead>\n",
       "  <tbody>\n",
       "    <tr>\n",
       "      <th>0</th>\n",
       "      <td>0</td>\n",
       "      <td>0</td>\n",
       "      <td>0</td>\n",
       "      <td>0</td>\n",
       "      <td>0</td>\n",
       "      <td>0</td>\n",
       "      <td>0</td>\n",
       "      <td>0</td>\n",
       "      <td>0</td>\n",
       "      <td>0</td>\n",
       "      <td>...</td>\n",
       "      <td>0</td>\n",
       "      <td>0</td>\n",
       "      <td>0</td>\n",
       "      <td>0</td>\n",
       "      <td>0</td>\n",
       "      <td>0</td>\n",
       "      <td>0</td>\n",
       "      <td>0</td>\n",
       "      <td>0</td>\n",
       "      <td>0</td>\n",
       "    </tr>\n",
       "    <tr>\n",
       "      <th>1</th>\n",
       "      <td>0</td>\n",
       "      <td>0</td>\n",
       "      <td>0</td>\n",
       "      <td>0</td>\n",
       "      <td>0</td>\n",
       "      <td>0</td>\n",
       "      <td>0</td>\n",
       "      <td>0</td>\n",
       "      <td>0</td>\n",
       "      <td>0</td>\n",
       "      <td>...</td>\n",
       "      <td>0</td>\n",
       "      <td>0</td>\n",
       "      <td>0</td>\n",
       "      <td>0</td>\n",
       "      <td>0</td>\n",
       "      <td>0</td>\n",
       "      <td>0</td>\n",
       "      <td>0</td>\n",
       "      <td>0</td>\n",
       "      <td>0</td>\n",
       "    </tr>\n",
       "    <tr>\n",
       "      <th>2</th>\n",
       "      <td>0</td>\n",
       "      <td>0</td>\n",
       "      <td>0</td>\n",
       "      <td>0</td>\n",
       "      <td>0</td>\n",
       "      <td>0</td>\n",
       "      <td>0</td>\n",
       "      <td>0</td>\n",
       "      <td>0</td>\n",
       "      <td>0</td>\n",
       "      <td>...</td>\n",
       "      <td>0</td>\n",
       "      <td>0</td>\n",
       "      <td>0</td>\n",
       "      <td>0</td>\n",
       "      <td>0</td>\n",
       "      <td>0</td>\n",
       "      <td>0</td>\n",
       "      <td>0</td>\n",
       "      <td>0</td>\n",
       "      <td>0</td>\n",
       "    </tr>\n",
       "    <tr>\n",
       "      <th>3</th>\n",
       "      <td>0</td>\n",
       "      <td>0</td>\n",
       "      <td>0</td>\n",
       "      <td>0</td>\n",
       "      <td>0</td>\n",
       "      <td>0</td>\n",
       "      <td>0</td>\n",
       "      <td>0</td>\n",
       "      <td>0</td>\n",
       "      <td>0</td>\n",
       "      <td>...</td>\n",
       "      <td>0</td>\n",
       "      <td>0</td>\n",
       "      <td>0</td>\n",
       "      <td>0</td>\n",
       "      <td>0</td>\n",
       "      <td>0</td>\n",
       "      <td>0</td>\n",
       "      <td>0</td>\n",
       "      <td>0</td>\n",
       "      <td>0</td>\n",
       "    </tr>\n",
       "    <tr>\n",
       "      <th>4</th>\n",
       "      <td>0</td>\n",
       "      <td>0</td>\n",
       "      <td>0</td>\n",
       "      <td>0</td>\n",
       "      <td>0</td>\n",
       "      <td>0</td>\n",
       "      <td>0</td>\n",
       "      <td>0</td>\n",
       "      <td>0</td>\n",
       "      <td>0</td>\n",
       "      <td>...</td>\n",
       "      <td>0</td>\n",
       "      <td>0</td>\n",
       "      <td>0</td>\n",
       "      <td>0</td>\n",
       "      <td>0</td>\n",
       "      <td>0</td>\n",
       "      <td>0</td>\n",
       "      <td>0</td>\n",
       "      <td>0</td>\n",
       "      <td>0</td>\n",
       "    </tr>\n",
       "  </tbody>\n",
       "</table>\n",
       "<p>5 rows × 2563 columns</p>\n",
       "</div>"
      ],
      "text/plain": [
       "   00  00 humidity  000  000 help  000 homes  000 people  10  10 donation  \\\n",
       "0   0            0    0         0          0           0   0            0   \n",
       "1   0            0    0         0          0           0   0            0   \n",
       "2   0            0    0         0          0           0   0            0   \n",
       "3   0            0    0         0          0           0   0            0   \n",
       "4   0            0    0         0          0           0   0            0   \n",
       "\n",
       "   10 online  100  ...  yycflood  yycflood abflood  yycflood relief  \\\n",
       "0          0    0  ...         0                 0                0   \n",
       "1          0    0  ...         0                 0                0   \n",
       "2          0    0  ...         0                 0                0   \n",
       "3          0    0  ...         0                 0                0   \n",
       "4          0    0  ...         0                 0                0   \n",
       "\n",
       "   yycflood yyc  yycflood yychelps  yycfloods  yychelps  yychelps yycflood  \\\n",
       "0             0                  0          0         0                  0   \n",
       "1             0                  0          0         0                  0   \n",
       "2             0                  0          0         0                  0   \n",
       "3             0                  0          0         0                  0   \n",
       "4             0                  0          0         0                  0   \n",
       "\n",
       "   zone  zoo  \n",
       "0     0    0  \n",
       "1     0    0  \n",
       "2     0    0  \n",
       "3     0    0  \n",
       "4     0    0  \n",
       "\n",
       "[5 rows x 2563 columns]"
      ]
     },
     "execution_count": 14,
     "metadata": {},
     "output_type": "execute_result"
    }
   ],
   "source": [
    "cv_df_token.head()"
   ]
  },
  {
   "cell_type": "code",
   "execution_count": 15,
   "metadata": {
    "scrolled": false
   },
   "outputs": [
    {
     "data": {
      "image/png": "[encoded data removed]",
      "text/plain": [
       "<Figure size 1440x720 with 1 Axes>"
      ]
     },
     "metadata": {
      "needs_background": "light"
     },
     "output_type": "display_data"
    }
   ],
   "source": [
    "# Visualize the top occuring words in our 40,000 tweet dataset\n",
    "\n",
    "plt.figure(figsize=(20, 10))\n",
    "plt.barh(y = cv_df_token.sum().sort_values(ascending=False).head(20).index,\n",
    "         width = cv_df_token.sum().sort_values(ascending=False).head(20))\n",
    "plt.title('Top Word Count - Entire Dataset', fontsize=30)\n",
    "plt.xlabel('Count', fontsize=15)\n",
    "plt.xticks(fontsize=25)\n",
    "plt.yticks(fontsize=25);"
   ]
  },
  {
   "cell_type": "code",
   "execution_count": 16,
   "metadata": {},
   "outputs": [
    {
     "name": "stdout",
     "output_type": "stream",
     "text": [
      "(21568, 7)\n",
      "(18496, 7)\n"
     ]
    }
   ],
   "source": [
    "# Split our dataframe into on-topic and off-topic\n",
    "# We will use the on-topic tweets to determine urgency\n",
    "\n",
    "df_ontopic = processed[processed['label'] == 1]\n",
    "df_offtopic = processed[processed['label'] == 0]\n",
    "\n",
    "print(df_ontopic.shape)\n",
    "print(df_offtopic.shape)"
   ]
  },
  {
   "cell_type": "code",
   "execution_count": 17,
   "metadata": {},
   "outputs": [],
   "source": [
    "# Create our dataframe of features obtained from our CountVectorizer\n",
    "\n",
    "cv_dfontopic_token = pd.SparseDataFrame(cv.fit_transform(df_ontopic['tokenized']), \n",
    "                                        columns = cv.get_feature_names())\n",
    "cv_dfontopic_token.fillna(0, inplace=True)"
   ]
  },
  {
   "cell_type": "code",
   "execution_count": 18,
   "metadata": {
    "scrolled": false
   },
   "outputs": [
    {
     "data": {
      "image/png": "[encoded data removed]",
      "text/plain": [
       "<Figure size 1440x720 with 1 Axes>"
      ]
     },
     "metadata": {
      "needs_background": "light"
     },
     "output_type": "display_data"
    }
   ],
   "source": [
    "# Plot top 20 features\n",
    "\n",
    "plt.figure(figsize=(20, 10))\n",
    "plt.barh(y = cv_dfontopic_token.sum().sort_values(ascending=False).head(20).index,\n",
    "         width = cv_dfontopic_token.sum().sort_values(ascending=False).head(20))\n",
    "plt.title('Top Word Count - On-Topic Tweets', fontsize=30)\n",
    "plt.xlabel('Count', fontsize=15)\n",
    "plt.xticks(fontsize=25)\n",
    "plt.yticks(fontsize=25);"
   ]
  },
  {
   "cell_type": "markdown",
   "metadata": {},
   "source": [
    "### Lemmatized"
   ]
  },
  {
   "cell_type": "code",
   "execution_count": 19,
   "metadata": {},
   "outputs": [],
   "source": [
    "# This is the same thing we did above but for lemmatized words rather than tokenized\n",
    "\n",
    "cv_lem = CountVectorizer(stop_words = 'english',\n",
    "                         ngram_range = (1,2),\n",
    "                         min_df = 25,\n",
    "                         max_df = .95)"
   ]
  },
  {
   "cell_type": "code",
   "execution_count": 20,
   "metadata": {},
   "outputs": [],
   "source": [
    "cv_df_lem = pd.SparseDataFrame(cv_lem.fit_transform(processed['lemmatized']),\n",
    "                               columns = cv_lem.get_feature_names())\n",
    "cv_df_lem.fillna(0, inplace=True)"
   ]
  },
  {
   "cell_type": "code",
   "execution_count": 21,
   "metadata": {},
   "outputs": [
    {
     "data": {
      "text/html": [
       "<div>\n",
       "<style scoped>\n",
       "    .dataframe tbody tr th:only-of-type {\n",
       "        vertical-align: middle;\n",
       "    }\n",
       "\n",
       "    .dataframe tbody tr th {\n",
       "        vertical-align: top;\n",
       "    }\n",
       "\n",
       "    .dataframe thead th {\n",
       "        text-align: right;\n",
       "    }\n",
       "</style>\n",
       "<table border=\"1\" class=\"dataframe\">\n",
       "  <thead>\n",
       "    <tr style=\"text-align: right;\">\n",
       "      <th></th>\n",
       "      <th>00</th>\n",
       "      <th>00 humidity</th>\n",
       "      <th>000</th>\n",
       "      <th>000 help</th>\n",
       "      <th>000 home</th>\n",
       "      <th>000 people</th>\n",
       "      <th>10</th>\n",
       "      <th>10 donation</th>\n",
       "      <th>10 online</th>\n",
       "      <th>100</th>\n",
       "      <th>...</th>\n",
       "      <th>yycflood</th>\n",
       "      <th>yycflood abflood</th>\n",
       "      <th>yycflood relief</th>\n",
       "      <th>yycflood yyc</th>\n",
       "      <th>yycflood yychelps</th>\n",
       "      <th>yycfloods</th>\n",
       "      <th>yychelps</th>\n",
       "      <th>yychelps yycflood</th>\n",
       "      <th>zone</th>\n",
       "      <th>zoo</th>\n",
       "    </tr>\n",
       "  </thead>\n",
       "  <tbody>\n",
       "    <tr>\n",
       "      <th>0</th>\n",
       "      <td>0</td>\n",
       "      <td>0</td>\n",
       "      <td>0</td>\n",
       "      <td>0</td>\n",
       "      <td>0</td>\n",
       "      <td>0</td>\n",
       "      <td>0</td>\n",
       "      <td>0</td>\n",
       "      <td>0</td>\n",
       "      <td>0</td>\n",
       "      <td>...</td>\n",
       "      <td>0</td>\n",
       "      <td>0</td>\n",
       "      <td>0</td>\n",
       "      <td>0</td>\n",
       "      <td>0</td>\n",
       "      <td>0</td>\n",
       "      <td>0</td>\n",
       "      <td>0</td>\n",
       "      <td>0</td>\n",
       "      <td>0</td>\n",
       "    </tr>\n",
       "    <tr>\n",
       "      <th>1</th>\n",
       "      <td>0</td>\n",
       "      <td>0</td>\n",
       "      <td>0</td>\n",
       "      <td>0</td>\n",
       "      <td>0</td>\n",
       "      <td>0</td>\n",
       "      <td>0</td>\n",
       "      <td>0</td>\n",
       "      <td>0</td>\n",
       "      <td>0</td>\n",
       "      <td>...</td>\n",
       "      <td>0</td>\n",
       "      <td>0</td>\n",
       "      <td>0</td>\n",
       "      <td>0</td>\n",
       "      <td>0</td>\n",
       "      <td>0</td>\n",
       "      <td>0</td>\n",
       "      <td>0</td>\n",
       "      <td>0</td>\n",
       "      <td>0</td>\n",
       "    </tr>\n",
       "    <tr>\n",
       "      <th>2</th>\n",
       "      <td>0</td>\n",
       "      <td>0</td>\n",
       "      <td>0</td>\n",
       "      <td>0</td>\n",
       "      <td>0</td>\n",
       "      <td>0</td>\n",
       "      <td>0</td>\n",
       "      <td>0</td>\n",
       "      <td>0</td>\n",
       "      <td>0</td>\n",
       "      <td>...</td>\n",
       "      <td>0</td>\n",
       "      <td>0</td>\n",
       "      <td>0</td>\n",
       "      <td>0</td>\n",
       "      <td>0</td>\n",
       "      <td>0</td>\n",
       "      <td>0</td>\n",
       "      <td>0</td>\n",
       "      <td>0</td>\n",
       "      <td>0</td>\n",
       "    </tr>\n",
       "    <tr>\n",
       "      <th>3</th>\n",
       "      <td>0</td>\n",
       "      <td>0</td>\n",
       "      <td>0</td>\n",
       "      <td>0</td>\n",
       "      <td>0</td>\n",
       "      <td>0</td>\n",
       "      <td>0</td>\n",
       "      <td>0</td>\n",
       "      <td>0</td>\n",
       "      <td>0</td>\n",
       "      <td>...</td>\n",
       "      <td>0</td>\n",
       "      <td>0</td>\n",
       "      <td>0</td>\n",
       "      <td>0</td>\n",
       "      <td>0</td>\n",
       "      <td>0</td>\n",
       "      <td>0</td>\n",
       "      <td>0</td>\n",
       "      <td>0</td>\n",
       "      <td>0</td>\n",
       "    </tr>\n",
       "    <tr>\n",
       "      <th>4</th>\n",
       "      <td>0</td>\n",
       "      <td>0</td>\n",
       "      <td>0</td>\n",
       "      <td>0</td>\n",
       "      <td>0</td>\n",
       "      <td>0</td>\n",
       "      <td>0</td>\n",
       "      <td>0</td>\n",
       "      <td>0</td>\n",
       "      <td>0</td>\n",
       "      <td>...</td>\n",
       "      <td>0</td>\n",
       "      <td>0</td>\n",
       "      <td>0</td>\n",
       "      <td>0</td>\n",
       "      <td>0</td>\n",
       "      <td>0</td>\n",
       "      <td>0</td>\n",
       "      <td>0</td>\n",
       "      <td>0</td>\n",
       "      <td>0</td>\n",
       "    </tr>\n",
       "  </tbody>\n",
       "</table>\n",
       "<p>5 rows × 2533 columns</p>\n",
       "</div>"
      ],
      "text/plain": [
       "   00  00 humidity  000  000 help  000 home  000 people  10  10 donation  \\\n",
       "0   0            0    0         0         0           0   0            0   \n",
       "1   0            0    0         0         0           0   0            0   \n",
       "2   0            0    0         0         0           0   0            0   \n",
       "3   0            0    0         0         0           0   0            0   \n",
       "4   0            0    0         0         0           0   0            0   \n",
       "\n",
       "   10 online  100  ...  yycflood  yycflood abflood  yycflood relief  \\\n",
       "0          0    0  ...         0                 0                0   \n",
       "1          0    0  ...         0                 0                0   \n",
       "2          0    0  ...         0                 0                0   \n",
       "3          0    0  ...         0                 0                0   \n",
       "4          0    0  ...         0                 0                0   \n",
       "\n",
       "   yycflood yyc  yycflood yychelps  yycfloods  yychelps  yychelps yycflood  \\\n",
       "0             0                  0          0         0                  0   \n",
       "1             0                  0          0         0                  0   \n",
       "2             0                  0          0         0                  0   \n",
       "3             0                  0          0         0                  0   \n",
       "4             0                  0          0         0                  0   \n",
       "\n",
       "   zone  zoo  \n",
       "0     0    0  \n",
       "1     0    0  \n",
       "2     0    0  \n",
       "3     0    0  \n",
       "4     0    0  \n",
       "\n",
       "[5 rows x 2533 columns]"
      ]
     },
     "execution_count": 21,
     "metadata": {},
     "output_type": "execute_result"
    }
   ],
   "source": [
    "cv_df_lem.head()"
   ]
  },
  {
   "cell_type": "code",
   "execution_count": 22,
   "metadata": {},
   "outputs": [
    {
     "data": {
      "image/png": "[encoded data removed]",
      "text/plain": [
       "<Figure size 1440x720 with 1 Axes>"
      ]
     },
     "metadata": {
      "needs_background": "light"
     },
     "output_type": "display_data"
    }
   ],
   "source": [
    "plt.figure(figsize=(20, 10))\n",
    "plt.barh(y = cv_df_lem.sum().sort_values(ascending=False).head(20).index,\n",
    "         width = cv_df_lem.sum().sort_values(ascending=False).head(20))\n",
    "plt.title('Top Word Count', fontsize=30)\n",
    "plt.xlabel('Count', fontsize=15)\n",
    "plt.xticks(fontsize=15)\n",
    "plt.yticks(fontsize=15);"
   ]
  },
  {
   "cell_type": "markdown",
   "metadata": {},
   "source": [
    "### Stemmed"
   ]
  },
  {
   "cell_type": "code",
   "execution_count": 23,
   "metadata": {},
   "outputs": [],
   "source": [
    "# This is the same thing we did for the tokenized above, but for stemmed words\n",
    "\n",
    "cv_stem = CountVectorizer(stop_words = 'english',\n",
    "                          ngram_range = (1,2),\n",
    "                          min_df = 25,\n",
    "                          max_df = .95)"
   ]
  },
  {
   "cell_type": "code",
   "execution_count": 24,
   "metadata": {},
   "outputs": [],
   "source": [
    "cv_df_stem = pd.SparseDataFrame(cv_stem.fit_transform(processed['stemmed']),\n",
    "                                columns = cv_stem.get_feature_names())\n",
    "cv_df_stem.fillna(0, inplace=True)"
   ]
  },
  {
   "cell_type": "code",
   "execution_count": 25,
   "metadata": {},
   "outputs": [
    {
     "data": {
      "image/png": "[encoded data removed]",
      "text/plain": [
       "<Figure size 1440x720 with 1 Axes>"
      ]
     },
     "metadata": {
      "needs_background": "light"
     },
     "output_type": "display_data"
    }
   ],
   "source": [
    "plt.figure(figsize=(20, 10))\n",
    "plt.barh(y = cv_df_stem.sum().sort_values(ascending=False).head(20).index,\n",
    "         width = cv_df_stem.sum().sort_values(ascending=False).head(20))\n",
    "plt.title('Top Word Count', fontsize=30)\n",
    "plt.xlabel('Count', fontsize=15)\n",
    "plt.xticks(fontsize=15)\n",
    "plt.yticks(fontsize=15);"
   ]
  },
  {
   "cell_type": "markdown",
   "metadata": {},
   "source": [
    "## Sandy Tweets"
   ]
  },
  {
   "cell_type": "code",
   "execution_count": 26,
   "metadata": {},
   "outputs": [],
   "source": [
    "# Splitting Sandy tweets specifically\n",
    "# The below is the same thing we did above for the entire dataframe\n",
    "\n",
    "sandy_ontopic = sandy_p[sandy_p['label'] == 1]\n",
    "sandy_offtopic = sandy_p[sandy_p['label'] == 0]"
   ]
  },
  {
   "cell_type": "code",
   "execution_count": 27,
   "metadata": {},
   "outputs": [
    {
     "data": {
      "text/html": [
       "<div>\n",
       "<style scoped>\n",
       "    .dataframe tbody tr th:only-of-type {\n",
       "        vertical-align: middle;\n",
       "    }\n",
       "\n",
       "    .dataframe tbody tr th {\n",
       "        vertical-align: top;\n",
       "    }\n",
       "\n",
       "    .dataframe thead th {\n",
       "        text-align: right;\n",
       "    }\n",
       "</style>\n",
       "<table border=\"1\" class=\"dataframe\">\n",
       "  <thead>\n",
       "    <tr style=\"text-align: right;\">\n",
       "      <th></th>\n",
       "      <th>id</th>\n",
       "      <th>tweet</th>\n",
       "      <th>label</th>\n",
       "      <th>disaster</th>\n",
       "      <th>tokenized</th>\n",
       "      <th>lemmatized</th>\n",
       "      <th>stemmed</th>\n",
       "    </tr>\n",
       "  </thead>\n",
       "  <tbody>\n",
       "    <tr>\n",
       "      <th>1</th>\n",
       "      <td>'263044104500420609'</td>\n",
       "      <td>sandy be soooo mad that she be shattering our ...</td>\n",
       "      <td>1</td>\n",
       "      <td>hurricane</td>\n",
       "      <td>sandy be soooo mad that she be shattering our ...</td>\n",
       "      <td>sandy be soooo mad that she be shattering our ...</td>\n",
       "      <td>sandi be soooo mad that she be shatter our doo...</td>\n",
       "    </tr>\n",
       "    <tr>\n",
       "      <th>5</th>\n",
       "      <td>'263101347421888513'</td>\n",
       "      <td>neighborly duties   cory kennedy arrives to th...</td>\n",
       "      <td>1</td>\n",
       "      <td>hurricane</td>\n",
       "      <td>neighborly duties cory kennedy arrives to the ...</td>\n",
       "      <td>neighborly duty cory kennedy arrives to the re...</td>\n",
       "      <td>neighborli duti cori kennedi arriv to the resc...</td>\n",
       "    </tr>\n",
       "    <tr>\n",
       "      <th>7</th>\n",
       "      <td>'263298821189156865'</td>\n",
       "      <td>i don t know how i m getting back to jersey si...</td>\n",
       "      <td>1</td>\n",
       "      <td>hurricane</td>\n",
       "      <td>i don t know how i m getting back to jersey si...</td>\n",
       "      <td>i don t know how i m getting back to jersey si...</td>\n",
       "      <td>i don t know how i m get back to jersey sinc t...</td>\n",
       "    </tr>\n",
       "    <tr>\n",
       "      <th>10</th>\n",
       "      <td>'262914476989358080'</td>\n",
       "      <td>already flooded so much  sandy   hoboken</td>\n",
       "      <td>1</td>\n",
       "      <td>hurricane</td>\n",
       "      <td>already flooded so much sandy hoboken</td>\n",
       "      <td>already flooded so much sandy hoboken</td>\n",
       "      <td>alreadi flood so much sandi hoboken</td>\n",
       "    </tr>\n",
       "    <tr>\n",
       "      <th>12</th>\n",
       "      <td>'262991999911743490'</td>\n",
       "      <td>on that note  i pray that everyone stays safe ...</td>\n",
       "      <td>1</td>\n",
       "      <td>hurricane</td>\n",
       "      <td>on that note i pray that everyone stays safe a...</td>\n",
       "      <td>on that note i pray that everyone stay safe an...</td>\n",
       "      <td>on that note i pray that everyon stay safe and...</td>\n",
       "    </tr>\n",
       "  </tbody>\n",
       "</table>\n",
       "</div>"
      ],
      "text/plain": [
       "                      id                                              tweet  \\\n",
       "1   '263044104500420609'  sandy be soooo mad that she be shattering our ...   \n",
       "5   '263101347421888513'  neighborly duties   cory kennedy arrives to th...   \n",
       "7   '263298821189156865'  i don t know how i m getting back to jersey si...   \n",
       "10  '262914476989358080'           already flooded so much  sandy   hoboken   \n",
       "12  '262991999911743490'  on that note  i pray that everyone stays safe ...   \n",
       "\n",
       "    label   disaster                                          tokenized  \\\n",
       "1       1  hurricane  sandy be soooo mad that she be shattering our ...   \n",
       "5       1  hurricane  neighborly duties cory kennedy arrives to the ...   \n",
       "7       1  hurricane  i don t know how i m getting back to jersey si...   \n",
       "10      1  hurricane              already flooded so much sandy hoboken   \n",
       "12      1  hurricane  on that note i pray that everyone stays safe a...   \n",
       "\n",
       "                                           lemmatized  \\\n",
       "1   sandy be soooo mad that she be shattering our ...   \n",
       "5   neighborly duty cory kennedy arrives to the re...   \n",
       "7   i don t know how i m getting back to jersey si...   \n",
       "10              already flooded so much sandy hoboken   \n",
       "12  on that note i pray that everyone stay safe an...   \n",
       "\n",
       "                                              stemmed  \n",
       "1   sandi be soooo mad that she be shatter our doo...  \n",
       "5   neighborli duti cori kennedi arriv to the resc...  \n",
       "7   i don t know how i m get back to jersey sinc t...  \n",
       "10                alreadi flood so much sandi hoboken  \n",
       "12  on that note i pray that everyon stay safe and...  "
      ]
     },
     "execution_count": 27,
     "metadata": {},
     "output_type": "execute_result"
    }
   ],
   "source": [
    "sandy_ontopic.head()"
   ]
  },
  {
   "cell_type": "code",
   "execution_count": 28,
   "metadata": {},
   "outputs": [],
   "source": [
    "sandy_cv_df_token = pd.SparseDataFrame(cv.fit_transform(sandy_p['tokenized']),\n",
    "                                       columns = cv.get_feature_names())\n",
    "sandy_cv_df_token.fillna(0, inplace=True)"
   ]
  },
  {
   "cell_type": "code",
   "execution_count": 29,
   "metadata": {},
   "outputs": [
    {
     "data": {
      "text/html": [
       "<div>\n",
       "<style scoped>\n",
       "    .dataframe tbody tr th:only-of-type {\n",
       "        vertical-align: middle;\n",
       "    }\n",
       "\n",
       "    .dataframe tbody tr th {\n",
       "        vertical-align: top;\n",
       "    }\n",
       "\n",
       "    .dataframe thead th {\n",
       "        text-align: right;\n",
       "    }\n",
       "</style>\n",
       "<table border=\"1\" class=\"dataframe\">\n",
       "  <thead>\n",
       "    <tr style=\"text-align: right;\">\n",
       "      <th></th>\n",
       "      <th>000</th>\n",
       "      <th>000 help</th>\n",
       "      <th>10</th>\n",
       "      <th>100</th>\n",
       "      <th>100 retweets</th>\n",
       "      <th>11</th>\n",
       "      <th>2012</th>\n",
       "      <th>30</th>\n",
       "      <th>65</th>\n",
       "      <th>65 victims</th>\n",
       "      <th>...</th>\n",
       "      <th>yeah</th>\n",
       "      <th>year</th>\n",
       "      <th>years</th>\n",
       "      <th>yes</th>\n",
       "      <th>yesterday</th>\n",
       "      <th>yo</th>\n",
       "      <th>york</th>\n",
       "      <th>york city</th>\n",
       "      <th>york ny</th>\n",
       "      <th>zone</th>\n",
       "    </tr>\n",
       "  </thead>\n",
       "  <tbody>\n",
       "    <tr>\n",
       "      <th>0</th>\n",
       "      <td>0</td>\n",
       "      <td>0</td>\n",
       "      <td>0</td>\n",
       "      <td>0</td>\n",
       "      <td>0</td>\n",
       "      <td>0</td>\n",
       "      <td>0</td>\n",
       "      <td>0</td>\n",
       "      <td>0</td>\n",
       "      <td>0</td>\n",
       "      <td>...</td>\n",
       "      <td>0</td>\n",
       "      <td>0</td>\n",
       "      <td>0</td>\n",
       "      <td>0</td>\n",
       "      <td>0</td>\n",
       "      <td>0</td>\n",
       "      <td>0</td>\n",
       "      <td>0</td>\n",
       "      <td>0</td>\n",
       "      <td>0</td>\n",
       "    </tr>\n",
       "    <tr>\n",
       "      <th>1</th>\n",
       "      <td>0</td>\n",
       "      <td>0</td>\n",
       "      <td>0</td>\n",
       "      <td>0</td>\n",
       "      <td>0</td>\n",
       "      <td>0</td>\n",
       "      <td>0</td>\n",
       "      <td>0</td>\n",
       "      <td>0</td>\n",
       "      <td>0</td>\n",
       "      <td>...</td>\n",
       "      <td>0</td>\n",
       "      <td>0</td>\n",
       "      <td>0</td>\n",
       "      <td>0</td>\n",
       "      <td>0</td>\n",
       "      <td>0</td>\n",
       "      <td>0</td>\n",
       "      <td>0</td>\n",
       "      <td>0</td>\n",
       "      <td>0</td>\n",
       "    </tr>\n",
       "    <tr>\n",
       "      <th>2</th>\n",
       "      <td>0</td>\n",
       "      <td>0</td>\n",
       "      <td>0</td>\n",
       "      <td>0</td>\n",
       "      <td>0</td>\n",
       "      <td>0</td>\n",
       "      <td>0</td>\n",
       "      <td>0</td>\n",
       "      <td>0</td>\n",
       "      <td>0</td>\n",
       "      <td>...</td>\n",
       "      <td>0</td>\n",
       "      <td>0</td>\n",
       "      <td>0</td>\n",
       "      <td>0</td>\n",
       "      <td>0</td>\n",
       "      <td>0</td>\n",
       "      <td>0</td>\n",
       "      <td>0</td>\n",
       "      <td>0</td>\n",
       "      <td>0</td>\n",
       "    </tr>\n",
       "    <tr>\n",
       "      <th>3</th>\n",
       "      <td>0</td>\n",
       "      <td>0</td>\n",
       "      <td>0</td>\n",
       "      <td>0</td>\n",
       "      <td>0</td>\n",
       "      <td>0</td>\n",
       "      <td>0</td>\n",
       "      <td>0</td>\n",
       "      <td>0</td>\n",
       "      <td>0</td>\n",
       "      <td>...</td>\n",
       "      <td>0</td>\n",
       "      <td>0</td>\n",
       "      <td>0</td>\n",
       "      <td>0</td>\n",
       "      <td>0</td>\n",
       "      <td>0</td>\n",
       "      <td>0</td>\n",
       "      <td>0</td>\n",
       "      <td>0</td>\n",
       "      <td>0</td>\n",
       "    </tr>\n",
       "    <tr>\n",
       "      <th>4</th>\n",
       "      <td>0</td>\n",
       "      <td>0</td>\n",
       "      <td>0</td>\n",
       "      <td>0</td>\n",
       "      <td>0</td>\n",
       "      <td>0</td>\n",
       "      <td>0</td>\n",
       "      <td>0</td>\n",
       "      <td>0</td>\n",
       "      <td>0</td>\n",
       "      <td>...</td>\n",
       "      <td>0</td>\n",
       "      <td>0</td>\n",
       "      <td>0</td>\n",
       "      <td>0</td>\n",
       "      <td>0</td>\n",
       "      <td>0</td>\n",
       "      <td>1</td>\n",
       "      <td>0</td>\n",
       "      <td>1</td>\n",
       "      <td>0</td>\n",
       "    </tr>\n",
       "  </tbody>\n",
       "</table>\n",
       "<p>5 rows × 584 columns</p>\n",
       "</div>"
      ],
      "text/plain": [
       "   000  000 help  10  100  100 retweets  11  2012  30  65  65 victims  ...  \\\n",
       "0    0         0   0    0             0   0     0   0   0           0  ...   \n",
       "1    0         0   0    0             0   0     0   0   0           0  ...   \n",
       "2    0         0   0    0             0   0     0   0   0           0  ...   \n",
       "3    0         0   0    0             0   0     0   0   0           0  ...   \n",
       "4    0         0   0    0             0   0     0   0   0           0  ...   \n",
       "\n",
       "   yeah  year  years  yes  yesterday  yo  york  york city  york ny  zone  \n",
       "0     0     0      0    0          0   0     0          0        0     0  \n",
       "1     0     0      0    0          0   0     0          0        0     0  \n",
       "2     0     0      0    0          0   0     0          0        0     0  \n",
       "3     0     0      0    0          0   0     0          0        0     0  \n",
       "4     0     0      0    0          0   0     1          0        1     0  \n",
       "\n",
       "[5 rows x 584 columns]"
      ]
     },
     "execution_count": 29,
     "metadata": {},
     "output_type": "execute_result"
    }
   ],
   "source": [
    "sandy_cv_df_token.head()"
   ]
  },
  {
   "cell_type": "code",
   "execution_count": 30,
   "metadata": {},
   "outputs": [
    {
     "data": {
      "image/png": "[encoded data removed]",
      "text/plain": [
       "<Figure size 1440x720 with 1 Axes>"
      ]
     },
     "metadata": {
      "needs_background": "light"
     },
     "output_type": "display_data"
    }
   ],
   "source": [
    "plt.figure(figsize=(20, 10))\n",
    "plt.barh(y = sandy_cv_df_token.sum().sort_values(ascending=False).head(20).index,\n",
    "         width = sandy_cv_df_token.sum().sort_values(ascending=False).head(20))\n",
    "plt.title('Top Word Count', fontsize=30)\n",
    "plt.xlabel('Count', fontsize=15)\n",
    "plt.xticks(fontsize=20)\n",
    "plt.yticks(fontsize=20);"
   ]
  },
  {
   "cell_type": "code",
   "execution_count": 31,
   "metadata": {},
   "outputs": [],
   "source": [
    "sandyontopic_cv_df_token = pd.SparseDataFrame(cv.fit_transform(sandy_ontopic['tokenized']),\n",
    "                                              columns = cv.get_feature_names())\n",
    "sandyontopic_cv_df_token.fillna(0, inplace=True)"
   ]
  },
  {
   "cell_type": "code",
   "execution_count": 32,
   "metadata": {},
   "outputs": [
    {
     "data": {
      "text/html": [
       "<div>\n",
       "<style scoped>\n",
       "    .dataframe tbody tr th:only-of-type {\n",
       "        vertical-align: middle;\n",
       "    }\n",
       "\n",
       "    .dataframe tbody tr th {\n",
       "        vertical-align: top;\n",
       "    }\n",
       "\n",
       "    .dataframe thead th {\n",
       "        text-align: right;\n",
       "    }\n",
       "</style>\n",
       "<table border=\"1\" class=\"dataframe\">\n",
       "  <thead>\n",
       "    <tr style=\"text-align: right;\">\n",
       "      <th></th>\n",
       "      <th>000</th>\n",
       "      <th>000 help</th>\n",
       "      <th>10</th>\n",
       "      <th>100</th>\n",
       "      <th>100 retweets</th>\n",
       "      <th>2012</th>\n",
       "      <th>30</th>\n",
       "      <th>65</th>\n",
       "      <th>65 victims</th>\n",
       "      <th>accounts</th>\n",
       "      <th>...</th>\n",
       "      <th>work</th>\n",
       "      <th>world</th>\n",
       "      <th>worried</th>\n",
       "      <th>worse</th>\n",
       "      <th>worst</th>\n",
       "      <th>wouldn</th>\n",
       "      <th>wow</th>\n",
       "      <th>yo</th>\n",
       "      <th>york</th>\n",
       "      <th>york city</th>\n",
       "    </tr>\n",
       "  </thead>\n",
       "  <tbody>\n",
       "    <tr>\n",
       "      <th>0</th>\n",
       "      <td>0</td>\n",
       "      <td>0</td>\n",
       "      <td>0</td>\n",
       "      <td>0</td>\n",
       "      <td>0</td>\n",
       "      <td>0</td>\n",
       "      <td>0</td>\n",
       "      <td>0</td>\n",
       "      <td>0</td>\n",
       "      <td>0</td>\n",
       "      <td>...</td>\n",
       "      <td>0</td>\n",
       "      <td>0</td>\n",
       "      <td>0</td>\n",
       "      <td>0</td>\n",
       "      <td>0</td>\n",
       "      <td>0</td>\n",
       "      <td>0</td>\n",
       "      <td>0</td>\n",
       "      <td>0</td>\n",
       "      <td>0</td>\n",
       "    </tr>\n",
       "    <tr>\n",
       "      <th>1</th>\n",
       "      <td>0</td>\n",
       "      <td>0</td>\n",
       "      <td>0</td>\n",
       "      <td>0</td>\n",
       "      <td>0</td>\n",
       "      <td>0</td>\n",
       "      <td>0</td>\n",
       "      <td>0</td>\n",
       "      <td>0</td>\n",
       "      <td>0</td>\n",
       "      <td>...</td>\n",
       "      <td>0</td>\n",
       "      <td>0</td>\n",
       "      <td>0</td>\n",
       "      <td>0</td>\n",
       "      <td>0</td>\n",
       "      <td>0</td>\n",
       "      <td>0</td>\n",
       "      <td>0</td>\n",
       "      <td>0</td>\n",
       "      <td>0</td>\n",
       "    </tr>\n",
       "    <tr>\n",
       "      <th>2</th>\n",
       "      <td>0</td>\n",
       "      <td>0</td>\n",
       "      <td>0</td>\n",
       "      <td>0</td>\n",
       "      <td>0</td>\n",
       "      <td>0</td>\n",
       "      <td>0</td>\n",
       "      <td>0</td>\n",
       "      <td>0</td>\n",
       "      <td>0</td>\n",
       "      <td>...</td>\n",
       "      <td>0</td>\n",
       "      <td>0</td>\n",
       "      <td>0</td>\n",
       "      <td>0</td>\n",
       "      <td>0</td>\n",
       "      <td>0</td>\n",
       "      <td>0</td>\n",
       "      <td>0</td>\n",
       "      <td>0</td>\n",
       "      <td>0</td>\n",
       "    </tr>\n",
       "    <tr>\n",
       "      <th>3</th>\n",
       "      <td>0</td>\n",
       "      <td>0</td>\n",
       "      <td>0</td>\n",
       "      <td>0</td>\n",
       "      <td>0</td>\n",
       "      <td>0</td>\n",
       "      <td>0</td>\n",
       "      <td>0</td>\n",
       "      <td>0</td>\n",
       "      <td>0</td>\n",
       "      <td>...</td>\n",
       "      <td>0</td>\n",
       "      <td>0</td>\n",
       "      <td>0</td>\n",
       "      <td>0</td>\n",
       "      <td>0</td>\n",
       "      <td>0</td>\n",
       "      <td>0</td>\n",
       "      <td>0</td>\n",
       "      <td>0</td>\n",
       "      <td>0</td>\n",
       "    </tr>\n",
       "    <tr>\n",
       "      <th>4</th>\n",
       "      <td>0</td>\n",
       "      <td>0</td>\n",
       "      <td>0</td>\n",
       "      <td>0</td>\n",
       "      <td>0</td>\n",
       "      <td>0</td>\n",
       "      <td>0</td>\n",
       "      <td>0</td>\n",
       "      <td>0</td>\n",
       "      <td>0</td>\n",
       "      <td>...</td>\n",
       "      <td>0</td>\n",
       "      <td>0</td>\n",
       "      <td>0</td>\n",
       "      <td>0</td>\n",
       "      <td>0</td>\n",
       "      <td>0</td>\n",
       "      <td>0</td>\n",
       "      <td>0</td>\n",
       "      <td>0</td>\n",
       "      <td>0</td>\n",
       "    </tr>\n",
       "  </tbody>\n",
       "</table>\n",
       "<p>5 rows × 401 columns</p>\n",
       "</div>"
      ],
      "text/plain": [
       "   000  000 help  10  100  100 retweets  2012  30  65  65 victims  accounts  \\\n",
       "0    0         0   0    0             0     0   0   0           0         0   \n",
       "1    0         0   0    0             0     0   0   0           0         0   \n",
       "2    0         0   0    0             0     0   0   0           0         0   \n",
       "3    0         0   0    0             0     0   0   0           0         0   \n",
       "4    0         0   0    0             0     0   0   0           0         0   \n",
       "\n",
       "   ...  work  world  worried  worse  worst  wouldn  wow  yo  york  york city  \n",
       "0  ...     0      0        0      0      0       0    0   0     0          0  \n",
       "1  ...     0      0        0      0      0       0    0   0     0          0  \n",
       "2  ...     0      0        0      0      0       0    0   0     0          0  \n",
       "3  ...     0      0        0      0      0       0    0   0     0          0  \n",
       "4  ...     0      0        0      0      0       0    0   0     0          0  \n",
       "\n",
       "[5 rows x 401 columns]"
      ]
     },
     "execution_count": 32,
     "metadata": {},
     "output_type": "execute_result"
    }
   ],
   "source": [
    "sandyontopic_cv_df_token.head()"
   ]
  },
  {
   "cell_type": "code",
   "execution_count": 33,
   "metadata": {},
   "outputs": [
    {
     "data": {
      "image/png": "[encoded data removed]",
      "text/plain": [
       "<Figure size 1440x720 with 1 Axes>"
      ]
     },
     "metadata": {
      "needs_background": "light"
     },
     "output_type": "display_data"
    }
   ],
   "source": [
    "# These are the top features strictly for the on-topic tweets\n",
    "\n",
    "plt.figure(figsize=(20, 10))\n",
    "plt.barh(y = sandyontopic_cv_df_token.sum().sort_values(ascending=False).head(20).index,\n",
    "         width = sandyontopic_cv_df_token.sum().sort_values(ascending=False).head(20))\n",
    "plt.title('Top Word Count', fontsize=30)\n",
    "plt.xlabel('Count', fontsize=15)\n",
    "plt.xticks(fontsize=20)\n",
    "plt.yticks(fontsize=20);"
   ]
  },
  {
   "cell_type": "markdown",
   "metadata": {},
   "source": [
    "## NLP to Determine Tweet Urgency"
   ]
  },
  {
   "cell_type": "markdown",
   "metadata": {},
   "source": [
    "#### Below NLP work taken from https://github.com/belencito27/Map_Disasters_Twitter\n",
    "#### DSI-DC Past Work\n",
    "\n",
    "This is a  pre-trained vector trained on part of Google News dataset (about 100 billion words). The model contains 300-dimensional vectors for 3 million words and phrases.\n",
    "\n",
    "We will use this to classify our on-topic tweets as either urgent or non-urgent based on the cosine similarities of the vectors created using a list of urgent / non-urgent words.\n",
    "\n",
    "More information can be found [here](https://code.google.com/archive/p/word2vec/)"
   ]
  },
  {
   "cell_type": "code",
   "execution_count": 34,
   "metadata": {},
   "outputs": [],
   "source": [
    "english_stops = set(stopwords.words('english'))\n",
    "\n",
    "tokenizer = RegexpTokenizer(r'\\w+')\n",
    "\n",
    "sandy_ontopic_tokens = [tokenizer.tokenize(tweet.lower()) for tweet in sandy_ontopic['tweet']]\n",
    "\n",
    "clean_sandy_tweet_tokens = []\n",
    "for tweet in sandy_ontopic_tokens:\n",
    "    clean_tweet_tokens = []\n",
    "    for word in tweet:\n",
    "        if word not in english_stops and word not in ['@','rt', 'https',\n",
    "                                                      'co', 'hurricanesandy'] and '@' not in word:\n",
    "            clean_tweet_tokens.append(word)\n",
    "    clean_sandy_tweet_tokens.append(clean_tweet_tokens)"
   ]
  },
  {
   "cell_type": "code",
   "execution_count": 35,
   "metadata": {},
   "outputs": [],
   "source": [
    "# Import the vector necessary for our urgent/non-urgent vectors\n",
    "# This is a pre-trained vector trained on part of Google News dataset (about 100 billion words). The model \n",
    "# contains 300-dimensional vectors for 3 million words and phrases.\n",
    "\n",
    "# We will use this to classify our on-topic tweets as either urgent or non-urgent based on the cosine \n",
    "# similarities of the vectors created using a list of urgent / non-urgent words.\n",
    "\n",
    "vec_mod = gensim.models.KeyedVectors.load_word2vec_format('~/Downloads/GoogleNews-vectors-negative300.bin',\n",
    "                                                          binary=True)"
   ]
  },
  {
   "cell_type": "code",
   "execution_count": 36,
   "metadata": {},
   "outputs": [],
   "source": [
    "# Create a list of the tokenized set of words from each tweet\n",
    "\n",
    "english_stops = set(stopwords.words('english'))\n",
    "\n",
    "tokenizer = RegexpTokenizer(r'\\w+')\n",
    "\n",
    "df_ontopic_tokens = [tokenizer.tokenize(tweet.lower()) for tweet in df_ontopic['tweet']]\n",
    "\n",
    "clean_df_tweet_tokens = []\n",
    "for tweet in df_ontopic_tokens:\n",
    "    clean_tweet_tokens = []\n",
    "    for word in tweet:\n",
    "        if word not in english_stops and word not in ['@','rt', 'https', 'co', 'hurricanesandy',\n",
    "                                                      'yycflood', 'abflood'] and '@' not in word:\n",
    "            clean_tweet_tokens.append(word)\n",
    "    clean_df_tweet_tokens.append(clean_tweet_tokens)"
   ]
  },
  {
   "cell_type": "code",
   "execution_count": 37,
   "metadata": {},
   "outputs": [],
   "source": [
    "# Lists altered from https://github.com/belencito27/Map_Disasters_Twitter\n",
    "# Modified to better fit our data\n",
    "\n",
    "####################\n",
    "# HERE WE CREATE LISTS OF WORDS THAT WE THINK MAY INDICATE AN EMERGENCY, AND ANOTHER LIST OF WORDS THAT\n",
    "#... WE THINK MAYBE LIKELY TO APPEAR IN NON-EMERGENCY TWEETS RELATED TO THE SAME NATURAL DISASTER. WE\n",
    "#... WILL USE THESE LISTS OF WORDS TO CREATE VECTORS FOR Word2Vec COMPARISON IN THE NEXT FEW STEPS.\n",
    "#... WE RECOMMEND USING SUBJECT MATTER EXPERTS TO DEVELOP APPROPRIATE WORD LISTS FOR THE GIVEN EVENT TYPE\n",
    "#... (e.g. hurricane, tornado, flood (from our \"testing\" data (CrisisLex)))\n",
    "####################\n",
    "\n",
    "urgent = ['help', 'flood', 'leave', 'rescue', 'sos', 'danger', 'debris', 'removal', 'barrier', 'tree', \n",
    "          'feet', 'creek', 'removal', 'roads', 'levees', 'unsafe', 'structures', 'river',\n",
    "          'water', 'floodplains', 'critical', 'evacuation', 'shelter', 'emergency', 'transport', 'access', \n",
    "          'safe', 'rescue', 'barricades', 'fire', 'generator', 'safety', 'hazard', 'need', 'lost', 'seen',\n",
    "          'missing', 'flooding', 'reach', 'trying', 'now', 'attention', 'warning', 'alert', 'paramedics',\n",
    "          'police', 'injuries', 'death', 'deaths', 'dead', 'collapse', 'damage', 'loss', 'burning']\n",
    "\n",
    "non_urgent = ['help', 'vegetation', 'mud', 'silt', 'bridge', 'waterways', 'facility', 'utilities', \n",
    "              'park', 'traffic', 'replacement', 'control', 'repairs', 'stabilization', 'remediation', \n",
    "              'surfaces', 'bases', 'shoulders', 'ditches', 'drainage', 'sidewalk', ' guardrails', 'signs', \n",
    "              'decking', 'pavement', 'channel' ,'alignment', 'irrigation', 'erosion', 'prevention', 'dams', \n",
    "              'reservoirs', 'basins ', 'canals', 'aqueducts', 'coastal', 'shoreline', 'pumping', 'building', \n",
    "              'mechanical', 'electrical', 'basement', 'painting', ' treatment', 'power', 'transmission', \n",
    "              'natural gas', 'sewage', 'permanent', 'restoration', 'communication', 'systems', 'inspection', \n",
    "              'assessment', 'beach', 'park',  'playground', 'pool', 'docks', 'golf', 'tennis', 'ball', 'port', \n",
    "              'harbor', 'fish', 'hatcheries', 'insurance', 'habitat', 'temporary', 'heat', 'cold', 'hot']"
   ]
  },
  {
   "cell_type": "code",
   "execution_count": 38,
   "metadata": {},
   "outputs": [],
   "source": [
    "# This is the urgent vector\n",
    "\n",
    "urgent_vect = np.zeros((1,300))\n",
    "counter=0\n",
    "for word in urgent:\n",
    "    if word not in vec_mod.vocab:\n",
    "        continue\n",
    "    else:\n",
    "        temp = vec_mod.word_vec(word)\n",
    "        urgent_vect=urgent_vect+temp\n",
    "        counter +=1\n",
    "\n",
    "urgent_vect=urgent_vect/counter\n",
    "urgent_vect=np.squeeze(urgent_vect)\n",
    "    #print(urgent_vect)"
   ]
  },
  {
   "cell_type": "code",
   "execution_count": 39,
   "metadata": {},
   "outputs": [],
   "source": [
    "# This is the non-urgent vector\n",
    "\n",
    "nonurgent_vect = np.zeros((1,300))\n",
    "counter=0\n",
    "for word in non_urgent:\n",
    "    if word not in vec_mod.vocab:\n",
    "        continue\n",
    "    else:\n",
    "        temp = vec_mod.word_vec(word)\n",
    "        nonurgent_vect=nonurgent_vect+temp\n",
    "        counter +=1\n",
    "\n",
    "nonurgent_vect=nonurgent_vect/counter\n",
    "nonurgent_vect=np.squeeze(nonurgent_vect)\n",
    "\n",
    "#print(nonurgent_vect)"
   ]
  },
  {
   "cell_type": "code",
   "execution_count": 40,
   "metadata": {},
   "outputs": [],
   "source": [
    "####################\n",
    "# THIS IS THE NLP STEP. THE LOOP WILL TURN EACH WORD IN YOUR LIST OF TOKENIZED TWEETS (or \n",
    "#... tokenized sentences) INTO A VECTOR, CLASSIFY THE WORD AS EMERGENCY OR NON-EMERGENCY USING COSINE\n",
    "#... SIMILARITY, AND ASSIGN THE ENTIRE TWEET (or sentence) A VALUE BASED OFF OF THE BASELINE CLASSIFICATION\n",
    "#... SCORE.\n",
    "####################\n",
    "\n",
    "# This is code taken / borrowed from a previous DC-DSI project - credited below\n",
    "\n",
    "sandy_target = [] # WE WILL FILL THIS WITH OUR CLASSIFICATIONS FOR EACH FULL TWEET\n",
    "for tweet in clean_sandy_tweet_tokens:\n",
    "    \n",
    "    counter=0\n",
    "    for item in tweet:\n",
    "        \n",
    "        temp_vect = np.zeros((1, 300))\n",
    "        if item not in vec_mod.vocab.keys(): # IF WORD NOT IN Word2Vec MODEL, IT IS NOT INCLUDED\n",
    "            continue\n",
    "        else:\n",
    "            temp_vect = temp_vect + vec_mod.word_vec(item)\n",
    "            counter += 1\n",
    "    if counter==0:\n",
    "        counter=1\n",
    "    temp_vect = np.squeeze(temp_vect)/counter\n",
    "        \n",
    "        # THE BELOW STEP IS CALCULATING AND COMPARING THE COSINE SIMILARITIES. THE DOT PRODUCT IS CALCULATED\n",
    "        #... FOR THE TWEET VECTOR AND THE EMERGENCY VECTOR AND FOR THE TWEET VECTOR AND THE NON-EMERGENCY\n",
    "        #... VECTOR. AFTER CALCULATING THE DOT PRODUCT, WE DIVIDE BY THE ABS. VALUE OF THE TWO GIVEN VECTORS\n",
    "        #... TO GET THE COSINE VALUE FOR THE ANGLE BETWEEN THE VECTORS. THE GREATER THE COSINE VALUE, THE CLOSER\n",
    "        #... TWO VECTORS ARE TO ONE ANOTHER, AND TWEETS ARE ASSIGNED A CLASSIFICATION OF EMERGENCY OR NON-\n",
    "        #... EMERGENCY ACCORDINGLY\n",
    "    if np.dot(temp_vect, urgent_vect)/(np.linalg.norm(urgent_vect)*np.linalg.norm(temp_vect)) >= np.dot(temp_vect,nonurgent_vect)/(np.linalg.norm(nonurgent_vect)*np.linalg.norm(temp_vect)):\n",
    "        sandy_target.append(2)\n",
    "    else:\n",
    "        sandy_target.append(1)\n",
    "        "
   ]
  },
  {
   "cell_type": "code",
   "execution_count": 41,
   "metadata": {},
   "outputs": [],
   "source": [
    "# Set the labels of the on-topic tweets to 1 for non-urgent and 2 for urgent\n",
    "\n",
    "sandy_ontopic['label'] = sandy_target"
   ]
  },
  {
   "cell_type": "code",
   "execution_count": 42,
   "metadata": {},
   "outputs": [],
   "source": [
    "# Combine the on-topic urgent/non-urgent tweets with the off-topic tweets\n",
    "sandy = pd.concat([sandy_ontopic, sandy_offtopic])\n",
    "\n",
    "sandy.sort_index(inplace = True)"
   ]
  },
  {
   "cell_type": "code",
   "execution_count": 43,
   "metadata": {},
   "outputs": [
    {
     "data": {
      "text/plain": [
       "(10008, 7)"
      ]
     },
     "execution_count": 43,
     "metadata": {},
     "output_type": "execute_result"
    }
   ],
   "source": [
    "sandy.shape"
   ]
  },
  {
   "cell_type": "code",
   "execution_count": 44,
   "metadata": {},
   "outputs": [
    {
     "data": {
      "text/plain": [
       "0    3870\n",
       "2    3252\n",
       "1    2886\n",
       "Name: label, dtype: int64"
      ]
     },
     "execution_count": 44,
     "metadata": {},
     "output_type": "execute_result"
    }
   ],
   "source": [
    "sandy['label'].value_counts()"
   ]
  },
  {
   "cell_type": "code",
   "execution_count": 45,
   "metadata": {},
   "outputs": [],
   "source": [
    "# Save the file - uncomment to overwrite\n",
    "\n",
    "# sandy.to_csv('./data/sandy_scored.csv', index = False)"
   ]
  },
  {
   "cell_type": "markdown",
   "metadata": {},
   "source": [
    "## Logistic Regression for Tweet Qualification - On-topic, Off-topic"
   ]
  },
  {
   "cell_type": "markdown",
   "metadata": {},
   "source": [
    "### This step will be used to determine whether tweets that have been newly gathered are on-topic or off-topic, using our CrisisLex tweets that are already labeled as on-topic or off-topic."
   ]
  },
  {
   "cell_type": "code",
   "execution_count": 46,
   "metadata": {},
   "outputs": [
    {
     "data": {
      "text/plain": [
       "1    21568\n",
       "0    18496\n",
       "Name: label, dtype: int64"
      ]
     },
     "execution_count": 46,
     "metadata": {},
     "output_type": "execute_result"
    }
   ],
   "source": [
    "processed['label'].value_counts()"
   ]
  },
  {
   "cell_type": "code",
   "execution_count": 47,
   "metadata": {},
   "outputs": [],
   "source": [
    "# Create our X and y variables\n",
    "\n",
    "X = processed['tokenized']\n",
    "y = processed['label']"
   ]
  },
  {
   "cell_type": "code",
   "execution_count": 48,
   "metadata": {},
   "outputs": [
    {
     "data": {
      "text/plain": [
       "1    0.538339\n",
       "0    0.461661\n",
       "Name: label, dtype: float64"
      ]
     },
     "execution_count": 48,
     "metadata": {},
     "output_type": "execute_result"
    }
   ],
   "source": [
    "# Null model\n",
    "\n",
    "y.value_counts(normalize = True)"
   ]
  },
  {
   "cell_type": "code",
   "execution_count": 49,
   "metadata": {},
   "outputs": [],
   "source": [
    "# Create a TfidfVectorizer that we'll apply for our NLP Classification model\n",
    "# Ignore english stopwords, unigrams and bigrams, ignore words that appear in less than 25 tweets or more than 95%\n",
    "\n",
    "tf = TfidfVectorizer(stop_words = 'english',\n",
    "                     ngram_range = (1, 2),\n",
    "                     max_df = .95,\n",
    "                     min_df = 25)"
   ]
  },
  {
   "cell_type": "code",
   "execution_count": 50,
   "metadata": {},
   "outputs": [],
   "source": [
    "# Transform our tokenized words into the TfidfVectorizer space\n",
    "\n",
    "X_tf = tf.fit_transform(X)"
   ]
  },
  {
   "cell_type": "code",
   "execution_count": 51,
   "metadata": {},
   "outputs": [
    {
     "data": {
      "text/plain": [
       "(40064, 2563)"
      ]
     },
     "execution_count": 51,
     "metadata": {},
     "output_type": "execute_result"
    }
   ],
   "source": [
    "# 2543 features\n",
    "X_tf.shape"
   ]
  },
  {
   "cell_type": "code",
   "execution_count": 52,
   "metadata": {},
   "outputs": [],
   "source": [
    "# Split out X_tf and y, keeping the same y split\n",
    "\n",
    "X_train, X_test, y_train, y_test = train_test_split(X_tf, y, test_size = 0.3, stratify = y)"
   ]
  },
  {
   "cell_type": "code",
   "execution_count": 53,
   "metadata": {},
   "outputs": [
    {
     "data": {
      "text/plain": [
       "(28044, 2563)"
      ]
     },
     "execution_count": 53,
     "metadata": {},
     "output_type": "execute_result"
    }
   ],
   "source": [
    "X_train.shape"
   ]
  },
  {
   "cell_type": "code",
   "execution_count": 54,
   "metadata": {},
   "outputs": [
    {
     "data": {
      "text/plain": [
       "(12020, 2563)"
      ]
     },
     "execution_count": 54,
     "metadata": {},
     "output_type": "execute_result"
    }
   ],
   "source": [
    "X_test.shape"
   ]
  },
  {
   "cell_type": "code",
   "execution_count": 55,
   "metadata": {},
   "outputs": [],
   "source": [
    "# Instantiate our Logistic Regression model\n",
    "\n",
    "lr = LogisticRegression()"
   ]
  },
  {
   "cell_type": "code",
   "execution_count": 56,
   "metadata": {},
   "outputs": [
    {
     "data": {
      "text/plain": [
       "LogisticRegression(C=1.0, class_weight=None, dual=False, fit_intercept=True,\n",
       "                   intercept_scaling=1, l1_ratio=None, max_iter=100,\n",
       "                   multi_class='warn', n_jobs=None, penalty='l2',\n",
       "                   random_state=None, solver='warn', tol=0.0001, verbose=0,\n",
       "                   warm_start=False)"
      ]
     },
     "execution_count": 56,
     "metadata": {},
     "output_type": "execute_result"
    }
   ],
   "source": [
    "# Fit on our training data\n",
    "# Commented out so as not to re-fit the model\n",
    "\n",
    "# lr.fit(X_train, y_train)"
   ]
  },
  {
   "cell_type": "code",
   "execution_count": 57,
   "metadata": {},
   "outputs": [
    {
     "data": {
      "text/plain": [
       "0.9496862073883897"
      ]
     },
     "execution_count": 57,
     "metadata": {},
     "output_type": "execute_result"
    }
   ],
   "source": [
    "# Scored on our training data - 94.897 accuracy\n",
    "\n",
    "lr.score(X_train, y_train)"
   ]
  },
  {
   "cell_type": "code",
   "execution_count": 58,
   "metadata": {},
   "outputs": [
    {
     "data": {
      "text/plain": [
       "0.9412645590682196"
      ]
     },
     "execution_count": 58,
     "metadata": {},
     "output_type": "execute_result"
    }
   ],
   "source": [
    "# Scored on our testing (previously unseen) data - 94.13% accuracy\n",
    "\n",
    "lr.score(X_test, y_test)"
   ]
  },
  {
   "cell_type": "code",
   "execution_count": 59,
   "metadata": {},
   "outputs": [],
   "source": [
    "# Save our logistic regression model to be able to use it later\n",
    "# Uncomment the lines below to overwrite our pickled model.\n",
    "\n",
    "# classify_ontopic = 'lr.pkl'\n",
    "# with open(classify_ontopic, 'wb') as file:\n",
    "#     pickle.dump(lr, file)"
   ]
  },
  {
   "cell_type": "code",
   "execution_count": null,
   "metadata": {},
   "outputs": [],
   "source": []
  },
  {
   "cell_type": "code",
   "execution_count": 60,
   "metadata": {},
   "outputs": [],
   "source": [
    "####################\n",
    "# THIS IS THE NLP STEP. THE LOOP WILL TURN EACH WORD IN YOUR LIST OF TOKENIZED TWEETS (or \n",
    "#... tokenized sentences) INTO A VECTOR, CLASSIFY THE WORD AS EMERGENCY OR NON-EMERGENCY USING COSINE\n",
    "#... SIMILARITY, AND ASSIGN THE ENTIRE TWEET (or sentence) A VALUE BASED OFF OF THE BASELINE CLASSIFICATION\n",
    "#... SCORE.\n",
    "####################\n",
    "\n",
    "target = [] # WE WILL FILL THIS WITH OUR CLASSIFICATIONS FOR EACH FULL TWEET\n",
    "for tweet in clean_df_tweet_tokens:\n",
    "    \n",
    "    counter=0\n",
    "    for item in tweet:\n",
    "        \n",
    "        temp_vect = np.zeros((1, 300))\n",
    "        if item not in vec_mod.vocab.keys(): # IF WORD NOT IN Word2Vec MODEL, IT IS NOT INCLUDED\n",
    "            continue\n",
    "        else:\n",
    "            temp_vect = temp_vect + vec_mod.word_vec(item)\n",
    "            counter += 1\n",
    "    if counter==0:\n",
    "        counter=1\n",
    "    temp_vect = np.squeeze(temp_vect)/counter\n",
    "        \n",
    "        # THE BELOW STEP IS CALCULATING AND COMPARING THE COSINE SIMILARITIES. THE DOT PRODUCT IS CALCULATED\n",
    "        #... FOR THE TWEET VECTOR AND THE EMERGENCY VECTOR AND FOR THE TWEET VECTOR AND THE NON-EMERGENCY\n",
    "        #... VECTOR. AFTER CALCULATING THE DOT PRODUCT, WE DIVIDE BY THE ABS. VALUE OF THE TWO GIVEN VECTORS\n",
    "        #... TO GET THE COSINE VALUE FOR THE ANGLE BETWEEN THE VECTORS. THE GREATER THE COSINE VALUE, THE CLOSER\n",
    "        #... TWO VECTORS ARE TO ONE ANOTHER, AND TWEETS ARE ASSIGNED A CLASSIFICATION OF EMERGENCY OR NON-\n",
    "        #... EMERGENCY ACCORDINGLY\n",
    "    if np.dot(temp_vect, urgent_vect)/(np.linalg.norm(urgent_vect)*np.linalg.norm(temp_vect)) >= np.dot(temp_vect,nonurgent_vect)/(np.linalg.norm(nonurgent_vect)*np.linalg.norm(temp_vect)):\n",
    "        target.append(2)\n",
    "    else:\n",
    "        target.append(1)"
   ]
  },
  {
   "cell_type": "code",
   "execution_count": 61,
   "metadata": {},
   "outputs": [
    {
     "data": {
      "text/plain": [
       "21568"
      ]
     },
     "execution_count": 61,
     "metadata": {},
     "output_type": "execute_result"
    }
   ],
   "source": [
    "len(target)"
   ]
  },
  {
   "cell_type": "code",
   "execution_count": 62,
   "metadata": {},
   "outputs": [],
   "source": [
    "# Modify our 'label' column for the ontopic dataframe to modify the on-topic tweets as either urgent or non-urgent\n",
    "\n",
    "df_ontopic['label'] = target"
   ]
  },
  {
   "cell_type": "code",
   "execution_count": 63,
   "metadata": {},
   "outputs": [
    {
     "data": {
      "text/html": [
       "<div>\n",
       "<style scoped>\n",
       "    .dataframe tbody tr th:only-of-type {\n",
       "        vertical-align: middle;\n",
       "    }\n",
       "\n",
       "    .dataframe tbody tr th {\n",
       "        vertical-align: top;\n",
       "    }\n",
       "\n",
       "    .dataframe thead th {\n",
       "        text-align: right;\n",
       "    }\n",
       "</style>\n",
       "<table border=\"1\" class=\"dataframe\">\n",
       "  <thead>\n",
       "    <tr style=\"text-align: right;\">\n",
       "      <th></th>\n",
       "      <th>id</th>\n",
       "      <th>tweet</th>\n",
       "      <th>label</th>\n",
       "      <th>disaster</th>\n",
       "      <th>tokenized</th>\n",
       "      <th>lemmatized</th>\n",
       "      <th>stemmed</th>\n",
       "    </tr>\n",
       "  </thead>\n",
       "  <tbody>\n",
       "    <tr>\n",
       "      <th>1</th>\n",
       "      <td>'263044104500420609'</td>\n",
       "      <td>sandy be soooo mad that she be shattering our ...</td>\n",
       "      <td>1</td>\n",
       "      <td>hurricane</td>\n",
       "      <td>sandy be soooo mad that she be shattering our ...</td>\n",
       "      <td>sandy be soooo mad that she be shattering our ...</td>\n",
       "      <td>sandi be soooo mad that she be shatter our doo...</td>\n",
       "    </tr>\n",
       "    <tr>\n",
       "      <th>5</th>\n",
       "      <td>'263101347421888513'</td>\n",
       "      <td>neighborly duties   cory kennedy arrives to th...</td>\n",
       "      <td>2</td>\n",
       "      <td>hurricane</td>\n",
       "      <td>neighborly duties cory kennedy arrives to the ...</td>\n",
       "      <td>neighborly duty cory kennedy arrives to the re...</td>\n",
       "      <td>neighborli duti cori kennedi arriv to the resc...</td>\n",
       "    </tr>\n",
       "    <tr>\n",
       "      <th>7</th>\n",
       "      <td>'263298821189156865'</td>\n",
       "      <td>i don t know how i m getting back to jersey si...</td>\n",
       "      <td>1</td>\n",
       "      <td>hurricane</td>\n",
       "      <td>i don t know how i m getting back to jersey si...</td>\n",
       "      <td>i don t know how i m getting back to jersey si...</td>\n",
       "      <td>i don t know how i m get back to jersey sinc t...</td>\n",
       "    </tr>\n",
       "    <tr>\n",
       "      <th>10</th>\n",
       "      <td>'262914476989358080'</td>\n",
       "      <td>already flooded so much  sandy   hoboken</td>\n",
       "      <td>1</td>\n",
       "      <td>hurricane</td>\n",
       "      <td>already flooded so much sandy hoboken</td>\n",
       "      <td>already flooded so much sandy hoboken</td>\n",
       "      <td>alreadi flood so much sandi hoboken</td>\n",
       "    </tr>\n",
       "    <tr>\n",
       "      <th>12</th>\n",
       "      <td>'262991999911743490'</td>\n",
       "      <td>on that note  i pray that everyone stays safe ...</td>\n",
       "      <td>1</td>\n",
       "      <td>hurricane</td>\n",
       "      <td>on that note i pray that everyone stays safe a...</td>\n",
       "      <td>on that note i pray that everyone stay safe an...</td>\n",
       "      <td>on that note i pray that everyon stay safe and...</td>\n",
       "    </tr>\n",
       "  </tbody>\n",
       "</table>\n",
       "</div>"
      ],
      "text/plain": [
       "                      id                                              tweet  \\\n",
       "1   '263044104500420609'  sandy be soooo mad that she be shattering our ...   \n",
       "5   '263101347421888513'  neighborly duties   cory kennedy arrives to th...   \n",
       "7   '263298821189156865'  i don t know how i m getting back to jersey si...   \n",
       "10  '262914476989358080'           already flooded so much  sandy   hoboken   \n",
       "12  '262991999911743490'  on that note  i pray that everyone stays safe ...   \n",
       "\n",
       "    label   disaster                                          tokenized  \\\n",
       "1       1  hurricane  sandy be soooo mad that she be shattering our ...   \n",
       "5       2  hurricane  neighborly duties cory kennedy arrives to the ...   \n",
       "7       1  hurricane  i don t know how i m getting back to jersey si...   \n",
       "10      1  hurricane              already flooded so much sandy hoboken   \n",
       "12      1  hurricane  on that note i pray that everyone stays safe a...   \n",
       "\n",
       "                                           lemmatized  \\\n",
       "1   sandy be soooo mad that she be shattering our ...   \n",
       "5   neighborly duty cory kennedy arrives to the re...   \n",
       "7   i don t know how i m getting back to jersey si...   \n",
       "10              already flooded so much sandy hoboken   \n",
       "12  on that note i pray that everyone stay safe an...   \n",
       "\n",
       "                                              stemmed  \n",
       "1   sandi be soooo mad that she be shatter our doo...  \n",
       "5   neighborli duti cori kennedi arriv to the resc...  \n",
       "7   i don t know how i m get back to jersey sinc t...  \n",
       "10                alreadi flood so much sandi hoboken  \n",
       "12  on that note i pray that everyon stay safe and...  "
      ]
     },
     "execution_count": 63,
     "metadata": {},
     "output_type": "execute_result"
    }
   ],
   "source": [
    "df_ontopic.head()"
   ]
  },
  {
   "cell_type": "code",
   "execution_count": 64,
   "metadata": {},
   "outputs": [],
   "source": [
    "# Combine our revised ontopic dataframe with the offtopic dataframe\n",
    "# 0 represents off-topic, 1 represents on-topic and low urgency, 2 represents on-topic and high urgency\n",
    "\n",
    "df = pd.concat([df_ontopic, df_offtopic])\n",
    "\n",
    "df.sort_index(inplace = True)"
   ]
  },
  {
   "cell_type": "code",
   "execution_count": 65,
   "metadata": {},
   "outputs": [
    {
     "data": {
      "text/html": [
       "<div>\n",
       "<style scoped>\n",
       "    .dataframe tbody tr th:only-of-type {\n",
       "        vertical-align: middle;\n",
       "    }\n",
       "\n",
       "    .dataframe tbody tr th {\n",
       "        vertical-align: top;\n",
       "    }\n",
       "\n",
       "    .dataframe thead th {\n",
       "        text-align: right;\n",
       "    }\n",
       "</style>\n",
       "<table border=\"1\" class=\"dataframe\">\n",
       "  <thead>\n",
       "    <tr style=\"text-align: right;\">\n",
       "      <th></th>\n",
       "      <th>id</th>\n",
       "      <th>tweet</th>\n",
       "      <th>label</th>\n",
       "      <th>disaster</th>\n",
       "      <th>tokenized</th>\n",
       "      <th>lemmatized</th>\n",
       "      <th>stemmed</th>\n",
       "    </tr>\n",
       "  </thead>\n",
       "  <tbody>\n",
       "    <tr>\n",
       "      <th>0</th>\n",
       "      <td>'262596552399396864'</td>\n",
       "      <td>i ve got enough candles to supply a mexican fa...</td>\n",
       "      <td>0</td>\n",
       "      <td>hurricane</td>\n",
       "      <td>i ve got enough candles to supply a mexican fa...</td>\n",
       "      <td>i ve got enough candle to supply a mexican family</td>\n",
       "      <td>i ve got enough candl to suppli a mexican famili</td>\n",
       "    </tr>\n",
       "    <tr>\n",
       "      <th>1</th>\n",
       "      <td>'263044104500420609'</td>\n",
       "      <td>sandy be soooo mad that she be shattering our ...</td>\n",
       "      <td>1</td>\n",
       "      <td>hurricane</td>\n",
       "      <td>sandy be soooo mad that she be shattering our ...</td>\n",
       "      <td>sandy be soooo mad that she be shattering our ...</td>\n",
       "      <td>sandi be soooo mad that she be shatter our doo...</td>\n",
       "    </tr>\n",
       "    <tr>\n",
       "      <th>2</th>\n",
       "      <td>'263309629973491712'</td>\n",
       "      <td>ibexgirl thankfully hurricane waugh played it ...</td>\n",
       "      <td>0</td>\n",
       "      <td>hurricane</td>\n",
       "      <td>ibexgirl thankfully hurricane waugh played it ...</td>\n",
       "      <td>ibexgirl thankfully hurricane waugh played it ...</td>\n",
       "      <td>ibexgirl thank hurrican waugh play it cool and...</td>\n",
       "    </tr>\n",
       "    <tr>\n",
       "      <th>3</th>\n",
       "      <td>'263422851133079552'</td>\n",
       "      <td>taos you never got that magnificent case of bu...</td>\n",
       "      <td>0</td>\n",
       "      <td>hurricane</td>\n",
       "      <td>taos you never got that magnificent case of bu...</td>\n",
       "      <td>tao you never got that magnificent case of bur...</td>\n",
       "      <td>tao you never got that magnific case of burgun...</td>\n",
       "    </tr>\n",
       "    <tr>\n",
       "      <th>4</th>\n",
       "      <td>'262404311223504896'</td>\n",
       "      <td>i m at mad river bar  grille  new york  ny</td>\n",
       "      <td>0</td>\n",
       "      <td>hurricane</td>\n",
       "      <td>i m at mad river bar grille new york ny</td>\n",
       "      <td>i m at mad river bar grille new york ny</td>\n",
       "      <td>i m at mad river bar grill new york ny</td>\n",
       "    </tr>\n",
       "  </tbody>\n",
       "</table>\n",
       "</div>"
      ],
      "text/plain": [
       "                     id                                              tweet  \\\n",
       "0  '262596552399396864'  i ve got enough candles to supply a mexican fa...   \n",
       "1  '263044104500420609'  sandy be soooo mad that she be shattering our ...   \n",
       "2  '263309629973491712'  ibexgirl thankfully hurricane waugh played it ...   \n",
       "3  '263422851133079552'  taos you never got that magnificent case of bu...   \n",
       "4  '262404311223504896'         i m at mad river bar  grille  new york  ny   \n",
       "\n",
       "   label   disaster                                          tokenized  \\\n",
       "0      0  hurricane  i ve got enough candles to supply a mexican fa...   \n",
       "1      1  hurricane  sandy be soooo mad that she be shattering our ...   \n",
       "2      0  hurricane  ibexgirl thankfully hurricane waugh played it ...   \n",
       "3      0  hurricane  taos you never got that magnificent case of bu...   \n",
       "4      0  hurricane            i m at mad river bar grille new york ny   \n",
       "\n",
       "                                          lemmatized  \\\n",
       "0  i ve got enough candle to supply a mexican family   \n",
       "1  sandy be soooo mad that she be shattering our ...   \n",
       "2  ibexgirl thankfully hurricane waugh played it ...   \n",
       "3  tao you never got that magnificent case of bur...   \n",
       "4            i m at mad river bar grille new york ny   \n",
       "\n",
       "                                             stemmed  \n",
       "0   i ve got enough candl to suppli a mexican famili  \n",
       "1  sandi be soooo mad that she be shatter our doo...  \n",
       "2  ibexgirl thank hurrican waugh play it cool and...  \n",
       "3  tao you never got that magnific case of burgun...  \n",
       "4             i m at mad river bar grill new york ny  "
      ]
     },
     "execution_count": 65,
     "metadata": {},
     "output_type": "execute_result"
    }
   ],
   "source": [
    "df.head()"
   ]
  },
  {
   "cell_type": "code",
   "execution_count": 66,
   "metadata": {},
   "outputs": [],
   "source": [
    "df['id'] = df['id'].str.replace(\"'\", \"\")"
   ]
  },
  {
   "cell_type": "code",
   "execution_count": 67,
   "metadata": {},
   "outputs": [],
   "source": [
    "df['id'] = df['id'].astype(int)"
   ]
  },
  {
   "cell_type": "code",
   "execution_count": 68,
   "metadata": {},
   "outputs": [
    {
     "data": {
      "text/html": [
       "<div>\n",
       "<style scoped>\n",
       "    .dataframe tbody tr th:only-of-type {\n",
       "        vertical-align: middle;\n",
       "    }\n",
       "\n",
       "    .dataframe tbody tr th {\n",
       "        vertical-align: top;\n",
       "    }\n",
       "\n",
       "    .dataframe thead th {\n",
       "        text-align: right;\n",
       "    }\n",
       "</style>\n",
       "<table border=\"1\" class=\"dataframe\">\n",
       "  <thead>\n",
       "    <tr style=\"text-align: right;\">\n",
       "      <th></th>\n",
       "      <th>id</th>\n",
       "      <th>tweet</th>\n",
       "      <th>label</th>\n",
       "      <th>disaster</th>\n",
       "      <th>tokenized</th>\n",
       "      <th>lemmatized</th>\n",
       "      <th>stemmed</th>\n",
       "    </tr>\n",
       "  </thead>\n",
       "  <tbody>\n",
       "    <tr>\n",
       "      <th>0</th>\n",
       "      <td>262596552399396864</td>\n",
       "      <td>i ve got enough candles to supply a mexican fa...</td>\n",
       "      <td>0</td>\n",
       "      <td>hurricane</td>\n",
       "      <td>i ve got enough candles to supply a mexican fa...</td>\n",
       "      <td>i ve got enough candle to supply a mexican family</td>\n",
       "      <td>i ve got enough candl to suppli a mexican famili</td>\n",
       "    </tr>\n",
       "    <tr>\n",
       "      <th>1</th>\n",
       "      <td>263044104500420609</td>\n",
       "      <td>sandy be soooo mad that she be shattering our ...</td>\n",
       "      <td>1</td>\n",
       "      <td>hurricane</td>\n",
       "      <td>sandy be soooo mad that she be shattering our ...</td>\n",
       "      <td>sandy be soooo mad that she be shattering our ...</td>\n",
       "      <td>sandi be soooo mad that she be shatter our doo...</td>\n",
       "    </tr>\n",
       "    <tr>\n",
       "      <th>2</th>\n",
       "      <td>263309629973491712</td>\n",
       "      <td>ibexgirl thankfully hurricane waugh played it ...</td>\n",
       "      <td>0</td>\n",
       "      <td>hurricane</td>\n",
       "      <td>ibexgirl thankfully hurricane waugh played it ...</td>\n",
       "      <td>ibexgirl thankfully hurricane waugh played it ...</td>\n",
       "      <td>ibexgirl thank hurrican waugh play it cool and...</td>\n",
       "    </tr>\n",
       "    <tr>\n",
       "      <th>3</th>\n",
       "      <td>263422851133079552</td>\n",
       "      <td>taos you never got that magnificent case of bu...</td>\n",
       "      <td>0</td>\n",
       "      <td>hurricane</td>\n",
       "      <td>taos you never got that magnificent case of bu...</td>\n",
       "      <td>tao you never got that magnificent case of bur...</td>\n",
       "      <td>tao you never got that magnific case of burgun...</td>\n",
       "    </tr>\n",
       "    <tr>\n",
       "      <th>4</th>\n",
       "      <td>262404311223504896</td>\n",
       "      <td>i m at mad river bar  grille  new york  ny</td>\n",
       "      <td>0</td>\n",
       "      <td>hurricane</td>\n",
       "      <td>i m at mad river bar grille new york ny</td>\n",
       "      <td>i m at mad river bar grille new york ny</td>\n",
       "      <td>i m at mad river bar grill new york ny</td>\n",
       "    </tr>\n",
       "    <tr>\n",
       "      <th>5</th>\n",
       "      <td>263101347421888513</td>\n",
       "      <td>neighborly duties   cory kennedy arrives to th...</td>\n",
       "      <td>2</td>\n",
       "      <td>hurricane</td>\n",
       "      <td>neighborly duties cory kennedy arrives to the ...</td>\n",
       "      <td>neighborly duty cory kennedy arrives to the re...</td>\n",
       "      <td>neighborli duti cori kennedi arriv to the resc...</td>\n",
       "    </tr>\n",
       "    <tr>\n",
       "      <th>6</th>\n",
       "      <td>262763437325684736</td>\n",
       "      <td>and that s it until the spring</td>\n",
       "      <td>0</td>\n",
       "      <td>hurricane</td>\n",
       "      <td>and that s it until the spring</td>\n",
       "      <td>and that s it until the spring</td>\n",
       "      <td>and that s it until the spring</td>\n",
       "    </tr>\n",
       "    <tr>\n",
       "      <th>7</th>\n",
       "      <td>263298821189156865</td>\n",
       "      <td>i don t know how i m getting back to jersey si...</td>\n",
       "      <td>1</td>\n",
       "      <td>hurricane</td>\n",
       "      <td>i don t know how i m getting back to jersey si...</td>\n",
       "      <td>i don t know how i m getting back to jersey si...</td>\n",
       "      <td>i don t know how i m get back to jersey sinc t...</td>\n",
       "    </tr>\n",
       "    <tr>\n",
       "      <th>8</th>\n",
       "      <td>262813023515865088</td>\n",
       "      <td>naeempeena we were asked to get off the plane ...</td>\n",
       "      <td>0</td>\n",
       "      <td>hurricane</td>\n",
       "      <td>naeempeena we were asked to get off the plane ...</td>\n",
       "      <td>naeempeena we were asked to get off the plane ...</td>\n",
       "      <td>naeempeena we were ask to get off the plane af...</td>\n",
       "    </tr>\n",
       "    <tr>\n",
       "      <th>9</th>\n",
       "      <td>262998165282762752</td>\n",
       "      <td>jaytee 96 you must be crazy   omg you tweeted ...</td>\n",
       "      <td>0</td>\n",
       "      <td>hurricane</td>\n",
       "      <td>jaytee 96 you must be crazy omg you tweeted so...</td>\n",
       "      <td>jaytee 96 you must be crazy omg you tweeted so...</td>\n",
       "      <td>jayte 96 you must be crazi omg you tweet somet...</td>\n",
       "    </tr>\n",
       "  </tbody>\n",
       "</table>\n",
       "</div>"
      ],
      "text/plain": [
       "                   id                                              tweet  \\\n",
       "0  262596552399396864  i ve got enough candles to supply a mexican fa...   \n",
       "1  263044104500420609  sandy be soooo mad that she be shattering our ...   \n",
       "2  263309629973491712  ibexgirl thankfully hurricane waugh played it ...   \n",
       "3  263422851133079552  taos you never got that magnificent case of bu...   \n",
       "4  262404311223504896         i m at mad river bar  grille  new york  ny   \n",
       "5  263101347421888513  neighborly duties   cory kennedy arrives to th...   \n",
       "6  262763437325684736                     and that s it until the spring   \n",
       "7  263298821189156865  i don t know how i m getting back to jersey si...   \n",
       "8  262813023515865088  naeempeena we were asked to get off the plane ...   \n",
       "9  262998165282762752  jaytee 96 you must be crazy   omg you tweeted ...   \n",
       "\n",
       "   label   disaster                                          tokenized  \\\n",
       "0      0  hurricane  i ve got enough candles to supply a mexican fa...   \n",
       "1      1  hurricane  sandy be soooo mad that she be shattering our ...   \n",
       "2      0  hurricane  ibexgirl thankfully hurricane waugh played it ...   \n",
       "3      0  hurricane  taos you never got that magnificent case of bu...   \n",
       "4      0  hurricane            i m at mad river bar grille new york ny   \n",
       "5      2  hurricane  neighborly duties cory kennedy arrives to the ...   \n",
       "6      0  hurricane                     and that s it until the spring   \n",
       "7      1  hurricane  i don t know how i m getting back to jersey si...   \n",
       "8      0  hurricane  naeempeena we were asked to get off the plane ...   \n",
       "9      0  hurricane  jaytee 96 you must be crazy omg you tweeted so...   \n",
       "\n",
       "                                          lemmatized  \\\n",
       "0  i ve got enough candle to supply a mexican family   \n",
       "1  sandy be soooo mad that she be shattering our ...   \n",
       "2  ibexgirl thankfully hurricane waugh played it ...   \n",
       "3  tao you never got that magnificent case of bur...   \n",
       "4            i m at mad river bar grille new york ny   \n",
       "5  neighborly duty cory kennedy arrives to the re...   \n",
       "6                     and that s it until the spring   \n",
       "7  i don t know how i m getting back to jersey si...   \n",
       "8  naeempeena we were asked to get off the plane ...   \n",
       "9  jaytee 96 you must be crazy omg you tweeted so...   \n",
       "\n",
       "                                             stemmed  \n",
       "0   i ve got enough candl to suppli a mexican famili  \n",
       "1  sandi be soooo mad that she be shatter our doo...  \n",
       "2  ibexgirl thank hurrican waugh play it cool and...  \n",
       "3  tao you never got that magnific case of burgun...  \n",
       "4             i m at mad river bar grill new york ny  \n",
       "5  neighborli duti cori kennedi arriv to the resc...  \n",
       "6                     and that s it until the spring  \n",
       "7  i don t know how i m get back to jersey sinc t...  \n",
       "8  naeempeena we were ask to get off the plane af...  \n",
       "9  jayte 96 you must be crazi omg you tweet somet...  "
      ]
     },
     "execution_count": 68,
     "metadata": {},
     "output_type": "execute_result"
    }
   ],
   "source": [
    "df.head(10)"
   ]
  },
  {
   "cell_type": "code",
   "execution_count": 69,
   "metadata": {},
   "outputs": [],
   "source": [
    "# df.to_csv('./data/combined_processed_classified.csv', index = False)"
   ]
  },
  {
   "cell_type": "markdown",
   "metadata": {},
   "source": [
    "## Hurricane Harvey Houston and LA Earthquake"
   ]
  },
  {
   "cell_type": "markdown",
   "metadata": {},
   "source": [
    "### The processes below are replicating what was done above but for other datasets / natural disasters."
   ]
  },
  {
   "cell_type": "markdown",
   "metadata": {},
   "source": [
    "### LA Earthquake"
   ]
  },
  {
   "cell_type": "code",
   "execution_count": 70,
   "metadata": {},
   "outputs": [],
   "source": [
    "la = pd.read_csv('./data/la_earthquake2019_25mi.csv')\n",
    "houston = pd.read_csv('./data/harveyhouston_20km.csv')"
   ]
  },
  {
   "cell_type": "code",
   "execution_count": 71,
   "metadata": {},
   "outputs": [],
   "source": [
    "la.drop(['date', 'geo', 'hashtags', 'type', 'username'], axis = 1, inplace = True)"
   ]
  },
  {
   "cell_type": "code",
   "execution_count": 72,
   "metadata": {},
   "outputs": [],
   "source": [
    "houston.drop(['date', 'geo', 'hashtags', 'username'], axis = 1, inplace = True)"
   ]
  },
  {
   "cell_type": "code",
   "execution_count": 73,
   "metadata": {},
   "outputs": [
    {
     "data": {
      "text/html": [
       "<div>\n",
       "<style scoped>\n",
       "    .dataframe tbody tr th:only-of-type {\n",
       "        vertical-align: middle;\n",
       "    }\n",
       "\n",
       "    .dataframe tbody tr th {\n",
       "        vertical-align: top;\n",
       "    }\n",
       "\n",
       "    .dataframe thead th {\n",
       "        text-align: right;\n",
       "    }\n",
       "</style>\n",
       "<table border=\"1\" class=\"dataframe\">\n",
       "  <thead>\n",
       "    <tr style=\"text-align: right;\">\n",
       "      <th></th>\n",
       "      <th>id</th>\n",
       "      <th>text</th>\n",
       "    </tr>\n",
       "  </thead>\n",
       "  <tbody>\n",
       "    <tr>\n",
       "      <th>0</th>\n",
       "      <td>1148016711699841025</td>\n",
       "      <td>thanks Rob! i am okay just thought i was havin...</td>\n",
       "    </tr>\n",
       "    <tr>\n",
       "      <th>1</th>\n",
       "      <td>1148014419504295936</td>\n",
       "      <td>Today in my yoga class we started with a fanta...</td>\n",
       "    </tr>\n",
       "    <tr>\n",
       "      <th>2</th>\n",
       "      <td>1148008868837904384</td>\n",
       "      <td>Lemme nut in you before this earthquake kill u...</td>\n",
       "    </tr>\n",
       "    <tr>\n",
       "      <th>3</th>\n",
       "      <td>1148006529729273857</td>\n",
       "      <td>This is what surviving Anime Expo and multiple...</td>\n",
       "    </tr>\n",
       "    <tr>\n",
       "      <th>4</th>\n",
       "      <td>1148004869564878848</td>\n",
       "      <td>A major earthquake is going to hit the along t...</td>\n",
       "    </tr>\n",
       "  </tbody>\n",
       "</table>\n",
       "</div>"
      ],
      "text/plain": [
       "                    id                                               text\n",
       "0  1148016711699841025  thanks Rob! i am okay just thought i was havin...\n",
       "1  1148014419504295936  Today in my yoga class we started with a fanta...\n",
       "2  1148008868837904384  Lemme nut in you before this earthquake kill u...\n",
       "3  1148006529729273857  This is what surviving Anime Expo and multiple...\n",
       "4  1148004869564878848  A major earthquake is going to hit the along t..."
      ]
     },
     "execution_count": 73,
     "metadata": {},
     "output_type": "execute_result"
    }
   ],
   "source": [
    "la.head()"
   ]
  },
  {
   "cell_type": "code",
   "execution_count": 74,
   "metadata": {},
   "outputs": [],
   "source": [
    "la.rename(columns = {'text': 'tweet'}, inplace = True)\n",
    "houston.rename(columns = {'text': 'tweet'}, inplace = True)"
   ]
  },
  {
   "cell_type": "code",
   "execution_count": 75,
   "metadata": {},
   "outputs": [
    {
     "data": {
      "text/html": [
       "<div>\n",
       "<style scoped>\n",
       "    .dataframe tbody tr th:only-of-type {\n",
       "        vertical-align: middle;\n",
       "    }\n",
       "\n",
       "    .dataframe tbody tr th {\n",
       "        vertical-align: top;\n",
       "    }\n",
       "\n",
       "    .dataframe thead th {\n",
       "        text-align: right;\n",
       "    }\n",
       "</style>\n",
       "<table border=\"1\" class=\"dataframe\">\n",
       "  <thead>\n",
       "    <tr style=\"text-align: right;\">\n",
       "      <th></th>\n",
       "      <th>tweet</th>\n",
       "    </tr>\n",
       "  </thead>\n",
       "  <tbody>\n",
       "    <tr>\n",
       "      <th>1</th>\n",
       "      <td>Hurricane Harvey Could Unleash 3 Feet of Rain ...</td>\n",
       "    </tr>\n",
       "    <tr>\n",
       "      <th>5</th>\n",
       "      <td>6:44pm on #Harvey: \"moving at just 2 mph to th...</td>\n",
       "    </tr>\n",
       "    <tr>\n",
       "      <th>8</th>\n",
       "      <td>Harvey, now a tropical storm, drenches Texas a...</td>\n",
       "    </tr>\n",
       "    <tr>\n",
       "      <th>9</th>\n",
       "      <td>Dogs and Cats Threatened by Hurricane Harvey! ...</td>\n",
       "    </tr>\n",
       "    <tr>\n",
       "      <th>12</th>\n",
       "      <td>Resourceful dog walks away with bag of dog foo...</td>\n",
       "    </tr>\n",
       "  </tbody>\n",
       "</table>\n",
       "</div>"
      ],
      "text/plain": [
       "                                                tweet\n",
       "1   Hurricane Harvey Could Unleash 3 Feet of Rain ...\n",
       "5   6:44pm on #Harvey: \"moving at just 2 mph to th...\n",
       "8   Harvey, now a tropical storm, drenches Texas a...\n",
       "9   Dogs and Cats Threatened by Hurricane Harvey! ...\n",
       "12  Resourceful dog walks away with bag of dog foo..."
      ]
     },
     "execution_count": 75,
     "metadata": {},
     "output_type": "execute_result"
    }
   ],
   "source": [
    "houston[houston.tweet.str.contains('http')][['tweet']].head()"
   ]
  },
  {
   "cell_type": "code",
   "execution_count": 76,
   "metadata": {},
   "outputs": [
    {
     "data": {
      "text/plain": [
       "id       0\n",
       "lat      0\n",
       "long     0\n",
       "tweet    0\n",
       "dtype: int64"
      ]
     },
     "execution_count": 76,
     "metadata": {},
     "output_type": "execute_result"
    }
   ],
   "source": [
    "houston.isnull().sum()"
   ]
  },
  {
   "cell_type": "code",
   "execution_count": 77,
   "metadata": {},
   "outputs": [],
   "source": [
    "la.dropna(inplace = True)"
   ]
  },
  {
   "cell_type": "code",
   "execution_count": 78,
   "metadata": {},
   "outputs": [
    {
     "data": {
      "text/plain": [
       "id       0\n",
       "tweet    0\n",
       "dtype: int64"
      ]
     },
     "execution_count": 78,
     "metadata": {},
     "output_type": "execute_result"
    }
   ],
   "source": [
    "la.isnull().sum()"
   ]
  },
  {
   "cell_type": "code",
   "execution_count": 79,
   "metadata": {},
   "outputs": [],
   "source": [
    "# Apply the cleaning from our cleaning notebook to our la dataframe\n",
    "la['tweet'] = la['tweet'].map(lambda x: re.sub('http.+\\/', ' ', x))\n",
    "la['tweet'] = la['tweet'].map(lambda x: re.sub('http.+%2', ' ', x))\n",
    "la['tweet'] = la['tweet'].map(lambda x: re.sub('rt', ' ', x, count=1).strip())\n",
    "la['tweet'] = la['tweet'].str.replace('&amp;', '').str.strip()\n",
    "la['tweet'] = la.tweet.apply(lambda x: re.sub('[^a-zA-Z0-9]', ' ', x))\n",
    "la['tweet'] = la.tweet.apply(lambda x: x.lower())\n",
    "la['tweet'] = la['tweet'].map(lambda x: re.sub('twitter', ' ', x).strip())\n",
    "la['tweet'] = la['tweet'].map(lambda x: re.sub('com', ' ', x).strip())\n",
    "\n",
    "# Apply the cleaning from our cleaning notebook to our houston dataframe\n",
    "houston['tweet'] = houston['tweet'].map(lambda x: re.sub('http.+\\/', ' ', x))\n",
    "houston['tweet'] = houston['tweet'].map(lambda x: re.sub('http.+%2', ' ', x))\n",
    "houston['tweet'] = houston['tweet'].map(lambda x: re.sub('rt', ' ', x, count=1).strip())\n",
    "houston['tweet'] = houston.tweet.str.replace('&amp;', '').str.strip()\n",
    "houston['tweet'] = houston.tweet.apply(lambda x: re.sub('[^a-zA-Z0-9]', ' ', x))\n",
    "houston['tweet'] = houston.tweet.apply(lambda x: x.lower())\n",
    "houston['tweet'] = houston['tweet'].map(lambda x: re.sub('twitter', ' ', x).strip())\n",
    "houston['tweet'] = houston['tweet'].map(lambda x: re.sub('com', ' ', x).strip())"
   ]
  },
  {
   "cell_type": "code",
   "execution_count": 80,
   "metadata": {},
   "outputs": [],
   "source": [
    "pd.set_option('max_colwidth', 50)"
   ]
  },
  {
   "cell_type": "code",
   "execution_count": 81,
   "metadata": {},
   "outputs": [
    {
     "data": {
      "text/html": [
       "<div>\n",
       "<style scoped>\n",
       "    .dataframe tbody tr th:only-of-type {\n",
       "        vertical-align: middle;\n",
       "    }\n",
       "\n",
       "    .dataframe tbody tr th {\n",
       "        vertical-align: top;\n",
       "    }\n",
       "\n",
       "    .dataframe thead th {\n",
       "        text-align: right;\n",
       "    }\n",
       "</style>\n",
       "<table border=\"1\" class=\"dataframe\">\n",
       "  <thead>\n",
       "    <tr style=\"text-align: right;\">\n",
       "      <th></th>\n",
       "      <th>tweet</th>\n",
       "    </tr>\n",
       "  </thead>\n",
       "  <tbody>\n",
       "  </tbody>\n",
       "</table>\n",
       "</div>"
      ],
      "text/plain": [
       "Empty DataFrame\n",
       "Columns: [tweet]\n",
       "Index: []"
      ]
     },
     "execution_count": 81,
     "metadata": {},
     "output_type": "execute_result"
    }
   ],
   "source": [
    "houston[houston.tweet.str.contains('twitter')][['tweet']]"
   ]
  },
  {
   "cell_type": "code",
   "execution_count": 82,
   "metadata": {},
   "outputs": [
    {
     "data": {
      "text/plain": [
       "id       0\n",
       "lat      0\n",
       "long     0\n",
       "tweet    0\n",
       "dtype: int64"
      ]
     },
     "execution_count": 82,
     "metadata": {},
     "output_type": "execute_result"
    }
   ],
   "source": [
    "houston.isnull().sum()"
   ]
  },
  {
   "cell_type": "code",
   "execution_count": 83,
   "metadata": {},
   "outputs": [],
   "source": [
    "# Process our la and houston dataframes\n",
    "\n",
    "la_processed = preprocessed_columns(dataframe = la)\n",
    "houston_processed = preprocessed_columns(dataframe = houston)"
   ]
  },
  {
   "cell_type": "code",
   "execution_count": 84,
   "metadata": {},
   "outputs": [],
   "source": [
    "# Transform our la and houston 'tokenized' columns to prepare for on/off topic classification\n",
    "\n",
    "tf_la = tf.transform(la_processed['tokenized'])\n",
    "tf_houston = tf.transform(houston_processed['tokenized'])"
   ]
  },
  {
   "cell_type": "code",
   "execution_count": 85,
   "metadata": {},
   "outputs": [],
   "source": [
    "# Make predictions as to whether tweets are \"on topic\" or \"off topic\"\n",
    "\n",
    "la_processed['label'] = lr.predict(tf_la)\n",
    "houston_processed['label'] = lr.predict(tf_houston)"
   ]
  },
  {
   "cell_type": "code",
   "execution_count": 86,
   "metadata": {},
   "outputs": [
    {
     "data": {
      "text/plain": [
       "0    11831\n",
       "1       96\n",
       "Name: label, dtype: int64"
      ]
     },
     "execution_count": 86,
     "metadata": {},
     "output_type": "execute_result"
    }
   ],
   "source": [
    "# Given that our \"training\" data was from floods, hurricanes, and tornados, it does not come as a surprise\n",
    "# that our model is not good at predicting whether earthquake data is on topic\n",
    "\n",
    "la_processed['label'].value_counts()"
   ]
  },
  {
   "cell_type": "code",
   "execution_count": 87,
   "metadata": {},
   "outputs": [
    {
     "data": {
      "text/plain": [
       "(11927, 6)"
      ]
     },
     "execution_count": 87,
     "metadata": {},
     "output_type": "execute_result"
    }
   ],
   "source": [
    "la_processed.shape"
   ]
  },
  {
   "cell_type": "code",
   "execution_count": 88,
   "metadata": {},
   "outputs": [
    {
     "data": {
      "text/plain": [
       "1    10766\n",
       "0     4234\n",
       "Name: label, dtype: int64"
      ]
     },
     "execution_count": 88,
     "metadata": {},
     "output_type": "execute_result"
    }
   ],
   "source": [
    "# Our model predicted 10766 tweets out of 15000 as \"on topic\" and 4234 as \"off topic\"\n",
    "\n",
    "houston_processed['label'].value_counts()"
   ]
  },
  {
   "cell_type": "code",
   "execution_count": 89,
   "metadata": {},
   "outputs": [
    {
     "data": {
      "text/html": [
       "<div>\n",
       "<style scoped>\n",
       "    .dataframe tbody tr th:only-of-type {\n",
       "        vertical-align: middle;\n",
       "    }\n",
       "\n",
       "    .dataframe tbody tr th {\n",
       "        vertical-align: top;\n",
       "    }\n",
       "\n",
       "    .dataframe thead th {\n",
       "        text-align: right;\n",
       "    }\n",
       "</style>\n",
       "<table border=\"1\" class=\"dataframe\">\n",
       "  <thead>\n",
       "    <tr style=\"text-align: right;\">\n",
       "      <th></th>\n",
       "      <th>id</th>\n",
       "      <th>lat</th>\n",
       "      <th>long</th>\n",
       "      <th>tweet</th>\n",
       "      <th>tokenized</th>\n",
       "      <th>lemmatized</th>\n",
       "      <th>stemmed</th>\n",
       "      <th>label</th>\n",
       "    </tr>\n",
       "  </thead>\n",
       "  <tbody>\n",
       "    <tr>\n",
       "      <th>0</th>\n",
       "      <td>901595110210723840</td>\n",
       "      <td>29.7604</td>\n",
       "      <td>-95.3698</td>\n",
       "      <td>harvey broke our neighbor s tree  one younger ...</td>\n",
       "      <td>harvey broke our neighbor s tree one younger b...</td>\n",
       "      <td>harvey broke our neighbor s tree one younger b...</td>\n",
       "      <td>harvey broke our neighbor s tree one younger b...</td>\n",
       "      <td>0</td>\n",
       "    </tr>\n",
       "    <tr>\n",
       "      <th>1</th>\n",
       "      <td>901595105680916482</td>\n",
       "      <td>29.7604</td>\n",
       "      <td>-95.3698</td>\n",
       "      <td>hurricane harvey could unleash 3 feet of rain ...</td>\n",
       "      <td>hurricane harvey could unleash 3 feet of rain ...</td>\n",
       "      <td>hurricane harvey could unleash 3 foot of rain ...</td>\n",
       "      <td>hurrican harvey could unleash 3 feet of rain a...</td>\n",
       "      <td>1</td>\n",
       "    </tr>\n",
       "    <tr>\n",
       "      <th>2</th>\n",
       "      <td>901595104321921025</td>\n",
       "      <td>29.7604</td>\n",
       "      <td>-95.3698</td>\n",
       "      <td>7 pm briefing to begin day 2 of 12 hr harvey o...</td>\n",
       "      <td>7 pm briefing to begin day 2 of 12 hr harvey o...</td>\n",
       "      <td>7 pm briefing to begin day 2 of 12 hr harvey o...</td>\n",
       "      <td>7 pm brief to begin day 2 of 12 hr harvey op h...</td>\n",
       "      <td>0</td>\n",
       "    </tr>\n",
       "    <tr>\n",
       "      <th>3</th>\n",
       "      <td>901595098626093056</td>\n",
       "      <td>29.7604</td>\n",
       "      <td>-95.3698</td>\n",
       "      <td>damn i m late on this hurricane</td>\n",
       "      <td>damn i m late on this hurricane</td>\n",
       "      <td>damn i m late on this hurricane</td>\n",
       "      <td>damn i m late on thi hurrican</td>\n",
       "      <td>1</td>\n",
       "    </tr>\n",
       "    <tr>\n",
       "      <th>4</th>\n",
       "      <td>901595097887686656</td>\n",
       "      <td>29.7604</td>\n",
       "      <td>-95.3698</td>\n",
       "      <td>lmao dude on the hurricane harvey snap story h...</td>\n",
       "      <td>lmao dude on the hurricane harvey snap story h...</td>\n",
       "      <td>lmao dude on the hurricane harvey snap story h...</td>\n",
       "      <td>lmao dude on the hurrican harvey snap stori ha...</td>\n",
       "      <td>1</td>\n",
       "    </tr>\n",
       "  </tbody>\n",
       "</table>\n",
       "</div>"
      ],
      "text/plain": [
       "                   id      lat     long  \\\n",
       "0  901595110210723840  29.7604 -95.3698   \n",
       "1  901595105680916482  29.7604 -95.3698   \n",
       "2  901595104321921025  29.7604 -95.3698   \n",
       "3  901595098626093056  29.7604 -95.3698   \n",
       "4  901595097887686656  29.7604 -95.3698   \n",
       "\n",
       "                                               tweet  \\\n",
       "0  harvey broke our neighbor s tree  one younger ...   \n",
       "1  hurricane harvey could unleash 3 feet of rain ...   \n",
       "2  7 pm briefing to begin day 2 of 12 hr harvey o...   \n",
       "3                    damn i m late on this hurricane   \n",
       "4  lmao dude on the hurricane harvey snap story h...   \n",
       "\n",
       "                                           tokenized  \\\n",
       "0  harvey broke our neighbor s tree one younger b...   \n",
       "1  hurricane harvey could unleash 3 feet of rain ...   \n",
       "2  7 pm briefing to begin day 2 of 12 hr harvey o...   \n",
       "3                    damn i m late on this hurricane   \n",
       "4  lmao dude on the hurricane harvey snap story h...   \n",
       "\n",
       "                                          lemmatized  \\\n",
       "0  harvey broke our neighbor s tree one younger b...   \n",
       "1  hurricane harvey could unleash 3 foot of rain ...   \n",
       "2  7 pm briefing to begin day 2 of 12 hr harvey o...   \n",
       "3                    damn i m late on this hurricane   \n",
       "4  lmao dude on the hurricane harvey snap story h...   \n",
       "\n",
       "                                             stemmed  label  \n",
       "0  harvey broke our neighbor s tree one younger b...      0  \n",
       "1  hurrican harvey could unleash 3 feet of rain a...      1  \n",
       "2  7 pm brief to begin day 2 of 12 hr harvey op h...      0  \n",
       "3                      damn i m late on thi hurrican      1  \n",
       "4  lmao dude on the hurrican harvey snap stori ha...      1  "
      ]
     },
     "execution_count": 89,
     "metadata": {},
     "output_type": "execute_result"
    }
   ],
   "source": [
    "houston_processed.head()"
   ]
  },
  {
   "cell_type": "code",
   "execution_count": 90,
   "metadata": {},
   "outputs": [
    {
     "data": {
      "text/plain": [
       "1    10766\n",
       "0     4234\n",
       "Name: label, dtype: int64"
      ]
     },
     "execution_count": 90,
     "metadata": {},
     "output_type": "execute_result"
    }
   ],
   "source": [
    "houston_processed['label'].value_counts()"
   ]
  },
  {
   "cell_type": "code",
   "execution_count": 91,
   "metadata": {},
   "outputs": [],
   "source": [
    "# houston_processed.to_csv('./data/houston_predicted.csv', index = False)"
   ]
  },
  {
   "cell_type": "code",
   "execution_count": 92,
   "metadata": {},
   "outputs": [
    {
     "data": {
      "text/html": [
       "<div>\n",
       "<style scoped>\n",
       "    .dataframe tbody tr th:only-of-type {\n",
       "        vertical-align: middle;\n",
       "    }\n",
       "\n",
       "    .dataframe tbody tr th {\n",
       "        vertical-align: top;\n",
       "    }\n",
       "\n",
       "    .dataframe thead th {\n",
       "        text-align: right;\n",
       "    }\n",
       "</style>\n",
       "<table border=\"1\" class=\"dataframe\">\n",
       "  <thead>\n",
       "    <tr style=\"text-align: right;\">\n",
       "      <th></th>\n",
       "      <th>id</th>\n",
       "      <th>tweet</th>\n",
       "      <th>tokenized</th>\n",
       "      <th>lemmatized</th>\n",
       "      <th>stemmed</th>\n",
       "      <th>label</th>\n",
       "    </tr>\n",
       "  </thead>\n",
       "  <tbody>\n",
       "    <tr>\n",
       "      <th>0</th>\n",
       "      <td>1148016711699841025</td>\n",
       "      <td>thanks rob  i am okay just thought i was havin...</td>\n",
       "      <td>thanks rob i am okay just thought i was having...</td>\n",
       "      <td>thanks rob i am okay just thought i wa having ...</td>\n",
       "      <td>thank rob i am okay just thought i wa have a s...</td>\n",
       "      <td>0</td>\n",
       "    </tr>\n",
       "    <tr>\n",
       "      <th>1</th>\n",
       "      <td>1148014419504295936</td>\n",
       "      <td>today in my yoga class we sta ed with a fantas...</td>\n",
       "      <td>today in my yoga class we sta ed with a fantas...</td>\n",
       "      <td>today in my yoga class we sta ed with a fantas...</td>\n",
       "      <td>today in my yoga class we sta ed with a fantas...</td>\n",
       "      <td>0</td>\n",
       "    </tr>\n",
       "    <tr>\n",
       "      <th>2</th>\n",
       "      <td>1148008868837904384</td>\n",
       "      <td>lemme nut in you before this ea hquake kill us...</td>\n",
       "      <td>lemme nut in you before this ea hquake kill us...</td>\n",
       "      <td>lemme nut in you before this ea hquake kill u ...</td>\n",
       "      <td>lemm nut in you befor thi ea hquak kill us both</td>\n",
       "      <td>0</td>\n",
       "    </tr>\n",
       "    <tr>\n",
       "      <th>3</th>\n",
       "      <td>1148006529729273857</td>\n",
       "      <td>this is what surviving anime expo and multiple...</td>\n",
       "      <td>this is what surviving anime expo and multiple...</td>\n",
       "      <td>this is what surviving anime expo and multiple...</td>\n",
       "      <td>thi is what surviv anim expo and multipl ea hq...</td>\n",
       "      <td>0</td>\n",
       "    </tr>\n",
       "    <tr>\n",
       "      <th>4</th>\n",
       "      <td>1148004869564878848</td>\n",
       "      <td>a major ea hquake is going to hit the along th...</td>\n",
       "      <td>a major ea hquake is going to hit the along th...</td>\n",
       "      <td>a major ea hquake is going to hit the along th...</td>\n",
       "      <td>a major ea hquak is go to hit the along the so...</td>\n",
       "      <td>0</td>\n",
       "    </tr>\n",
       "  </tbody>\n",
       "</table>\n",
       "</div>"
      ],
      "text/plain": [
       "                    id                                              tweet  \\\n",
       "0  1148016711699841025  thanks rob  i am okay just thought i was havin...   \n",
       "1  1148014419504295936  today in my yoga class we sta ed with a fantas...   \n",
       "2  1148008868837904384  lemme nut in you before this ea hquake kill us...   \n",
       "3  1148006529729273857  this is what surviving anime expo and multiple...   \n",
       "4  1148004869564878848  a major ea hquake is going to hit the along th...   \n",
       "\n",
       "                                           tokenized  \\\n",
       "0  thanks rob i am okay just thought i was having...   \n",
       "1  today in my yoga class we sta ed with a fantas...   \n",
       "2  lemme nut in you before this ea hquake kill us...   \n",
       "3  this is what surviving anime expo and multiple...   \n",
       "4  a major ea hquake is going to hit the along th...   \n",
       "\n",
       "                                          lemmatized  \\\n",
       "0  thanks rob i am okay just thought i wa having ...   \n",
       "1  today in my yoga class we sta ed with a fantas...   \n",
       "2  lemme nut in you before this ea hquake kill u ...   \n",
       "3  this is what surviving anime expo and multiple...   \n",
       "4  a major ea hquake is going to hit the along th...   \n",
       "\n",
       "                                             stemmed  label  \n",
       "0  thank rob i am okay just thought i wa have a s...      0  \n",
       "1  today in my yoga class we sta ed with a fantas...      0  \n",
       "2    lemm nut in you befor thi ea hquak kill us both      0  \n",
       "3  thi is what surviv anim expo and multipl ea hq...      0  \n",
       "4  a major ea hquak is go to hit the along the so...      0  "
      ]
     },
     "execution_count": 92,
     "metadata": {},
     "output_type": "execute_result"
    }
   ],
   "source": [
    "la_processed.head()"
   ]
  },
  {
   "cell_type": "code",
   "execution_count": 93,
   "metadata": {},
   "outputs": [],
   "source": [
    "# la_processed.to_csv('./data/laquake_predicted.csv', index = False)"
   ]
  },
  {
   "cell_type": "markdown",
   "metadata": {},
   "source": [
    "### Hurricane Harvey Houston"
   ]
  },
  {
   "cell_type": "code",
   "execution_count": 94,
   "metadata": {},
   "outputs": [],
   "source": [
    "cv_htown = CountVectorizer(stop_words = 'english',\n",
    "                           ngram_range = (1,2),\n",
    "                           min_df = 25,\n",
    "                           max_df = .95)"
   ]
  },
  {
   "cell_type": "code",
   "execution_count": 95,
   "metadata": {},
   "outputs": [],
   "source": [
    "cv_df_htown = pd.SparseDataFrame(cv_htown.fit_transform(houston_processed['tokenized']),\n",
    "                                 columns = cv_htown.get_feature_names())\n",
    "cv_df_htown.fillna(0, inplace=True)"
   ]
  },
  {
   "cell_type": "code",
   "execution_count": 96,
   "metadata": {},
   "outputs": [
    {
     "data": {
      "text/html": [
       "<div>\n",
       "<style scoped>\n",
       "    .dataframe tbody tr th:only-of-type {\n",
       "        vertical-align: middle;\n",
       "    }\n",
       "\n",
       "    .dataframe tbody tr th {\n",
       "        vertical-align: top;\n",
       "    }\n",
       "\n",
       "    .dataframe thead th {\n",
       "        text-align: right;\n",
       "    }\n",
       "</style>\n",
       "<table border=\"1\" class=\"dataframe\">\n",
       "  <thead>\n",
       "    <tr style=\"text-align: right;\">\n",
       "      <th></th>\n",
       "      <th>00</th>\n",
       "      <th>000</th>\n",
       "      <th>01pm</th>\n",
       "      <th>01pm 26</th>\n",
       "      <th>08</th>\n",
       "      <th>08 26</th>\n",
       "      <th>10</th>\n",
       "      <th>10 17pm</th>\n",
       "      <th>11</th>\n",
       "      <th>11 01pm</th>\n",
       "      <th>...</th>\n",
       "      <th>wx id1102231742</th>\n",
       "      <th>ya</th>\n",
       "      <th>yeah</th>\n",
       "      <th>year</th>\n",
       "      <th>years</th>\n",
       "      <th>yes</th>\n",
       "      <th>yes entire</th>\n",
       "      <th>yesterday</th>\n",
       "      <th>youtube</th>\n",
       "      <th>youtube video</th>\n",
       "    </tr>\n",
       "  </thead>\n",
       "  <tbody>\n",
       "    <tr>\n",
       "      <th>0</th>\n",
       "      <td>0</td>\n",
       "      <td>0</td>\n",
       "      <td>0</td>\n",
       "      <td>0</td>\n",
       "      <td>0</td>\n",
       "      <td>0</td>\n",
       "      <td>0</td>\n",
       "      <td>0</td>\n",
       "      <td>0</td>\n",
       "      <td>0</td>\n",
       "      <td>...</td>\n",
       "      <td>0</td>\n",
       "      <td>0</td>\n",
       "      <td>0</td>\n",
       "      <td>0</td>\n",
       "      <td>0</td>\n",
       "      <td>0</td>\n",
       "      <td>0</td>\n",
       "      <td>0</td>\n",
       "      <td>0</td>\n",
       "      <td>0</td>\n",
       "    </tr>\n",
       "    <tr>\n",
       "      <th>1</th>\n",
       "      <td>0</td>\n",
       "      <td>0</td>\n",
       "      <td>0</td>\n",
       "      <td>0</td>\n",
       "      <td>0</td>\n",
       "      <td>0</td>\n",
       "      <td>0</td>\n",
       "      <td>0</td>\n",
       "      <td>0</td>\n",
       "      <td>0</td>\n",
       "      <td>...</td>\n",
       "      <td>0</td>\n",
       "      <td>0</td>\n",
       "      <td>0</td>\n",
       "      <td>0</td>\n",
       "      <td>0</td>\n",
       "      <td>0</td>\n",
       "      <td>0</td>\n",
       "      <td>0</td>\n",
       "      <td>0</td>\n",
       "      <td>0</td>\n",
       "    </tr>\n",
       "    <tr>\n",
       "      <th>2</th>\n",
       "      <td>0</td>\n",
       "      <td>0</td>\n",
       "      <td>0</td>\n",
       "      <td>0</td>\n",
       "      <td>0</td>\n",
       "      <td>0</td>\n",
       "      <td>0</td>\n",
       "      <td>0</td>\n",
       "      <td>0</td>\n",
       "      <td>0</td>\n",
       "      <td>...</td>\n",
       "      <td>0</td>\n",
       "      <td>0</td>\n",
       "      <td>0</td>\n",
       "      <td>0</td>\n",
       "      <td>0</td>\n",
       "      <td>0</td>\n",
       "      <td>0</td>\n",
       "      <td>0</td>\n",
       "      <td>0</td>\n",
       "      <td>0</td>\n",
       "    </tr>\n",
       "    <tr>\n",
       "      <th>3</th>\n",
       "      <td>0</td>\n",
       "      <td>0</td>\n",
       "      <td>0</td>\n",
       "      <td>0</td>\n",
       "      <td>0</td>\n",
       "      <td>0</td>\n",
       "      <td>0</td>\n",
       "      <td>0</td>\n",
       "      <td>0</td>\n",
       "      <td>0</td>\n",
       "      <td>...</td>\n",
       "      <td>0</td>\n",
       "      <td>0</td>\n",
       "      <td>0</td>\n",
       "      <td>0</td>\n",
       "      <td>0</td>\n",
       "      <td>0</td>\n",
       "      <td>0</td>\n",
       "      <td>0</td>\n",
       "      <td>0</td>\n",
       "      <td>0</td>\n",
       "    </tr>\n",
       "    <tr>\n",
       "      <th>4</th>\n",
       "      <td>0</td>\n",
       "      <td>0</td>\n",
       "      <td>0</td>\n",
       "      <td>0</td>\n",
       "      <td>0</td>\n",
       "      <td>0</td>\n",
       "      <td>0</td>\n",
       "      <td>0</td>\n",
       "      <td>0</td>\n",
       "      <td>0</td>\n",
       "      <td>...</td>\n",
       "      <td>0</td>\n",
       "      <td>0</td>\n",
       "      <td>0</td>\n",
       "      <td>0</td>\n",
       "      <td>0</td>\n",
       "      <td>0</td>\n",
       "      <td>0</td>\n",
       "      <td>0</td>\n",
       "      <td>0</td>\n",
       "      <td>0</td>\n",
       "    </tr>\n",
       "  </tbody>\n",
       "</table>\n",
       "<p>5 rows × 1214 columns</p>\n",
       "</div>"
      ],
      "text/plain": [
       "   00  000  01pm  01pm 26  08  08 26  10  10 17pm  11  11 01pm  ...  \\\n",
       "0   0    0     0        0   0      0   0        0   0        0  ...   \n",
       "1   0    0     0        0   0      0   0        0   0        0  ...   \n",
       "2   0    0     0        0   0      0   0        0   0        0  ...   \n",
       "3   0    0     0        0   0      0   0        0   0        0  ...   \n",
       "4   0    0     0        0   0      0   0        0   0        0  ...   \n",
       "\n",
       "   wx id1102231742  ya  yeah  year  years  yes  yes entire  yesterday  \\\n",
       "0                0   0     0     0      0    0           0          0   \n",
       "1                0   0     0     0      0    0           0          0   \n",
       "2                0   0     0     0      0    0           0          0   \n",
       "3                0   0     0     0      0    0           0          0   \n",
       "4                0   0     0     0      0    0           0          0   \n",
       "\n",
       "   youtube  youtube video  \n",
       "0        0              0  \n",
       "1        0              0  \n",
       "2        0              0  \n",
       "3        0              0  \n",
       "4        0              0  \n",
       "\n",
       "[5 rows x 1214 columns]"
      ]
     },
     "execution_count": 96,
     "metadata": {},
     "output_type": "execute_result"
    }
   ],
   "source": [
    "cv_df_htown.head()"
   ]
  },
  {
   "cell_type": "code",
   "execution_count": 97,
   "metadata": {
    "scrolled": false
   },
   "outputs": [
    {
     "data": {
      "image/png": "[encoded data removed]",
      "text/plain": [
       "<Figure size 1440x720 with 1 Axes>"
      ]
     },
     "metadata": {
      "needs_background": "light"
     },
     "output_type": "display_data"
    }
   ],
   "source": [
    "plt.figure(figsize=(20, 10))\n",
    "plt.barh(y = cv_df_htown.sum().sort_values(ascending=False).head(20).index,\n",
    "         width = cv_df_htown.sum().sort_values(ascending=False).head(20))\n",
    "plt.title('Top Word Count', fontsize=30)\n",
    "plt.xlabel('Count', fontsize=15)\n",
    "plt.xticks(fontsize=25)\n",
    "plt.yticks(fontsize=25);"
   ]
  },
  {
   "cell_type": "code",
   "execution_count": 98,
   "metadata": {},
   "outputs": [],
   "source": [
    "harvey_on = houston_processed[houston_processed['label'] == 1]\n",
    "harvey_off = houston_processed[houston_processed['label'] == 0]"
   ]
  },
  {
   "cell_type": "code",
   "execution_count": 99,
   "metadata": {},
   "outputs": [],
   "source": [
    "english_stops = set(stopwords.words('english'))\n",
    "\n",
    "tokenizer = RegexpTokenizer(r'\\w+')\n",
    "\n",
    "harvey_ontopic_tokens = [tokenizer.tokenize(tweet.lower()) for tweet in harvey_on['tweet']]\n",
    "\n",
    "clean_harvey_tweet_tokens = []\n",
    "for tweet in harvey_ontopic_tokens:\n",
    "    clean_tweet_tokens = []\n",
    "    for word in tweet:\n",
    "        if word not in english_stops and word not in ['hurricaneharvey', 'harvey'] and '@' not in word:\n",
    "            clean_tweet_tokens.append(word)\n",
    "    clean_harvey_tweet_tokens.append(clean_tweet_tokens)"
   ]
  },
  {
   "cell_type": "code",
   "execution_count": 100,
   "metadata": {},
   "outputs": [],
   "source": [
    "####################\n",
    "# THIS IS THE NLP STEP. THE LOOP WILL TURN EACH WORD IN YOUR LIST OF TOKENIZED TWEETS (or \n",
    "#... tokenized sentences) INTO A VECTOR, CLASSIFY THE WORD AS EMERGENCY OR NON-EMERGENCY USING COSINE\n",
    "#... SIMILARITY, AND ASSIGN THE ENTIRE TWEET (or sentence) A VALUE BASED OFF OF THE BASELINE CLASSIFICATION\n",
    "#... SCORE.\n",
    "####################\n",
    "\n",
    "target_harvey = [] # WE WILL FILL THIS WITH OUR CLASSIFICATIONS FOR EACH FULL TWEET\n",
    "for tweet in clean_harvey_tweet_tokens:\n",
    "    \n",
    "    counter=0\n",
    "    for item in tweet:\n",
    "        \n",
    "        temp_vect = np.zeros((1, 300))\n",
    "        if item not in vec_mod.vocab.keys(): # IF WORD NOT IN Word2Vec MODEL, IT IS NOT INCLUDED\n",
    "            continue\n",
    "        else:\n",
    "            temp_vect = temp_vect + vec_mod.word_vec(item)\n",
    "            counter += 1\n",
    "    if counter==0:\n",
    "        counter=1\n",
    "    temp_vect = np.squeeze(temp_vect)/counter\n",
    "        \n",
    "        # THE BELOW STEP IS CALCULATING AND COMPARING THE COSINE SIMILARITIES. THE DOT PRODUCT IS CALCULATED\n",
    "        #... FOR THE TWEET VECTOR AND THE EMERGENCY VECTOR AND FOR THE TWEET VECTOR AND THE NON-EMERGENCY\n",
    "        #... VECTOR. AFTER CALCULATING THE DOT PRODUCT, WE DIVIDE BY THE ABS. VALUE OF THE TWO GIVEN VECTORS\n",
    "        #... TO GET THE COSINE VALUE FOR THE ANGLE BETWEEN THE VECTORS. THE GREATER THE COSINE VALUE, THE CLOSER\n",
    "        #... TWO VECTORS ARE TO ONE ANOTHER, AND TWEETS ARE ASSIGNED A CLASSIFICATION OF EMERGENCY OR NON-\n",
    "        #... EMERGENCY ACCORDINGLY\n",
    "    if np.dot(temp_vect, urgent_vect)/(np.linalg.norm(urgent_vect)*np.linalg.norm(temp_vect)) >= np.dot(temp_vect,nonurgent_vect)/(np.linalg.norm(nonurgent_vect)*np.linalg.norm(temp_vect)):\n",
    "        target_harvey.append(2)\n",
    "    else:\n",
    "        target_harvey.append(1)"
   ]
  },
  {
   "cell_type": "code",
   "execution_count": 101,
   "metadata": {},
   "outputs": [],
   "source": [
    "harvey_on['label'] = target_harvey"
   ]
  },
  {
   "cell_type": "code",
   "execution_count": 102,
   "metadata": {},
   "outputs": [
    {
     "data": {
      "text/plain": [
       "1    6930\n",
       "2    3836\n",
       "Name: label, dtype: int64"
      ]
     },
     "execution_count": 102,
     "metadata": {},
     "output_type": "execute_result"
    }
   ],
   "source": [
    "harvey_on['label'].value_counts()"
   ]
  },
  {
   "cell_type": "code",
   "execution_count": 103,
   "metadata": {},
   "outputs": [],
   "source": [
    "harvey = pd.concat([harvey_on, harvey_off])\n",
    "\n",
    "harvey.sort_index(inplace = True)"
   ]
  },
  {
   "cell_type": "code",
   "execution_count": 104,
   "metadata": {},
   "outputs": [
    {
     "data": {
      "text/plain": [
       "(15000, 8)"
      ]
     },
     "execution_count": 104,
     "metadata": {},
     "output_type": "execute_result"
    }
   ],
   "source": [
    "harvey.shape"
   ]
  },
  {
   "cell_type": "code",
   "execution_count": 105,
   "metadata": {},
   "outputs": [
    {
     "data": {
      "text/plain": [
       "1    6930\n",
       "0    4234\n",
       "2    3836\n",
       "Name: label, dtype: int64"
      ]
     },
     "execution_count": 105,
     "metadata": {},
     "output_type": "execute_result"
    }
   ],
   "source": [
    "harvey['label'].value_counts()"
   ]
  },
  {
   "cell_type": "code",
   "execution_count": 106,
   "metadata": {},
   "outputs": [],
   "source": [
    "# harvey.to_csv('./data/harvey_scored.csv', index = False)"
   ]
  },
  {
   "cell_type": "markdown",
   "metadata": {},
   "source": [
    "## Harvey No Search Terms"
   ]
  },
  {
   "cell_type": "code",
   "execution_count": 107,
   "metadata": {},
   "outputs": [],
   "source": [
    "harvey_unfiltered = pd.read_csv('./data/harvey_unfilter.csv')"
   ]
  },
  {
   "cell_type": "code",
   "execution_count": 108,
   "metadata": {},
   "outputs": [
    {
     "data": {
      "text/html": [
       "<div>\n",
       "<style scoped>\n",
       "    .dataframe tbody tr th:only-of-type {\n",
       "        vertical-align: middle;\n",
       "    }\n",
       "\n",
       "    .dataframe tbody tr th {\n",
       "        vertical-align: top;\n",
       "    }\n",
       "\n",
       "    .dataframe thead th {\n",
       "        text-align: right;\n",
       "    }\n",
       "</style>\n",
       "<table border=\"1\" class=\"dataframe\">\n",
       "  <thead>\n",
       "    <tr style=\"text-align: right;\">\n",
       "      <th></th>\n",
       "      <th>Unnamed: 0</th>\n",
       "      <th>id</th>\n",
       "      <th>username</th>\n",
       "      <th>date</th>\n",
       "      <th>text</th>\n",
       "      <th>hashtags</th>\n",
       "      <th>geo</th>\n",
       "      <th>type</th>\n",
       "    </tr>\n",
       "  </thead>\n",
       "  <tbody>\n",
       "    <tr>\n",
       "      <th>0</th>\n",
       "      <td>0</td>\n",
       "      <td>901594938407739393</td>\n",
       "      <td>Cher2ification</td>\n",
       "      <td>2017-08-26 23:59:18+00:00</td>\n",
       "      <td>My hurricane sundae cookies and creme!! #hurri...</td>\n",
       "      <td>#hurricaneharvey #houston #tagsforlikes</td>\n",
       "      <td>NaN</td>\n",
       "      <td>official</td>\n",
       "    </tr>\n",
       "    <tr>\n",
       "      <th>1</th>\n",
       "      <td>1</td>\n",
       "      <td>901594810582171654</td>\n",
       "      <td>FredLin1028</td>\n",
       "      <td>2017-08-26 23:58:48+00:00</td>\n",
       "      <td>Ben &amp; Jerry's @Ben &amp; Jerry's https://www.insta...</td>\n",
       "      <td>NaN</td>\n",
       "      <td>NaN</td>\n",
       "      <td>official</td>\n",
       "    </tr>\n",
       "    <tr>\n",
       "      <th>2</th>\n",
       "      <td>2</td>\n",
       "      <td>901594244187545600</td>\n",
       "      <td>RickStarPhoto1</td>\n",
       "      <td>2017-08-26 23:56:33+00:00</td>\n",
       "      <td>When Wendell Williams uses your shot...Go Texa...</td>\n",
       "      <td>#Repost</td>\n",
       "      <td>NaN</td>\n",
       "      <td>official</td>\n",
       "    </tr>\n",
       "    <tr>\n",
       "      <th>3</th>\n",
       "      <td>3</td>\n",
       "      <td>901594032668856322</td>\n",
       "      <td>J_shadesyou</td>\n",
       "      <td>2017-08-26 23:55:42+00:00</td>\n",
       "      <td>WINNER #2 @DemChaLeo #JSHADES #GIVEAWAY #AMBAS...</td>\n",
       "      <td>#2 #JSHADES #GIVEAWAY #AMBASSADOR #Jshades</td>\n",
       "      <td>NaN</td>\n",
       "      <td>official</td>\n",
       "    </tr>\n",
       "    <tr>\n",
       "      <th>4</th>\n",
       "      <td>4</td>\n",
       "      <td>901593932055756800</td>\n",
       "      <td>MaykupJunkee</td>\n",
       "      <td>2017-08-26 23:55:18+00:00</td>\n",
       "      <td>If you have never heard of @ShopMissA thank me...</td>\n",
       "      <td>NaN</td>\n",
       "      <td>NaN</td>\n",
       "      <td>official</td>\n",
       "    </tr>\n",
       "  </tbody>\n",
       "</table>\n",
       "</div>"
      ],
      "text/plain": [
       "   Unnamed: 0                  id        username                       date  \\\n",
       "0           0  901594938407739393  Cher2ification  2017-08-26 23:59:18+00:00   \n",
       "1           1  901594810582171654     FredLin1028  2017-08-26 23:58:48+00:00   \n",
       "2           2  901594244187545600  RickStarPhoto1  2017-08-26 23:56:33+00:00   \n",
       "3           3  901594032668856322     J_shadesyou  2017-08-26 23:55:42+00:00   \n",
       "4           4  901593932055756800    MaykupJunkee  2017-08-26 23:55:18+00:00   \n",
       "\n",
       "                                                text  \\\n",
       "0  My hurricane sundae cookies and creme!! #hurri...   \n",
       "1  Ben & Jerry's @Ben & Jerry's https://www.insta...   \n",
       "2  When Wendell Williams uses your shot...Go Texa...   \n",
       "3  WINNER #2 @DemChaLeo #JSHADES #GIVEAWAY #AMBAS...   \n",
       "4  If you have never heard of @ShopMissA thank me...   \n",
       "\n",
       "                                     hashtags  geo      type  \n",
       "0     #hurricaneharvey #houston #tagsforlikes  NaN  official  \n",
       "1                                         NaN  NaN  official  \n",
       "2                                     #Repost  NaN  official  \n",
       "3  #2 #JSHADES #GIVEAWAY #AMBASSADOR #Jshades  NaN  official  \n",
       "4                                         NaN  NaN  official  "
      ]
     },
     "execution_count": 108,
     "metadata": {},
     "output_type": "execute_result"
    }
   ],
   "source": [
    "harvey_unfiltered.head()"
   ]
  },
  {
   "cell_type": "code",
   "execution_count": 109,
   "metadata": {},
   "outputs": [],
   "source": [
    "harvey_unfiltered.drop(['Unnamed: 0', 'username', 'date', 'hashtags', 'geo', 'type'], axis = 1, inplace = True)"
   ]
  },
  {
   "cell_type": "code",
   "execution_count": 110,
   "metadata": {},
   "outputs": [],
   "source": [
    "harvey_unfiltered.rename(columns = {'text': 'tweet'}, inplace = True)"
   ]
  },
  {
   "cell_type": "code",
   "execution_count": 111,
   "metadata": {},
   "outputs": [
    {
     "data": {
      "text/plain": [
       "id       0\n",
       "tweet    4\n",
       "dtype: int64"
      ]
     },
     "execution_count": 111,
     "metadata": {},
     "output_type": "execute_result"
    }
   ],
   "source": [
    "harvey_unfiltered.isnull().sum()"
   ]
  },
  {
   "cell_type": "code",
   "execution_count": 112,
   "metadata": {},
   "outputs": [],
   "source": [
    "harvey_unfiltered.dropna(inplace = True)"
   ]
  },
  {
   "cell_type": "code",
   "execution_count": 113,
   "metadata": {},
   "outputs": [
    {
     "data": {
      "text/html": [
       "<div>\n",
       "<style scoped>\n",
       "    .dataframe tbody tr th:only-of-type {\n",
       "        vertical-align: middle;\n",
       "    }\n",
       "\n",
       "    .dataframe tbody tr th {\n",
       "        vertical-align: top;\n",
       "    }\n",
       "\n",
       "    .dataframe thead th {\n",
       "        text-align: right;\n",
       "    }\n",
       "</style>\n",
       "<table border=\"1\" class=\"dataframe\">\n",
       "  <thead>\n",
       "    <tr style=\"text-align: right;\">\n",
       "      <th></th>\n",
       "      <th>tweet</th>\n",
       "    </tr>\n",
       "  </thead>\n",
       "  <tbody>\n",
       "    <tr>\n",
       "      <th>0</th>\n",
       "      <td>My hurricane sundae cookies and creme!! #hurri...</td>\n",
       "    </tr>\n",
       "    <tr>\n",
       "      <th>1</th>\n",
       "      <td>Ben &amp; Jerry's @Ben &amp; Jerry's https://www.insta...</td>\n",
       "    </tr>\n",
       "    <tr>\n",
       "      <th>2</th>\n",
       "      <td>When Wendell Williams uses your shot...Go Texa...</td>\n",
       "    </tr>\n",
       "    <tr>\n",
       "      <th>3</th>\n",
       "      <td>WINNER #2 @DemChaLeo #JSHADES #GIVEAWAY #AMBAS...</td>\n",
       "    </tr>\n",
       "    <tr>\n",
       "      <th>4</th>\n",
       "      <td>If you have never heard of @ShopMissA thank me...</td>\n",
       "    </tr>\n",
       "  </tbody>\n",
       "</table>\n",
       "</div>"
      ],
      "text/plain": [
       "                                               tweet\n",
       "0  My hurricane sundae cookies and creme!! #hurri...\n",
       "1  Ben & Jerry's @Ben & Jerry's https://www.insta...\n",
       "2  When Wendell Williams uses your shot...Go Texa...\n",
       "3  WINNER #2 @DemChaLeo #JSHADES #GIVEAWAY #AMBAS...\n",
       "4  If you have never heard of @ShopMissA thank me..."
      ]
     },
     "execution_count": 113,
     "metadata": {},
     "output_type": "execute_result"
    }
   ],
   "source": [
    "harvey_unfiltered[harvey_unfiltered.tweet.str.contains('http')][['tweet']].head()"
   ]
  },
  {
   "cell_type": "code",
   "execution_count": 114,
   "metadata": {},
   "outputs": [],
   "source": [
    "harvey_unfiltered['tweet'] = harvey_unfiltered['tweet'].map(lambda x: re.sub('http.+\\/', ' ', x))\n",
    "harvey_unfiltered['tweet'] = harvey_unfiltered['tweet'].map(lambda x: re.sub('http.+%2', ' ', x))\n",
    "harvey_unfiltered['tweet'] = harvey_unfiltered['tweet'].map(lambda x: re.sub('rt', ' ', x, count=1).strip())\n",
    "harvey_unfiltered['tweet'] = harvey_unfiltered.tweet.str.replace('&amp;', '').str.strip()\n",
    "harvey_unfiltered['tweet'] = harvey_unfiltered.tweet.apply(lambda x: re.sub('[^a-zA-Z0-9]', ' ', x))\n",
    "harvey_unfiltered['tweet'] = harvey_unfiltered.tweet.apply(lambda x: x.lower())\n",
    "harvey_unfiltered['tweet'] = harvey_unfiltered['tweet'].map(lambda x: re.sub('twitter', ' ', x).strip())\n",
    "harvey_unfiltered['tweet'] = harvey_unfiltered['tweet'].map(lambda x: re.sub('com', ' ', x).strip())"
   ]
  },
  {
   "cell_type": "code",
   "execution_count": 115,
   "metadata": {},
   "outputs": [],
   "source": [
    "pd.set_option('max_colwidth', 50)"
   ]
  },
  {
   "cell_type": "code",
   "execution_count": 116,
   "metadata": {},
   "outputs": [
    {
     "data": {
      "text/html": [
       "<div>\n",
       "<style scoped>\n",
       "    .dataframe tbody tr th:only-of-type {\n",
       "        vertical-align: middle;\n",
       "    }\n",
       "\n",
       "    .dataframe tbody tr th {\n",
       "        vertical-align: top;\n",
       "    }\n",
       "\n",
       "    .dataframe thead th {\n",
       "        text-align: right;\n",
       "    }\n",
       "</style>\n",
       "<table border=\"1\" class=\"dataframe\">\n",
       "  <thead>\n",
       "    <tr style=\"text-align: right;\">\n",
       "      <th></th>\n",
       "      <th>tweet</th>\n",
       "    </tr>\n",
       "  </thead>\n",
       "  <tbody>\n",
       "  </tbody>\n",
       "</table>\n",
       "</div>"
      ],
      "text/plain": [
       "Empty DataFrame\n",
       "Columns: [tweet]\n",
       "Index: []"
      ]
     },
     "execution_count": 116,
     "metadata": {},
     "output_type": "execute_result"
    }
   ],
   "source": [
    "harvey_unfiltered[harvey_unfiltered.tweet.str.contains('http')][['tweet']].head()"
   ]
  },
  {
   "cell_type": "code",
   "execution_count": 117,
   "metadata": {},
   "outputs": [],
   "source": [
    "hup = preprocessed_columns(dataframe = harvey_unfiltered)"
   ]
  },
  {
   "cell_type": "code",
   "execution_count": 118,
   "metadata": {},
   "outputs": [],
   "source": [
    "tf_hup = tf.transform(hup['tokenized'])"
   ]
  },
  {
   "cell_type": "code",
   "execution_count": 119,
   "metadata": {},
   "outputs": [],
   "source": [
    "hup['label'] = lr.predict(tf_hup)"
   ]
  },
  {
   "cell_type": "code",
   "execution_count": 120,
   "metadata": {},
   "outputs": [
    {
     "data": {
      "text/plain": [
       "0    2325\n",
       "1     392\n",
       "Name: label, dtype: int64"
      ]
     },
     "execution_count": 120,
     "metadata": {},
     "output_type": "execute_result"
    }
   ],
   "source": [
    "hup['label'].value_counts()"
   ]
  },
  {
   "cell_type": "code",
   "execution_count": 121,
   "metadata": {},
   "outputs": [],
   "source": [
    "cv_hup = CountVectorizer(stop_words = 'english',\n",
    "                           ngram_range = (1,2),\n",
    "                           min_df = 25,\n",
    "                           max_df = .95)"
   ]
  },
  {
   "cell_type": "code",
   "execution_count": 122,
   "metadata": {},
   "outputs": [],
   "source": [
    "cv_df_hup = pd.SparseDataFrame(cv_hup.fit_transform(hup['tokenized']),\n",
    "                                 columns = cv_hup.get_feature_names())\n",
    "cv_df_hup.fillna(0, inplace=True)"
   ]
  },
  {
   "cell_type": "code",
   "execution_count": 123,
   "metadata": {},
   "outputs": [
    {
     "data": {
      "text/html": [
       "<div>\n",
       "<style scoped>\n",
       "    .dataframe tbody tr th:only-of-type {\n",
       "        vertical-align: middle;\n",
       "    }\n",
       "\n",
       "    .dataframe tbody tr th {\n",
       "        vertical-align: top;\n",
       "    }\n",
       "\n",
       "    .dataframe thead th {\n",
       "        text-align: right;\n",
       "    }\n",
       "</style>\n",
       "<table border=\"1\" class=\"dataframe\">\n",
       "  <thead>\n",
       "    <tr style=\"text-align: right;\">\n",
       "      <th></th>\n",
       "      <th>00</th>\n",
       "      <th>000</th>\n",
       "      <th>01pm</th>\n",
       "      <th>01pm 26</th>\n",
       "      <th>08</th>\n",
       "      <th>08 26</th>\n",
       "      <th>10</th>\n",
       "      <th>10 17pm</th>\n",
       "      <th>11</th>\n",
       "      <th>11 01pm</th>\n",
       "      <th>...</th>\n",
       "      <th>wx id1102231742</th>\n",
       "      <th>ya</th>\n",
       "      <th>yeah</th>\n",
       "      <th>year</th>\n",
       "      <th>years</th>\n",
       "      <th>yes</th>\n",
       "      <th>yes entire</th>\n",
       "      <th>yesterday</th>\n",
       "      <th>youtube</th>\n",
       "      <th>youtube video</th>\n",
       "    </tr>\n",
       "  </thead>\n",
       "  <tbody>\n",
       "    <tr>\n",
       "      <th>0</th>\n",
       "      <td>0</td>\n",
       "      <td>0</td>\n",
       "      <td>0</td>\n",
       "      <td>0</td>\n",
       "      <td>0</td>\n",
       "      <td>0</td>\n",
       "      <td>0</td>\n",
       "      <td>0</td>\n",
       "      <td>0</td>\n",
       "      <td>0</td>\n",
       "      <td>...</td>\n",
       "      <td>0</td>\n",
       "      <td>0</td>\n",
       "      <td>0</td>\n",
       "      <td>0</td>\n",
       "      <td>0</td>\n",
       "      <td>0</td>\n",
       "      <td>0</td>\n",
       "      <td>0</td>\n",
       "      <td>0</td>\n",
       "      <td>0</td>\n",
       "    </tr>\n",
       "    <tr>\n",
       "      <th>1</th>\n",
       "      <td>0</td>\n",
       "      <td>0</td>\n",
       "      <td>0</td>\n",
       "      <td>0</td>\n",
       "      <td>0</td>\n",
       "      <td>0</td>\n",
       "      <td>0</td>\n",
       "      <td>0</td>\n",
       "      <td>0</td>\n",
       "      <td>0</td>\n",
       "      <td>...</td>\n",
       "      <td>0</td>\n",
       "      <td>0</td>\n",
       "      <td>0</td>\n",
       "      <td>0</td>\n",
       "      <td>0</td>\n",
       "      <td>0</td>\n",
       "      <td>0</td>\n",
       "      <td>0</td>\n",
       "      <td>0</td>\n",
       "      <td>0</td>\n",
       "    </tr>\n",
       "    <tr>\n",
       "      <th>2</th>\n",
       "      <td>0</td>\n",
       "      <td>0</td>\n",
       "      <td>0</td>\n",
       "      <td>0</td>\n",
       "      <td>0</td>\n",
       "      <td>0</td>\n",
       "      <td>0</td>\n",
       "      <td>0</td>\n",
       "      <td>0</td>\n",
       "      <td>0</td>\n",
       "      <td>...</td>\n",
       "      <td>0</td>\n",
       "      <td>0</td>\n",
       "      <td>0</td>\n",
       "      <td>0</td>\n",
       "      <td>0</td>\n",
       "      <td>0</td>\n",
       "      <td>0</td>\n",
       "      <td>0</td>\n",
       "      <td>0</td>\n",
       "      <td>0</td>\n",
       "    </tr>\n",
       "    <tr>\n",
       "      <th>3</th>\n",
       "      <td>0</td>\n",
       "      <td>0</td>\n",
       "      <td>0</td>\n",
       "      <td>0</td>\n",
       "      <td>0</td>\n",
       "      <td>0</td>\n",
       "      <td>0</td>\n",
       "      <td>0</td>\n",
       "      <td>0</td>\n",
       "      <td>0</td>\n",
       "      <td>...</td>\n",
       "      <td>0</td>\n",
       "      <td>0</td>\n",
       "      <td>0</td>\n",
       "      <td>0</td>\n",
       "      <td>0</td>\n",
       "      <td>0</td>\n",
       "      <td>0</td>\n",
       "      <td>0</td>\n",
       "      <td>0</td>\n",
       "      <td>0</td>\n",
       "    </tr>\n",
       "    <tr>\n",
       "      <th>4</th>\n",
       "      <td>0</td>\n",
       "      <td>0</td>\n",
       "      <td>0</td>\n",
       "      <td>0</td>\n",
       "      <td>0</td>\n",
       "      <td>0</td>\n",
       "      <td>0</td>\n",
       "      <td>0</td>\n",
       "      <td>0</td>\n",
       "      <td>0</td>\n",
       "      <td>...</td>\n",
       "      <td>0</td>\n",
       "      <td>0</td>\n",
       "      <td>0</td>\n",
       "      <td>0</td>\n",
       "      <td>0</td>\n",
       "      <td>0</td>\n",
       "      <td>0</td>\n",
       "      <td>0</td>\n",
       "      <td>0</td>\n",
       "      <td>0</td>\n",
       "    </tr>\n",
       "  </tbody>\n",
       "</table>\n",
       "<p>5 rows × 1214 columns</p>\n",
       "</div>"
      ],
      "text/plain": [
       "   00  000  01pm  01pm 26  08  08 26  10  10 17pm  11  11 01pm  ...  \\\n",
       "0   0    0     0        0   0      0   0        0   0        0  ...   \n",
       "1   0    0     0        0   0      0   0        0   0        0  ...   \n",
       "2   0    0     0        0   0      0   0        0   0        0  ...   \n",
       "3   0    0     0        0   0      0   0        0   0        0  ...   \n",
       "4   0    0     0        0   0      0   0        0   0        0  ...   \n",
       "\n",
       "   wx id1102231742  ya  yeah  year  years  yes  yes entire  yesterday  \\\n",
       "0                0   0     0     0      0    0           0          0   \n",
       "1                0   0     0     0      0    0           0          0   \n",
       "2                0   0     0     0      0    0           0          0   \n",
       "3                0   0     0     0      0    0           0          0   \n",
       "4                0   0     0     0      0    0           0          0   \n",
       "\n",
       "   youtube  youtube video  \n",
       "0        0              0  \n",
       "1        0              0  \n",
       "2        0              0  \n",
       "3        0              0  \n",
       "4        0              0  \n",
       "\n",
       "[5 rows x 1214 columns]"
      ]
     },
     "execution_count": 123,
     "metadata": {},
     "output_type": "execute_result"
    }
   ],
   "source": [
    "cv_df_htown.head()"
   ]
  },
  {
   "cell_type": "code",
   "execution_count": 124,
   "metadata": {},
   "outputs": [
    {
     "data": {
      "image/png": "[encoded data removed]",
      "text/plain": [
       "<Figure size 1440x720 with 1 Axes>"
      ]
     },
     "metadata": {
      "needs_background": "light"
     },
     "output_type": "display_data"
    }
   ],
   "source": [
    "plt.figure(figsize=(20, 10))\n",
    "plt.barh(y = cv_df_hup.sum().sort_values(ascending=False).head(20).index,\n",
    "         width = cv_df_hup.sum().sort_values(ascending=False).head(20))\n",
    "plt.title('Top Word Count', fontsize=30)\n",
    "plt.xlabel('Count', fontsize=15)\n",
    "plt.xticks(fontsize=25)\n",
    "plt.yticks(fontsize=25);"
   ]
  },
  {
   "cell_type": "code",
   "execution_count": 125,
   "metadata": {},
   "outputs": [],
   "source": [
    "hup_on = hup[hup['label'] == 1]\n",
    "hup_off = hup[hup['label'] == 0]"
   ]
  },
  {
   "cell_type": "code",
   "execution_count": 126,
   "metadata": {},
   "outputs": [],
   "source": [
    "english_stops = set(stopwords.words('english'))\n",
    "\n",
    "tokenizer = RegexpTokenizer(r'\\w+')\n",
    "\n",
    "hup_ontopic_tokens = [tokenizer.tokenize(tweet.lower()) for tweet in hup_on['tweet']]\n",
    "\n",
    "clean_hup_tweet_tokens = []\n",
    "for tweet in hup_ontopic_tokens:\n",
    "    clean_tweet_tokens = []\n",
    "    for word in tweet:\n",
    "        if word not in english_stops and word not in ['hurricaneharvey', 'harvey'] and '@' not in word:\n",
    "            clean_tweet_tokens.append(word)\n",
    "    clean_hup_tweet_tokens.append(clean_tweet_tokens)"
   ]
  },
  {
   "cell_type": "code",
   "execution_count": 127,
   "metadata": {},
   "outputs": [],
   "source": [
    "####################\n",
    "# THIS IS THE NLP STEP. THE LOOP WILL TURN EACH WORD IN YOUR LIST OF TOKENIZED TWEETS (or \n",
    "#... tokenized sentences) INTO A VECTOR, CLASSIFY THE WORD AS EMERGENCY OR NON-EMERGENCY USING COSINE\n",
    "#... SIMILARITY, AND ASSIGN THE ENTIRE TWEET (or sentence) A VALUE BASED OFF OF THE BASELINE CLASSIFICATION\n",
    "#... SCORE.\n",
    "####################\n",
    "\n",
    "target_hup = [] # WE WILL FILL THIS WITH OUR CLASSIFICATIONS FOR EACH FULL TWEET\n",
    "for tweet in clean_hup_tweet_tokens:\n",
    "    \n",
    "    counter=0\n",
    "    for item in tweet:\n",
    "        \n",
    "        temp_vect = np.zeros((1, 300))\n",
    "        if item not in vec_mod.vocab.keys(): # IF WORD NOT IN Word2Vec MODEL, IT IS NOT INCLUDED\n",
    "            continue\n",
    "        else:\n",
    "            temp_vect = temp_vect + vec_mod.word_vec(item)\n",
    "            counter += 1\n",
    "    if counter==0:\n",
    "        counter=1\n",
    "    temp_vect = np.squeeze(temp_vect)/counter\n",
    "        \n",
    "        # THE BELOW STEP IS CALCULATING AND COMPARING THE COSINE SIMILARITIES. THE DOT PRODUCT IS CALCULATED\n",
    "        #... FOR THE TWEET VECTOR AND THE EMERGENCY VECTOR AND FOR THE TWEET VECTOR AND THE NON-EMERGENCY\n",
    "        #... VECTOR. AFTER CALCULATING THE DOT PRODUCT, WE DIVIDE BY THE ABS. VALUE OF THE TWO GIVEN VECTORS\n",
    "        #... TO GET THE COSINE VALUE FOR THE ANGLE BETWEEN THE VECTORS. THE GREATER THE COSINE VALUE, THE CLOSER\n",
    "        #... TWO VECTORS ARE TO ONE ANOTHER, AND TWEETS ARE ASSIGNED A CLASSIFICATION OF EMERGENCY OR NON-\n",
    "        #... EMERGENCY ACCORDINGLY\n",
    "    if np.dot(temp_vect, urgent_vect)/(np.linalg.norm(urgent_vect)*np.linalg.norm(temp_vect)) >= np.dot(temp_vect,nonurgent_vect)/(np.linalg.norm(nonurgent_vect)*np.linalg.norm(temp_vect)):\n",
    "        target_hup.append(2)\n",
    "    else:\n",
    "        target_hup.append(1)\n",
    "        "
   ]
  },
  {
   "cell_type": "code",
   "execution_count": 128,
   "metadata": {},
   "outputs": [],
   "source": [
    "hup_on['label'] = target_hup"
   ]
  },
  {
   "cell_type": "code",
   "execution_count": 129,
   "metadata": {},
   "outputs": [
    {
     "data": {
      "text/plain": [
       "1    204\n",
       "2    188\n",
       "Name: label, dtype: int64"
      ]
     },
     "execution_count": 129,
     "metadata": {},
     "output_type": "execute_result"
    }
   ],
   "source": [
    "hup_on['label'].value_counts()"
   ]
  },
  {
   "cell_type": "code",
   "execution_count": 130,
   "metadata": {},
   "outputs": [],
   "source": [
    "hup_labeled = pd.concat([hup_on, hup_off])\n",
    "\n",
    "hup_labeled.sort_index(inplace = True)"
   ]
  },
  {
   "cell_type": "code",
   "execution_count": 131,
   "metadata": {},
   "outputs": [
    {
     "data": {
      "text/plain": [
       "0    2325\n",
       "1     204\n",
       "2     188\n",
       "Name: label, dtype: int64"
      ]
     },
     "execution_count": 131,
     "metadata": {},
     "output_type": "execute_result"
    }
   ],
   "source": [
    "hup_labeled['label'].value_counts()"
   ]
  },
  {
   "cell_type": "code",
   "execution_count": 132,
   "metadata": {},
   "outputs": [],
   "source": [
    "# hup_labeled.to_csv('./data/harvey_unfiltered_labeled.csv', index = False)"
   ]
  },
  {
   "cell_type": "code",
   "execution_count": null,
   "metadata": {},
   "outputs": [],
   "source": []
  },
  {
   "cell_type": "markdown",
   "metadata": {},
   "source": [
    "## Omaha"
   ]
  },
  {
   "cell_type": "code",
   "execution_count": 133,
   "metadata": {},
   "outputs": [],
   "source": [
    "russ = pd.read_csv('./data/russ_test.csv')\n",
    "russ.drop(['Unnamed: 0', 'username', 'date', 'hashtags', 'geo', 'type'], axis = 1, inplace = True)"
   ]
  },
  {
   "cell_type": "code",
   "execution_count": 134,
   "metadata": {},
   "outputs": [
    {
     "data": {
      "text/html": [
       "<div>\n",
       "<style scoped>\n",
       "    .dataframe tbody tr th:only-of-type {\n",
       "        vertical-align: middle;\n",
       "    }\n",
       "\n",
       "    .dataframe tbody tr th {\n",
       "        vertical-align: top;\n",
       "    }\n",
       "\n",
       "    .dataframe thead th {\n",
       "        text-align: right;\n",
       "    }\n",
       "</style>\n",
       "<table border=\"1\" class=\"dataframe\">\n",
       "  <thead>\n",
       "    <tr style=\"text-align: right;\">\n",
       "      <th></th>\n",
       "      <th>id</th>\n",
       "      <th>text</th>\n",
       "    </tr>\n",
       "  </thead>\n",
       "  <tbody>\n",
       "    <tr>\n",
       "      <th>0</th>\n",
       "      <td>1107793693753438209</td>\n",
       "      <td>But he doesn’t get paid to play defense</td>\n",
       "    </tr>\n",
       "    <tr>\n",
       "      <th>1</th>\n",
       "      <td>1107793614728499201</td>\n",
       "      <td>Contact has been made between Nebraska and Hoi...</td>\n",
       "    </tr>\n",
       "    <tr>\n",
       "      <th>2</th>\n",
       "      <td>1107793592012165120</td>\n",
       "      <td>Thank you for an excellent chat @DrJacieMaslyk...</td>\n",
       "    </tr>\n",
       "    <tr>\n",
       "      <th>3</th>\n",
       "      <td>1107793315716648960</td>\n",
       "      <td>I can’t wait to marry Pete Davidson one day</td>\n",
       "    </tr>\n",
       "    <tr>\n",
       "      <th>4</th>\n",
       "      <td>1107792860986990599</td>\n",
       "      <td>https://www.instagram.com/p/BvKzq92hgLC/?utm_s...</td>\n",
       "    </tr>\n",
       "  </tbody>\n",
       "</table>\n",
       "</div>"
      ],
      "text/plain": [
       "                    id                                               text\n",
       "0  1107793693753438209            But he doesn’t get paid to play defense\n",
       "1  1107793614728499201  Contact has been made between Nebraska and Hoi...\n",
       "2  1107793592012165120  Thank you for an excellent chat @DrJacieMaslyk...\n",
       "3  1107793315716648960        I can’t wait to marry Pete Davidson one day\n",
       "4  1107792860986990599  https://www.instagram.com/p/BvKzq92hgLC/?utm_s..."
      ]
     },
     "execution_count": 134,
     "metadata": {},
     "output_type": "execute_result"
    }
   ],
   "source": [
    "russ.head()"
   ]
  },
  {
   "cell_type": "code",
   "execution_count": 135,
   "metadata": {},
   "outputs": [],
   "source": [
    "russ.rename(columns = {'text': 'tweet'}, inplace = True)"
   ]
  },
  {
   "cell_type": "code",
   "execution_count": 136,
   "metadata": {},
   "outputs": [
    {
     "data": {
      "text/plain": [
       "id        0\n",
       "tweet    15\n",
       "dtype: int64"
      ]
     },
     "execution_count": 136,
     "metadata": {},
     "output_type": "execute_result"
    }
   ],
   "source": [
    "russ.isnull().sum()"
   ]
  },
  {
   "cell_type": "code",
   "execution_count": 137,
   "metadata": {},
   "outputs": [],
   "source": [
    "russ.dropna(inplace = True)"
   ]
  },
  {
   "cell_type": "code",
   "execution_count": 138,
   "metadata": {},
   "outputs": [
    {
     "data": {
      "text/plain": [
       "(3268, 2)"
      ]
     },
     "execution_count": 138,
     "metadata": {},
     "output_type": "execute_result"
    }
   ],
   "source": [
    "russ.shape"
   ]
  },
  {
   "cell_type": "code",
   "execution_count": 139,
   "metadata": {},
   "outputs": [],
   "source": [
    "russ['tweet'] = russ.tweet.str.replace('&amp;', '').str.strip()\n",
    "russ['tweet'] = russ.tweet.apply(lambda x: re.sub('[^a-zA-Z0-9]', ' ', x))\n",
    "russ['tweet'] = russ.tweet.apply(lambda x: x.lower())\n",
    "russ['tweet'] = russ.tweet.map(lambda x: re.sub('http.+\\/', ' ', x))\n",
    "russ['tweet'] = russ.tweet.map(lambda x: re.sub('http.+%2', ' ', x))"
   ]
  },
  {
   "cell_type": "code",
   "execution_count": 140,
   "metadata": {},
   "outputs": [],
   "source": [
    "russ_pro = preprocessed_columns(dataframe = russ)"
   ]
  },
  {
   "cell_type": "code",
   "execution_count": 141,
   "metadata": {},
   "outputs": [
    {
     "data": {
      "text/html": [
       "<div>\n",
       "<style scoped>\n",
       "    .dataframe tbody tr th:only-of-type {\n",
       "        vertical-align: middle;\n",
       "    }\n",
       "\n",
       "    .dataframe tbody tr th {\n",
       "        vertical-align: top;\n",
       "    }\n",
       "\n",
       "    .dataframe thead th {\n",
       "        text-align: right;\n",
       "    }\n",
       "</style>\n",
       "<table border=\"1\" class=\"dataframe\">\n",
       "  <thead>\n",
       "    <tr style=\"text-align: right;\">\n",
       "      <th></th>\n",
       "      <th>id</th>\n",
       "      <th>tweet</th>\n",
       "      <th>tokenized</th>\n",
       "      <th>lemmatized</th>\n",
       "      <th>stemmed</th>\n",
       "    </tr>\n",
       "  </thead>\n",
       "  <tbody>\n",
       "    <tr>\n",
       "      <th>0</th>\n",
       "      <td>1107793693753438209</td>\n",
       "      <td>but he doesn t get paid to play defense</td>\n",
       "      <td>but he doesn t get paid to play defense</td>\n",
       "      <td>but he doesn t get paid to play defense</td>\n",
       "      <td>but he doesn t get paid to play defens</td>\n",
       "    </tr>\n",
       "    <tr>\n",
       "      <th>1</th>\n",
       "      <td>1107793614728499201</td>\n",
       "      <td>contact has been made between nebraska and hoi...</td>\n",
       "      <td>contact has been made between nebraska and hoi...</td>\n",
       "      <td>contact ha been made between nebraska and hoib...</td>\n",
       "      <td>contact ha been made between nebraska and hoib...</td>\n",
       "    </tr>\n",
       "    <tr>\n",
       "      <th>2</th>\n",
       "      <td>1107793592012165120</td>\n",
       "      <td>thank you for an excellent chat  drjaciemaslyk...</td>\n",
       "      <td>thank you for an excellent chat drjaciemaslyk ...</td>\n",
       "      <td>thank you for an excellent chat drjaciemaslyk ...</td>\n",
       "      <td>thank you for an excel chat drjaciemaslyk form...</td>\n",
       "    </tr>\n",
       "    <tr>\n",
       "      <th>3</th>\n",
       "      <td>1107793315716648960</td>\n",
       "      <td>i can t wait to marry pete davidson one day</td>\n",
       "      <td>i can t wait to marry pete davidson one day</td>\n",
       "      <td>i can t wait to marry pete davidson one day</td>\n",
       "      <td>i can t wait to marri pete davidson one day</td>\n",
       "    </tr>\n",
       "    <tr>\n",
       "      <th>4</th>\n",
       "      <td>1107792860986990599</td>\n",
       "      <td>https   www instagram com p bvkzq92hglc  utm s...</td>\n",
       "      <td>https www instagram com p bvkzq92hglc utm sour...</td>\n",
       "      <td>http www instagram com p bvkzq92hglc utm sourc...</td>\n",
       "      <td>http www instagram com p bvkzq92hglc utm sourc...</td>\n",
       "    </tr>\n",
       "  </tbody>\n",
       "</table>\n",
       "</div>"
      ],
      "text/plain": [
       "                    id                                              tweet  \\\n",
       "0  1107793693753438209            but he doesn t get paid to play defense   \n",
       "1  1107793614728499201  contact has been made between nebraska and hoi...   \n",
       "2  1107793592012165120  thank you for an excellent chat  drjaciemaslyk...   \n",
       "3  1107793315716648960        i can t wait to marry pete davidson one day   \n",
       "4  1107792860986990599  https   www instagram com p bvkzq92hglc  utm s...   \n",
       "\n",
       "                                           tokenized  \\\n",
       "0            but he doesn t get paid to play defense   \n",
       "1  contact has been made between nebraska and hoi...   \n",
       "2  thank you for an excellent chat drjaciemaslyk ...   \n",
       "3        i can t wait to marry pete davidson one day   \n",
       "4  https www instagram com p bvkzq92hglc utm sour...   \n",
       "\n",
       "                                          lemmatized  \\\n",
       "0            but he doesn t get paid to play defense   \n",
       "1  contact ha been made between nebraska and hoib...   \n",
       "2  thank you for an excellent chat drjaciemaslyk ...   \n",
       "3        i can t wait to marry pete davidson one day   \n",
       "4  http www instagram com p bvkzq92hglc utm sourc...   \n",
       "\n",
       "                                             stemmed  \n",
       "0             but he doesn t get paid to play defens  \n",
       "1  contact ha been made between nebraska and hoib...  \n",
       "2  thank you for an excel chat drjaciemaslyk form...  \n",
       "3        i can t wait to marri pete davidson one day  \n",
       "4  http www instagram com p bvkzq92hglc utm sourc...  "
      ]
     },
     "execution_count": 141,
     "metadata": {},
     "output_type": "execute_result"
    }
   ],
   "source": [
    "russ_pro.head()"
   ]
  },
  {
   "cell_type": "code",
   "execution_count": 142,
   "metadata": {},
   "outputs": [],
   "source": [
    "tf_russ = tf.transform(russ_pro['tokenized'])"
   ]
  },
  {
   "cell_type": "code",
   "execution_count": 143,
   "metadata": {},
   "outputs": [],
   "source": [
    "russ_pro['label'] = lr.predict(tf_russ)"
   ]
  },
  {
   "cell_type": "code",
   "execution_count": 144,
   "metadata": {},
   "outputs": [
    {
     "data": {
      "text/plain": [
       "0    3077\n",
       "1     191\n",
       "Name: label, dtype: int64"
      ]
     },
     "execution_count": 144,
     "metadata": {},
     "output_type": "execute_result"
    }
   ],
   "source": [
    "russ_pro['label'].value_counts()"
   ]
  },
  {
   "cell_type": "code",
   "execution_count": 145,
   "metadata": {},
   "outputs": [],
   "source": [
    "russ_pro_on = russ_pro[russ_pro['label'] == 1]\n",
    "russ_pro_off = russ_pro[russ_pro['label'] == 0]"
   ]
  },
  {
   "cell_type": "code",
   "execution_count": 146,
   "metadata": {},
   "outputs": [],
   "source": [
    "english_stops = set(stopwords.words('english'))\n",
    "\n",
    "tokenizer = RegexpTokenizer(r'\\w+')\n",
    "\n",
    "russ_ontopic_tokens = [tokenizer.tokenize(tweet.lower()) for tweet in russ_pro_on['tweet']]\n",
    "\n",
    "clean_russ_tweet_tokens = []\n",
    "for tweet in russ_ontopic_tokens:\n",
    "    clean_tweet_tokens = []\n",
    "    for word in tweet:\n",
    "        if word not in english_stops and word not in ['@','rt', 'https', 'co'] and '@' not in word:\n",
    "            clean_tweet_tokens.append(word)\n",
    "    clean_russ_tweet_tokens.append(clean_tweet_tokens)"
   ]
  },
  {
   "cell_type": "code",
   "execution_count": 147,
   "metadata": {},
   "outputs": [],
   "source": [
    "####################\n",
    "# THIS IS THE NLP STEP. THE LOOP WILL TURN EACH WORD IN YOUR LIST OF TOKENIZED TWEETS (or \n",
    "#... tokenized sentences) INTO A VECTOR, CLASSIFY THE WORD AS EMERGENCY OR NON-EMERGENCY USING COSINE\n",
    "#... SIMILARITY, AND ASSIGN THE ENTIRE TWEET (or sentence) A VALUE BASED OFF OF THE BASELINE CLASSIFICATION\n",
    "#... SCORE.\n",
    "####################\n",
    "\n",
    "russ_target = [] # WE WILL FILL THIS WITH OUR CLASSIFICATIONS FOR EACH FULL TWEET\n",
    "for tweet in clean_russ_tweet_tokens:\n",
    "    \n",
    "    counter=0\n",
    "    for item in tweet:\n",
    "        \n",
    "        temp_vect = np.zeros((1, 300))\n",
    "        if item not in vec_mod.vocab.keys(): # IF WORD NOT IN Word2Vec MODEL, IT IS NOT INCLUDED\n",
    "            continue\n",
    "        else:\n",
    "            temp_vect = temp_vect + vec_mod.word_vec(item)\n",
    "            counter += 1\n",
    "    if counter==0:\n",
    "        counter=1\n",
    "    temp_vect = np.squeeze(temp_vect)/counter\n",
    "        \n",
    "        # THE BELOW STEP IS CALCULATING AND COMPARING THE COSINE SIMILARITIES. THE DOT PRODUCT IS CALCULATED\n",
    "        #... FOR THE TWEET VECTOR AND THE EMERGENCY VECTOR AND FOR THE TWEET VECTOR AND THE NON-EMERGENCY\n",
    "        #... VECTOR. AFTER CALCULATING THE DOT PRODUCT, WE DIVIDE BY THE ABS. VALUE OF THE TWO GIVEN VECTORS\n",
    "        #... TO GET THE COSINE VALUE FOR THE ANGLE BETWEEN THE VECTORS. THE GREATER THE COSINE VALUE, THE CLOSER\n",
    "        #... TWO VECTORS ARE TO ONE ANOTHER, AND TWEETS ARE ASSIGNED A CLASSIFICATION OF EMERGENCY OR NON-\n",
    "        #... EMERGENCY ACCORDINGLY\n",
    "    if np.dot(temp_vect, urgent_vect)/(np.linalg.norm(urgent_vect)*np.linalg.norm(temp_vect)) >= np.dot(temp_vect,nonurgent_vect)/(np.linalg.norm(nonurgent_vect)*np.linalg.norm(temp_vect)):\n",
    "        russ_target.append(2)\n",
    "    else:\n",
    "        russ_target.append(1)"
   ]
  },
  {
   "cell_type": "code",
   "execution_count": 148,
   "metadata": {},
   "outputs": [],
   "source": [
    "russ_pro_on['label'] = russ_target"
   ]
  },
  {
   "cell_type": "code",
   "execution_count": 149,
   "metadata": {},
   "outputs": [
    {
     "data": {
      "text/plain": [
       "1    140\n",
       "2     51\n",
       "Name: label, dtype: int64"
      ]
     },
     "execution_count": 149,
     "metadata": {},
     "output_type": "execute_result"
    }
   ],
   "source": [
    "russ_pro_on['label'].value_counts()"
   ]
  },
  {
   "cell_type": "code",
   "execution_count": 150,
   "metadata": {},
   "outputs": [],
   "source": [
    "russ = pd.concat([russ_pro_on, russ_pro_off])\n",
    "\n",
    "russ.sort_index(inplace = True)"
   ]
  },
  {
   "cell_type": "code",
   "execution_count": 151,
   "metadata": {},
   "outputs": [
    {
     "data": {
      "text/plain": [
       "0    3077\n",
       "1     140\n",
       "2      51\n",
       "Name: label, dtype: int64"
      ]
     },
     "execution_count": 151,
     "metadata": {},
     "output_type": "execute_result"
    }
   ],
   "source": [
    "russ.label.value_counts()"
   ]
  },
  {
   "cell_type": "code",
   "execution_count": 152,
   "metadata": {},
   "outputs": [],
   "source": [
    "# russ.to_csv('./data/russ_scored.csv', index = False)"
   ]
  }
 ],
 "metadata": {
  "kernelspec": {
   "display_name": "Python 3",
   "language": "python",
   "name": "python3"
  },
  "language_info": {
   "codemirror_mode": {
    "name": "ipython",
    "version": 3
   },
   "file_extension": ".py",
   "mimetype": "text/x-python",
   "name": "python",
   "nbconvert_exporter": "python",
   "pygments_lexer": "ipython3",
   "version": "3.7.3"
  }
 },
 "nbformat": 4,
 "nbformat_minor": 2
}
